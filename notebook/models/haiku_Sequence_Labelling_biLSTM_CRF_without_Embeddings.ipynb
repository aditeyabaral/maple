{
 "cells": [
  {
   "cell_type": "markdown",
   "metadata": {
    "colab_type": "text",
    "id": "view-in-github"
   },
   "source": [
    "<a href=\"https://colab.research.google.com/github/aditeyabaral/haiku/blob/main/notebook/haiku_Sequence_Labelling_biLSTM_CRF_without_Embeddings.ipynb\" target=\"_parent\"><img src=\"https://colab.research.google.com/assets/colab-badge.svg\" alt=\"Open In Colab\"/></a>"
   ]
  },
  {
   "cell_type": "markdown",
   "metadata": {
    "id": "o4cUFX9LLHj9"
   },
   "source": [
    "# Import Library"
   ]
  },
  {
   "cell_type": "code",
   "execution_count": null,
   "metadata": {
    "colab": {
     "base_uri": "https://localhost:8080/"
    },
    "id": "fHRyMaWcgBlN",
    "outputId": "469eda01-39e7-4b84-f8cb-c2dbeadb7b20"
   },
   "outputs": [
    {
     "name": "stdout",
     "output_type": "stream",
     "text": [
      "Requirement already satisfied: keras-self-attention in /usr/local/lib/python3.7/dist-packages (0.49.0)\n",
      "Requirement already satisfied: Keras in /usr/local/lib/python3.7/dist-packages (from keras-self-attention) (2.4.3)\n",
      "Requirement already satisfied: numpy in /usr/local/lib/python3.7/dist-packages (from keras-self-attention) (1.19.5)\n",
      "Requirement already satisfied: pyyaml in /usr/local/lib/python3.7/dist-packages (from Keras->keras-self-attention) (3.13)\n",
      "Requirement already satisfied: scipy>=0.14 in /usr/local/lib/python3.7/dist-packages (from Keras->keras-self-attention) (1.4.1)\n",
      "Requirement already satisfied: h5py in /usr/local/lib/python3.7/dist-packages (from Keras->keras-self-attention) (2.10.0)\n",
      "Requirement already satisfied: six in /usr/local/lib/python3.7/dist-packages (from h5py->Keras->keras-self-attention) (1.15.0)\n",
      "Requirement already satisfied: keras-crf in /usr/local/lib/python3.7/dist-packages (0.1.1)\n",
      "Requirement already satisfied: seqeval in /usr/local/lib/python3.7/dist-packages (from keras-crf) (1.2.2)\n",
      "Requirement already satisfied: tensorflow in /usr/local/lib/python3.7/dist-packages (from keras-crf) (2.4.1)\n",
      "Requirement already satisfied: tensorflow-addons in /usr/local/lib/python3.7/dist-packages (from keras-crf) (0.12.1)\n",
      "Requirement already satisfied: scikit-learn>=0.21.3 in /usr/local/lib/python3.7/dist-packages (from seqeval->keras-crf) (0.22.2.post1)\n",
      "Requirement already satisfied: numpy>=1.14.0 in /usr/local/lib/python3.7/dist-packages (from seqeval->keras-crf) (1.19.5)\n",
      "Requirement already satisfied: six~=1.15.0 in /usr/local/lib/python3.7/dist-packages (from tensorflow->keras-crf) (1.15.0)\n",
      "Requirement already satisfied: google-pasta~=0.2 in /usr/local/lib/python3.7/dist-packages (from tensorflow->keras-crf) (0.2.0)\n",
      "Requirement already satisfied: wrapt~=1.12.1 in /usr/local/lib/python3.7/dist-packages (from tensorflow->keras-crf) (1.12.1)\n",
      "Requirement already satisfied: flatbuffers~=1.12.0 in /usr/local/lib/python3.7/dist-packages (from tensorflow->keras-crf) (1.12)\n",
      "Requirement already satisfied: tensorboard~=2.4 in /usr/local/lib/python3.7/dist-packages (from tensorflow->keras-crf) (2.4.1)\n",
      "Requirement already satisfied: protobuf>=3.9.2 in /usr/local/lib/python3.7/dist-packages (from tensorflow->keras-crf) (3.12.4)\n",
      "Requirement already satisfied: opt-einsum~=3.3.0 in /usr/local/lib/python3.7/dist-packages (from tensorflow->keras-crf) (3.3.0)\n",
      "Requirement already satisfied: grpcio~=1.32.0 in /usr/local/lib/python3.7/dist-packages (from tensorflow->keras-crf) (1.32.0)\n",
      "Requirement already satisfied: h5py~=2.10.0 in /usr/local/lib/python3.7/dist-packages (from tensorflow->keras-crf) (2.10.0)\n",
      "Requirement already satisfied: astunparse~=1.6.3 in /usr/local/lib/python3.7/dist-packages (from tensorflow->keras-crf) (1.6.3)\n",
      "Requirement already satisfied: termcolor~=1.1.0 in /usr/local/lib/python3.7/dist-packages (from tensorflow->keras-crf) (1.1.0)\n",
      "Requirement already satisfied: tensorflow-estimator<2.5.0,>=2.4.0 in /usr/local/lib/python3.7/dist-packages (from tensorflow->keras-crf) (2.4.0)\n",
      "Requirement already satisfied: wheel~=0.35 in /usr/local/lib/python3.7/dist-packages (from tensorflow->keras-crf) (0.36.2)\n",
      "Requirement already satisfied: typing-extensions~=3.7.4 in /usr/local/lib/python3.7/dist-packages (from tensorflow->keras-crf) (3.7.4.3)\n",
      "Requirement already satisfied: keras-preprocessing~=1.1.2 in /usr/local/lib/python3.7/dist-packages (from tensorflow->keras-crf) (1.1.2)\n",
      "Requirement already satisfied: absl-py~=0.10 in /usr/local/lib/python3.7/dist-packages (from tensorflow->keras-crf) (0.12.0)\n",
      "Requirement already satisfied: gast==0.3.3 in /usr/local/lib/python3.7/dist-packages (from tensorflow->keras-crf) (0.3.3)\n",
      "Requirement already satisfied: typeguard>=2.7 in /usr/local/lib/python3.7/dist-packages (from tensorflow-addons->keras-crf) (2.7.1)\n",
      "Requirement already satisfied: joblib>=0.11 in /usr/local/lib/python3.7/dist-packages (from scikit-learn>=0.21.3->seqeval->keras-crf) (1.0.1)\n",
      "Requirement already satisfied: scipy>=0.17.0 in /usr/local/lib/python3.7/dist-packages (from scikit-learn>=0.21.3->seqeval->keras-crf) (1.4.1)\n",
      "Requirement already satisfied: markdown>=2.6.8 in /usr/local/lib/python3.7/dist-packages (from tensorboard~=2.4->tensorflow->keras-crf) (3.3.4)\n",
      "Requirement already satisfied: werkzeug>=0.11.15 in /usr/local/lib/python3.7/dist-packages (from tensorboard~=2.4->tensorflow->keras-crf) (1.0.1)\n",
      "Requirement already satisfied: setuptools>=41.0.0 in /usr/local/lib/python3.7/dist-packages (from tensorboard~=2.4->tensorflow->keras-crf) (54.2.0)\n",
      "Requirement already satisfied: google-auth<2,>=1.6.3 in /usr/local/lib/python3.7/dist-packages (from tensorboard~=2.4->tensorflow->keras-crf) (1.28.0)\n",
      "Requirement already satisfied: requests<3,>=2.21.0 in /usr/local/lib/python3.7/dist-packages (from tensorboard~=2.4->tensorflow->keras-crf) (2.23.0)\n",
      "Requirement already satisfied: google-auth-oauthlib<0.5,>=0.4.1 in /usr/local/lib/python3.7/dist-packages (from tensorboard~=2.4->tensorflow->keras-crf) (0.4.3)\n",
      "Requirement already satisfied: tensorboard-plugin-wit>=1.6.0 in /usr/local/lib/python3.7/dist-packages (from tensorboard~=2.4->tensorflow->keras-crf) (1.8.0)\n",
      "Requirement already satisfied: importlib-metadata; python_version < \"3.8\" in /usr/local/lib/python3.7/dist-packages (from markdown>=2.6.8->tensorboard~=2.4->tensorflow->keras-crf) (3.8.1)\n",
      "Requirement already satisfied: cachetools<5.0,>=2.0.0 in /usr/local/lib/python3.7/dist-packages (from google-auth<2,>=1.6.3->tensorboard~=2.4->tensorflow->keras-crf) (4.2.1)\n",
      "Requirement already satisfied: rsa<5,>=3.1.4; python_version >= \"3.6\" in /usr/local/lib/python3.7/dist-packages (from google-auth<2,>=1.6.3->tensorboard~=2.4->tensorflow->keras-crf) (4.7.2)\n",
      "Requirement already satisfied: pyasn1-modules>=0.2.1 in /usr/local/lib/python3.7/dist-packages (from google-auth<2,>=1.6.3->tensorboard~=2.4->tensorflow->keras-crf) (0.2.8)\n",
      "Requirement already satisfied: chardet<4,>=3.0.2 in /usr/local/lib/python3.7/dist-packages (from requests<3,>=2.21.0->tensorboard~=2.4->tensorflow->keras-crf) (3.0.4)\n",
      "Requirement already satisfied: urllib3!=1.25.0,!=1.25.1,<1.26,>=1.21.1 in /usr/local/lib/python3.7/dist-packages (from requests<3,>=2.21.0->tensorboard~=2.4->tensorflow->keras-crf) (1.24.3)\n",
      "Requirement already satisfied: idna<3,>=2.5 in /usr/local/lib/python3.7/dist-packages (from requests<3,>=2.21.0->tensorboard~=2.4->tensorflow->keras-crf) (2.10)\n",
      "Requirement already satisfied: certifi>=2017.4.17 in /usr/local/lib/python3.7/dist-packages (from requests<3,>=2.21.0->tensorboard~=2.4->tensorflow->keras-crf) (2020.12.5)\n",
      "Requirement already satisfied: requests-oauthlib>=0.7.0 in /usr/local/lib/python3.7/dist-packages (from google-auth-oauthlib<0.5,>=0.4.1->tensorboard~=2.4->tensorflow->keras-crf) (1.3.0)\n",
      "Requirement already satisfied: zipp>=0.5 in /usr/local/lib/python3.7/dist-packages (from importlib-metadata; python_version < \"3.8\"->markdown>=2.6.8->tensorboard~=2.4->tensorflow->keras-crf) (3.4.1)\n",
      "Requirement already satisfied: pyasn1>=0.1.3 in /usr/local/lib/python3.7/dist-packages (from rsa<5,>=3.1.4; python_version >= \"3.6\"->google-auth<2,>=1.6.3->tensorboard~=2.4->tensorflow->keras-crf) (0.4.8)\n",
      "Requirement already satisfied: oauthlib>=3.0.0 in /usr/local/lib/python3.7/dist-packages (from requests-oauthlib>=0.7.0->google-auth-oauthlib<0.5,>=0.4.1->tensorboard~=2.4->tensorflow->keras-crf) (3.1.0)\n"
     ]
    }
   ],
   "source": [
    "! pip install keras-self-attention\n",
    "! pip install keras-crf"
   ]
  },
  {
   "cell_type": "code",
   "execution_count": null,
   "metadata": {
    "id": "gLOj6juAMCFx"
   },
   "outputs": [],
   "source": [
    "import json\n",
    "import numpy as np\n",
    "import pandas as pd\n",
    "import re\n",
    "import string\n",
    "\n",
    "import matplotlib.pyplot as plt\n",
    "\n",
    "from keras.utils import to_categorical\n",
    "from keras.preprocessing.sequence import pad_sequences\n",
    "from sklearn.model_selection import train_test_split\n",
    "import keras\n",
    "from keras_self_attention import SeqSelfAttention\n",
    "from keras_crf import CRF\n",
    "from keras.layers import Lambda\n",
    "import tensorflow as tf\n",
    "from keras.models import Model, Input\n",
    "from keras.layers import LSTM, Embedding, Dense, TimeDistributed, Dropout, Bidirectional"
   ]
  },
  {
   "cell_type": "code",
   "execution_count": null,
   "metadata": {
    "colab": {
     "base_uri": "https://localhost:8080/"
    },
    "id": "GbivdvVVvJoU",
    "outputId": "2829bc3d-9147-4bee-ed8b-9bb26f7a0608"
   },
   "outputs": [
    {
     "name": "stdout",
     "output_type": "stream",
     "text": [
      "Drive already mounted at /content/drive; to attempt to forcibly remount, call drive.mount(\"/content/drive\", force_remount=True).\n"
     ]
    }
   ],
   "source": [
    "from google.colab import drive\n",
    "drive.mount('/content/drive')"
   ]
  },
  {
   "cell_type": "code",
   "execution_count": null,
   "metadata": {
    "id": "L0KJF8eGvLO8"
   },
   "outputs": [],
   "source": [
    "with open (\"/content/drive/MyDrive/Colab Notebooks/NLP/dataset.json\") as d:\n",
    "  dfd_json = json.load(d)"
   ]
  },
  {
   "cell_type": "markdown",
   "metadata": {
    "id": "0ko5-eUsvXBG"
   },
   "source": [
    "# Dataset Generation"
   ]
  },
  {
   "cell_type": "code",
   "execution_count": null,
   "metadata": {
    "id": "DPFplqkSQiPX"
   },
   "outputs": [],
   "source": [
    "poems = list()\n",
    "haikus = list()\n",
    "indices = list()\n",
    "\n",
    "MIN_THRESHOLD_HAIKU = 5\n",
    "MAX_THRESHOLD_POEM = 120\n",
    "\n",
    "for dataset in dfd_json:\n",
    "  for poem in dataset:\n",
    "    for grammar_index in poem:\n",
    "      if grammar_index == \"poem\":\n",
    "        continue\n",
    "      else:\n",
    "        haiku_data = poem[grammar_index]\n",
    "        for haiku, index in list(haiku_data.items()):\n",
    "          if len(index) >= MIN_THRESHOLD_HAIKU and len(poem[\"poem\"].split()) <= MAX_THRESHOLD_POEM:\n",
    "            poems.append(poem[\"poem\"])\n",
    "            haikus.append(haiku)\n",
    "            indices.append(index)\n",
    "\n",
    "\n",
    "\n",
    "df = pd.DataFrame()\n",
    "df[\"poem\"] = poems\n",
    "df[\"haiku\"] = haikus\n",
    "df[\"indices\"] = indices\n",
    "df = df.drop_duplicates(subset=[\"poem\"])\n",
    "df = df.reset_index(drop=True)"
   ]
  },
  {
   "cell_type": "code",
   "execution_count": null,
   "metadata": {
    "colab": {
     "base_uri": "https://localhost:8080/"
    },
    "id": "-rSXNUhyUWpU",
    "outputId": "16c50566-a96c-42d6-df21-94575056304f"
   },
   "outputs": [
    {
     "data": {
      "text/plain": [
       "(16903, 3)"
      ]
     },
     "execution_count": 130,
     "metadata": {
      "tags": []
     },
     "output_type": "execute_result"
    }
   ],
   "source": [
    "df.shape"
   ]
  },
  {
   "cell_type": "code",
   "execution_count": null,
   "metadata": {
    "colab": {
     "base_uri": "https://localhost:8080/",
     "height": 271
    },
    "id": "EiIXyf3yMMWS",
    "outputId": "a68e1e73-aebb-41fc-ae98-68d03159f4b5"
   },
   "outputs": [
    {
     "data": {
      "text/html": [
       "<div>\n",
       "<style scoped>\n",
       "    .dataframe tbody tr th:only-of-type {\n",
       "        vertical-align: middle;\n",
       "    }\n",
       "\n",
       "    .dataframe tbody tr th {\n",
       "        vertical-align: top;\n",
       "    }\n",
       "\n",
       "    .dataframe thead th {\n",
       "        text-align: right;\n",
       "    }\n",
       "</style>\n",
       "<table border=\"1\" class=\"dataframe\">\n",
       "  <thead>\n",
       "    <tr style=\"text-align: right;\">\n",
       "      <th></th>\n",
       "      <th>poem</th>\n",
       "      <th>haiku</th>\n",
       "      <th>indices</th>\n",
       "    </tr>\n",
       "  </thead>\n",
       "  <tbody>\n",
       "    <tr>\n",
       "      <th>11404</th>\n",
       "      <td>I was conceived in the cruelest monthin whatev...</td>\n",
       "      <td>california mustera some more buckeyes on the s...</td>\n",
       "      <td>[9, 11, 14, 15, 18, 22, 23, 28]</td>\n",
       "    </tr>\n",
       "    <tr>\n",
       "      <th>5458</th>\n",
       "      <td>WHEN the flaming lute-thronged angelic door is...</td>\n",
       "      <td>door hearts the bitter faces in the sponge</td>\n",
       "      <td>[5, 17, 19, 28, 29, 32, 36, 38]</td>\n",
       "    </tr>\n",
       "    <tr>\n",
       "      <th>1992</th>\n",
       "      <td>Inspiration: ''The Black Cat'' / August,1843\\n...</td>\n",
       "      <td>thirtyfour hideous fades by the eye</td>\n",
       "      <td>[7, 18, 20, 22, 29, 34]</td>\n",
       "    </tr>\n",
       "    <tr>\n",
       "      <th>16167</th>\n",
       "      <td>On a parking lot staircase\\nI met two fine-loo...</td>\n",
       "      <td>parking slacks the other years on a son</td>\n",
       "      <td>[2, 13, 22, 28, 32, 35, 39, 40]</td>\n",
       "    </tr>\n",
       "    <tr>\n",
       "      <th>5699</th>\n",
       "      <td>Racism\\nEats you up inside.\\nPlays upon\\nyou'r...</td>\n",
       "      <td>racism perceptions that dark skin</td>\n",
       "      <td>[0, 10, 13, 20, 21]</td>\n",
       "    </tr>\n",
       "  </tbody>\n",
       "</table>\n",
       "</div>"
      ],
      "text/plain": [
       "                                                    poem  ...                          indices\n",
       "11404  I was conceived in the cruelest monthin whatev...  ...  [9, 11, 14, 15, 18, 22, 23, 28]\n",
       "5458   WHEN the flaming lute-thronged angelic door is...  ...  [5, 17, 19, 28, 29, 32, 36, 38]\n",
       "1992   Inspiration: ''The Black Cat'' / August,1843\\n...  ...          [7, 18, 20, 22, 29, 34]\n",
       "16167  On a parking lot staircase\\nI met two fine-loo...  ...  [2, 13, 22, 28, 32, 35, 39, 40]\n",
       "5699   Racism\\nEats you up inside.\\nPlays upon\\nyou'r...  ...              [0, 10, 13, 20, 21]\n",
       "\n",
       "[5 rows x 3 columns]"
      ]
     },
     "execution_count": 131,
     "metadata": {
      "tags": []
     },
     "output_type": "execute_result"
    }
   ],
   "source": [
    "df = df.sample(1000)\n",
    "df.head()"
   ]
  },
  {
   "cell_type": "code",
   "execution_count": null,
   "metadata": {
    "id": "sid46n32XFIr"
   },
   "outputs": [],
   "source": [
    "def clean(s):\n",
    "    s = s.translate(str.maketrans('', '', string.punctuation)).strip().lower()\n",
    "    return s"
   ]
  },
  {
   "cell_type": "code",
   "execution_count": null,
   "metadata": {
    "id": "ifrVaPHTMifI"
   },
   "outputs": [],
   "source": [
    "poems = list(df[\"poem\"])\n",
    "tags = list(df[\"indices\"])\n",
    "poem_no = []\n",
    "word = []\n",
    "tag = []\n",
    "\n",
    "for i in range(len(poems)):\n",
    "    poem = poems[i].split()\n",
    "\n",
    "    count_poem = [i+1] * len(poem)\n",
    "    poem_no.extend(count_poem)\n",
    "\n",
    "    word.extend(poem)\n",
    "\n",
    "    count_tag = [0] * len(poem)\n",
    "    for j in tags[i]:\n",
    "        count_tag[j] = 1\n",
    "    tag.extend(count_tag)\n",
    "\n",
    "word = list(map(clean, word))"
   ]
  },
  {
   "cell_type": "code",
   "execution_count": null,
   "metadata": {
    "id": "PodVPTT0VtDa"
   },
   "outputs": [],
   "source": [
    "dataset = {\"poem_no\" : poem_no, \"word\" : word, \"tag\" : tag}\n",
    "df = pd.DataFrame(dataset)\n",
    "df = df[df[\"word\"] != \"\"]"
   ]
  },
  {
   "cell_type": "code",
   "execution_count": null,
   "metadata": {
    "colab": {
     "base_uri": "https://localhost:8080/",
     "height": 202
    },
    "id": "nkV5140QTUeK",
    "outputId": "bc8843c0-d61b-4d60-8e3c-8b005fb0a1bf"
   },
   "outputs": [
    {
     "data": {
      "text/html": [
       "<div>\n",
       "<style scoped>\n",
       "    .dataframe tbody tr th:only-of-type {\n",
       "        vertical-align: middle;\n",
       "    }\n",
       "\n",
       "    .dataframe tbody tr th {\n",
       "        vertical-align: top;\n",
       "    }\n",
       "\n",
       "    .dataframe thead th {\n",
       "        text-align: right;\n",
       "    }\n",
       "</style>\n",
       "<table border=\"1\" class=\"dataframe\">\n",
       "  <thead>\n",
       "    <tr style=\"text-align: right;\">\n",
       "      <th></th>\n",
       "      <th>poem_no</th>\n",
       "      <th>word</th>\n",
       "      <th>tag</th>\n",
       "    </tr>\n",
       "  </thead>\n",
       "  <tbody>\n",
       "    <tr>\n",
       "      <th>0</th>\n",
       "      <td>1</td>\n",
       "      <td>i</td>\n",
       "      <td>0</td>\n",
       "    </tr>\n",
       "    <tr>\n",
       "      <th>1</th>\n",
       "      <td>1</td>\n",
       "      <td>was</td>\n",
       "      <td>0</td>\n",
       "    </tr>\n",
       "    <tr>\n",
       "      <th>2</th>\n",
       "      <td>1</td>\n",
       "      <td>conceived</td>\n",
       "      <td>0</td>\n",
       "    </tr>\n",
       "    <tr>\n",
       "      <th>3</th>\n",
       "      <td>1</td>\n",
       "      <td>in</td>\n",
       "      <td>0</td>\n",
       "    </tr>\n",
       "    <tr>\n",
       "      <th>4</th>\n",
       "      <td>1</td>\n",
       "      <td>the</td>\n",
       "      <td>0</td>\n",
       "    </tr>\n",
       "  </tbody>\n",
       "</table>\n",
       "</div>"
      ],
      "text/plain": [
       "   poem_no       word  tag\n",
       "0        1          i    0\n",
       "1        1        was    0\n",
       "2        1  conceived    0\n",
       "3        1         in    0\n",
       "4        1        the    0"
      ]
     },
     "execution_count": 135,
     "metadata": {
      "tags": []
     },
     "output_type": "execute_result"
    }
   ],
   "source": [
    "df.head()"
   ]
  },
  {
   "cell_type": "code",
   "execution_count": null,
   "metadata": {
    "colab": {
     "base_uri": "https://localhost:8080/"
    },
    "id": "e0EHetercpt2",
    "outputId": "6875687f-98ba-4c64-8115-099be5759c6a"
   },
   "outputs": [
    {
     "data": {
      "text/plain": [
       "(80271, 3)"
      ]
     },
     "execution_count": 136,
     "metadata": {
      "tags": []
     },
     "output_type": "execute_result"
    }
   ],
   "source": [
    "df.shape"
   ]
  },
  {
   "cell_type": "markdown",
   "metadata": {
    "id": "FI1QKSEYvn-N"
   },
   "source": [
    "# Model Building"
   ]
  },
  {
   "cell_type": "code",
   "execution_count": null,
   "metadata": {
    "id": "6KtgbecIYOFB"
   },
   "outputs": [],
   "source": [
    "words = list(set(df[\"word\"].values))\n",
    "words.append(\"ENDPAD\")"
   ]
  },
  {
   "cell_type": "code",
   "execution_count": null,
   "metadata": {
    "colab": {
     "base_uri": "https://localhost:8080/"
    },
    "id": "XCAdLZmkYdd_",
    "outputId": "c23cf047-256f-4712-cabf-782b347bdc4d"
   },
   "outputs": [
    {
     "data": {
      "text/plain": [
       "13311"
      ]
     },
     "execution_count": 138,
     "metadata": {
      "tags": []
     },
     "output_type": "execute_result"
    }
   ],
   "source": [
    "n_words = len(words); n_words"
   ]
  },
  {
   "cell_type": "code",
   "execution_count": null,
   "metadata": {
    "id": "gpt0ZQD1YoJ7"
   },
   "outputs": [],
   "source": [
    "tags = list(set(df[\"tag\"].values))"
   ]
  },
  {
   "cell_type": "code",
   "execution_count": null,
   "metadata": {
    "colab": {
     "base_uri": "https://localhost:8080/"
    },
    "id": "Sf6iKlDkY1RG",
    "outputId": "f9a1c792-bc0e-4c1d-ea14-719ea98cb88d"
   },
   "outputs": [
    {
     "data": {
      "text/plain": [
       "2"
      ]
     },
     "execution_count": 140,
     "metadata": {
      "tags": []
     },
     "output_type": "execute_result"
    }
   ],
   "source": [
    "n_tags = len(tags); n_tags"
   ]
  },
  {
   "cell_type": "code",
   "execution_count": null,
   "metadata": {
    "id": "XBvRExa7Y1he"
   },
   "outputs": [],
   "source": [
    "class SentenceGetter(object):\n",
    "    \n",
    "    def __init__(self, data):\n",
    "        self.n_sent = 1\n",
    "        self.data = data\n",
    "        self.empty = False\n",
    "        agg_func = lambda s: [(w, t) for w, t in zip(s[\"word\"].values.tolist(),\n",
    "                                                           s[\"tag\"].values.tolist())]\n",
    "        self.grouped = self.data.groupby(\"poem_no\").apply(agg_func)\n",
    "        self.sentences = [s for s in self.grouped]\n",
    "    \n",
    "    def get_next(self):\n",
    "        # try:\n",
    "            s = self.grouped[self.n_sent]\n",
    "            self.n_sent += 1\n",
    "            return s\n",
    "        # except:\n",
    "        #     return None"
   ]
  },
  {
   "cell_type": "code",
   "execution_count": null,
   "metadata": {
    "id": "oFfhF7dIZPeM"
   },
   "outputs": [],
   "source": [
    "getter = SentenceGetter(df)\n",
    "sent = getter.get_next()"
   ]
  },
  {
   "cell_type": "code",
   "execution_count": null,
   "metadata": {
    "colab": {
     "base_uri": "https://localhost:8080/"
    },
    "id": "OjHtVI3rZSai",
    "outputId": "0676e4c2-6117-49d7-97ca-ef57dd0ea3f7"
   },
   "outputs": [
    {
     "name": "stdout",
     "output_type": "stream",
     "text": [
      "[('i', 0), ('was', 0), ('conceived', 0), ('in', 0), ('the', 0), ('cruelest', 0), ('monthin', 0), ('whatever', 0), ('spring', 0), ('california', 1), ('could', 0), ('mustera', 1), ('little', 0), ('rain—with', 0), ('some', 1), ('more', 1), ('likelyand', 0), ('the', 0), ('buckeyes', 1), ('were', 0), ('they', 0), ('yet', 0), ('on', 1), ('the', 1), ('grounddamn', 0), ('my', 0), ('father’s', 0), ('smooth', 0), ('stone', 1), ('eyesother', 0), ('prevailing', 0), ('enticements', 0), ('and', 0), ('what', 0), ('eliot', 0), ('calledthe', 0)]\n"
     ]
    }
   ],
   "source": [
    "print(sent)"
   ]
  },
  {
   "cell_type": "code",
   "execution_count": null,
   "metadata": {
    "id": "DdoPfIn1aiyN"
   },
   "outputs": [],
   "source": [
    "sentences = getter.sentences # list(list((\"word\", tag)))"
   ]
  },
  {
   "cell_type": "code",
   "execution_count": null,
   "metadata": {
    "colab": {
     "base_uri": "https://localhost:8080/",
     "height": 265
    },
    "id": "gFp7_iNtbGbp",
    "outputId": "131e4f60-e755-4eb1-991d-d1f6319ea9df"
   },
   "outputs": [
    {
     "data": {
      "image/png": "[encoded data removed]",
      "text/plain": [
       "<Figure size 432x288 with 1 Axes>"
      ]
     },
     "metadata": {
      "tags": []
     },
     "output_type": "display_data"
    }
   ],
   "source": [
    "plt.style.use(\"ggplot\")\n",
    "plt.hist([len(s) for s in sentences], bins=50)\n",
    "plt.show()"
   ]
  },
  {
   "cell_type": "code",
   "execution_count": null,
   "metadata": {
    "id": "C4gEeBJebGmy"
   },
   "outputs": [],
   "source": [
    "max_len = 120\n",
    "word2idx = {w: i for i, w in enumerate(words)}  # {word:enum}\n",
    "tag2idx = {t: i for i, t in enumerate(tags)}"
   ]
  },
  {
   "cell_type": "code",
   "execution_count": null,
   "metadata": {
    "id": "T8zKwWGsdWUQ"
   },
   "outputs": [],
   "source": [
    "X = [[word2idx[w[0]] for w in s] for s in sentences]"
   ]
  },
  {
   "cell_type": "code",
   "execution_count": null,
   "metadata": {
    "colab": {
     "base_uri": "https://localhost:8080/"
    },
    "id": "PwaXOF2Adb6Q",
    "outputId": "52227db4-a68f-4db1-9f83-5425e9d8e1bd"
   },
   "outputs": [
    {
     "data": {
      "text/plain": [
       "array([ 6366,  5720,  3323,   754,  6063,  6369,  8522,  9504,  6366,\n",
       "        8118,  5194,  6436, 12503,  9389, 11461, 12498,  2622,  2645,\n",
       "       10631,  5720,   261,  5720, 10569,  2967,  5720, 10535,  2195,\n",
       "         427,  4088,  3925,  5720,  6159,  9389, 11174,  1652,   691,\n",
       "        5720,  3503,  1909,  5720,  9312,  3273,  8573,  8870,  5626,\n",
       "        7562, 11561,  2853,  1652,  2725,  2622,  4960,  3341,  8926,\n",
       "       12339,  1223,  2196, 13111,  8648,  7463,  1652,  1921,  2043,\n",
       "         427,  6147,  9735, 12670, 11591,  3241, 11256, 12670, 11510,\n",
       "        3497, 13310, 13310, 13310, 13310, 13310, 13310, 13310, 13310,\n",
       "       13310, 13310, 13310, 13310, 13310, 13310, 13310, 13310, 13310,\n",
       "       13310, 13310, 13310, 13310, 13310, 13310, 13310, 13310, 13310,\n",
       "       13310, 13310, 13310, 13310, 13310, 13310, 13310, 13310, 13310,\n",
       "       13310, 13310, 13310, 13310, 13310, 13310, 13310, 13310, 13310,\n",
       "       13310, 13310, 13310], dtype=int32)"
      ]
     },
     "execution_count": 148,
     "metadata": {
      "tags": []
     },
     "output_type": "execute_result"
    }
   ],
   "source": [
    "X = pad_sequences(maxlen=max_len, sequences=X, padding=\"post\", value=n_words - 1)\n",
    "X[1]"
   ]
  },
  {
   "cell_type": "code",
   "execution_count": null,
   "metadata": {
    "colab": {
     "base_uri": "https://localhost:8080/"
    },
    "id": "EnoyHjm9akYT",
    "outputId": "27a072da-0681-4965-a159-77eaf81980d3"
   },
   "outputs": [
    {
     "data": {
      "text/plain": [
       "(1000, 120)"
      ]
     },
     "execution_count": 149,
     "metadata": {
      "tags": []
     },
     "output_type": "execute_result"
    }
   ],
   "source": [
    "X.shape"
   ]
  },
  {
   "cell_type": "code",
   "execution_count": null,
   "metadata": {
    "id": "rmgRJJiEdg7Y"
   },
   "outputs": [],
   "source": [
    "y = [[tag2idx[w[1]] for w in s] for s in sentences]"
   ]
  },
  {
   "cell_type": "code",
   "execution_count": null,
   "metadata": {
    "colab": {
     "base_uri": "https://localhost:8080/"
    },
    "id": "3n0rW0Mrdj5F",
    "outputId": "5469d87d-1e41-45c7-bc4c-a8855709bb86"
   },
   "outputs": [
    {
     "data": {
      "text/plain": [
       "array([0, 0, 0, 0, 0, 1, 0, 0, 0, 0, 0, 0, 0, 0, 0, 0, 0, 1, 0, 1, 0, 0,\n",
       "       0, 0, 0, 0, 0, 0, 1, 1, 0, 0, 1, 0, 0, 0, 1, 0, 1, 0, 0, 0, 0, 0,\n",
       "       0, 0, 0, 0, 0, 0, 0, 0, 0, 0, 0, 0, 0, 0, 0, 0, 0, 0, 0, 0, 0, 0,\n",
       "       0, 0, 0, 0, 0, 0, 0, 0, 0, 0, 0, 0, 0, 0, 0, 0, 0, 0, 0, 0, 0, 0,\n",
       "       0, 0, 0, 0, 0, 0, 0, 0, 0, 0, 0, 0, 0, 0, 0, 0, 0, 0, 0, 0, 0, 0,\n",
       "       0, 0, 0, 0, 0, 0, 0, 0, 0, 0], dtype=int32)"
      ]
     },
     "execution_count": 151,
     "metadata": {
      "tags": []
     },
     "output_type": "execute_result"
    }
   ],
   "source": [
    "y = pad_sequences(maxlen=max_len, sequences=y, padding=\"post\", value=tag2idx[0])\n",
    "y[1]"
   ]
  },
  {
   "cell_type": "code",
   "execution_count": null,
   "metadata": {
    "colab": {
     "base_uri": "https://localhost:8080/"
    },
    "id": "fBtLKwC4d2Wz",
    "outputId": "f5a0f34e-932b-4a78-e4b4-9a2c7076555b"
   },
   "outputs": [
    {
     "data": {
      "text/plain": [
       "array([[1., 0.],\n",
       "       [1., 0.],\n",
       "       [1., 0.],\n",
       "       [1., 0.],\n",
       "       [1., 0.],\n",
       "       [0., 1.],\n",
       "       [1., 0.],\n",
       "       [1., 0.],\n",
       "       [1., 0.],\n",
       "       [1., 0.],\n",
       "       [1., 0.],\n",
       "       [1., 0.],\n",
       "       [1., 0.],\n",
       "       [1., 0.],\n",
       "       [1., 0.],\n",
       "       [1., 0.],\n",
       "       [1., 0.],\n",
       "       [0., 1.],\n",
       "       [1., 0.],\n",
       "       [0., 1.],\n",
       "       [1., 0.],\n",
       "       [1., 0.],\n",
       "       [1., 0.],\n",
       "       [1., 0.],\n",
       "       [1., 0.],\n",
       "       [1., 0.],\n",
       "       [1., 0.],\n",
       "       [1., 0.],\n",
       "       [0., 1.],\n",
       "       [0., 1.],\n",
       "       [1., 0.],\n",
       "       [1., 0.],\n",
       "       [0., 1.],\n",
       "       [1., 0.],\n",
       "       [1., 0.],\n",
       "       [1., 0.],\n",
       "       [0., 1.],\n",
       "       [1., 0.],\n",
       "       [0., 1.],\n",
       "       [1., 0.],\n",
       "       [1., 0.],\n",
       "       [1., 0.],\n",
       "       [1., 0.],\n",
       "       [1., 0.],\n",
       "       [1., 0.],\n",
       "       [1., 0.],\n",
       "       [1., 0.],\n",
       "       [1., 0.],\n",
       "       [1., 0.],\n",
       "       [1., 0.],\n",
       "       [1., 0.],\n",
       "       [1., 0.],\n",
       "       [1., 0.],\n",
       "       [1., 0.],\n",
       "       [1., 0.],\n",
       "       [1., 0.],\n",
       "       [1., 0.],\n",
       "       [1., 0.],\n",
       "       [1., 0.],\n",
       "       [1., 0.],\n",
       "       [1., 0.],\n",
       "       [1., 0.],\n",
       "       [1., 0.],\n",
       "       [1., 0.],\n",
       "       [1., 0.],\n",
       "       [1., 0.],\n",
       "       [1., 0.],\n",
       "       [1., 0.],\n",
       "       [1., 0.],\n",
       "       [1., 0.],\n",
       "       [1., 0.],\n",
       "       [1., 0.],\n",
       "       [1., 0.],\n",
       "       [1., 0.],\n",
       "       [1., 0.],\n",
       "       [1., 0.],\n",
       "       [1., 0.],\n",
       "       [1., 0.],\n",
       "       [1., 0.],\n",
       "       [1., 0.],\n",
       "       [1., 0.],\n",
       "       [1., 0.],\n",
       "       [1., 0.],\n",
       "       [1., 0.],\n",
       "       [1., 0.],\n",
       "       [1., 0.],\n",
       "       [1., 0.],\n",
       "       [1., 0.],\n",
       "       [1., 0.],\n",
       "       [1., 0.],\n",
       "       [1., 0.],\n",
       "       [1., 0.],\n",
       "       [1., 0.],\n",
       "       [1., 0.],\n",
       "       [1., 0.],\n",
       "       [1., 0.],\n",
       "       [1., 0.],\n",
       "       [1., 0.],\n",
       "       [1., 0.],\n",
       "       [1., 0.],\n",
       "       [1., 0.],\n",
       "       [1., 0.],\n",
       "       [1., 0.],\n",
       "       [1., 0.],\n",
       "       [1., 0.],\n",
       "       [1., 0.],\n",
       "       [1., 0.],\n",
       "       [1., 0.],\n",
       "       [1., 0.],\n",
       "       [1., 0.],\n",
       "       [1., 0.],\n",
       "       [1., 0.],\n",
       "       [1., 0.],\n",
       "       [1., 0.],\n",
       "       [1., 0.],\n",
       "       [1., 0.],\n",
       "       [1., 0.],\n",
       "       [1., 0.],\n",
       "       [1., 0.],\n",
       "       [1., 0.]], dtype=float32)"
      ]
     },
     "execution_count": 152,
     "metadata": {
      "tags": []
     },
     "output_type": "execute_result"
    }
   ],
   "source": [
    "y = [to_categorical(i, num_classes=n_tags) for i in y]\n",
    "y[1]"
   ]
  },
  {
   "cell_type": "code",
   "execution_count": null,
   "metadata": {
    "id": "MgMMDH0veDMY"
   },
   "outputs": [],
   "source": [
    "X_train, X_test, y_train, y_test = train_test_split(X, y, test_size=0.1)"
   ]
  },
  {
   "cell_type": "code",
   "execution_count": null,
   "metadata": {
    "colab": {
     "base_uri": "https://localhost:8080/"
    },
    "id": "n5bFJrZReGcc",
    "outputId": "61cb7170-3f21-440f-de4f-1a340e62b3e9"
   },
   "outputs": [
    {
     "name": "stderr",
     "output_type": "stream",
     "text": [
      "/usr/local/lib/python3.7/dist-packages/tensorflow/python/autograph/impl/api.py:390: UserWarning: CRF Decoding does not work with KerasTensors in TF2.4. The bug has since been fixed in tensorflow/tensorflow##45534\n",
      "  return py_builtins.overload_of(f)(*args)\n"
     ]
    }
   ],
   "source": [
    "input = Input(shape=(max_len,))\n",
    "model = Embedding(input_dim=n_words, output_dim=120, input_length=max_len)(input)  # 120-dim embedding\n",
    "model = Dropout(0.1)(model)\n",
    "model = Bidirectional(LSTM(units=100, return_sequences=True, recurrent_dropout=0.1))(model)  # variational biLSTM\n",
    "# model = SeqSelfAttention()(model)\n",
    "model = TimeDistributed(Dense(n_tags, activation=\"softmax\"))(model)  # softmax output layer\n",
    "\n",
    "crf_model = CRF(n_tags)  \n",
    "out = crf_model(model)"
   ]
  },
  {
   "cell_type": "code",
   "execution_count": null,
   "metadata": {
    "id": "MU7roFPceN7l"
   },
   "outputs": [],
   "source": [
    "model = Model(input, out)"
   ]
  },
  {
   "cell_type": "code",
   "execution_count": null,
   "metadata": {
    "id": "npGBg0DgeQFp"
   },
   "outputs": [],
   "source": [
    "model.compile(optimizer=\"rmsprop\", loss=\"categorical_crossentropy\", metrics=[\"accuracy\"])"
   ]
  },
  {
   "cell_type": "code",
   "execution_count": null,
   "metadata": {
    "colab": {
     "base_uri": "https://localhost:8080/"
    },
    "id": "j7Pd8WDLB9eG",
    "outputId": "b10cf64b-6655-44a9-9f1b-6d480224ca94"
   },
   "outputs": [
    {
     "data": {
      "text/plain": [
       "(900, 120, 2)"
      ]
     },
     "execution_count": 157,
     "metadata": {
      "tags": []
     },
     "output_type": "execute_result"
    }
   ],
   "source": [
    "np.array(y_train).shape"
   ]
  },
  {
   "cell_type": "code",
   "execution_count": null,
   "metadata": {
    "colab": {
     "base_uri": "https://localhost:8080/"
    },
    "id": "dIQwmcKweRrn",
    "outputId": "5e6a39e2-86c3-43d8-c229-5eb8bd54be3f"
   },
   "outputs": [
    {
     "name": "stdout",
     "output_type": "stream",
     "text": [
      "Epoch 1/5\n"
     ]
    },
    {
     "name": "stderr",
     "output_type": "stream",
     "text": [
      "/usr/local/lib/python3.7/dist-packages/tensorflow/python/autograph/impl/api.py:390: UserWarning: CRF Decoding does not work with KerasTensors in TF2.4. The bug has since been fixed in tensorflow/tensorflow##45534\n",
      "  return py_builtins.overload_of(f)(*args)\n"
     ]
    },
    {
     "name": "stdout",
     "output_type": "stream",
     "text": [
      "WARNING:tensorflow:Gradients do not exist for variables ['chain_kernel:0'] when minimizing the loss.\n",
      "WARNING:tensorflow:Gradients do not exist for variables ['chain_kernel:0'] when minimizing the loss.\n",
      "17/17 [==============================] - 16s 613ms/step - loss: 15.3628 - accuracy: 0.0469 - val_loss: 8.1799 - val_accuracy: 0.4925\n",
      "Epoch 2/5\n",
      "17/17 [==============================] - 9s 556ms/step - loss: 15.3606 - accuracy: 0.0470 - val_loss: 8.1799 - val_accuracy: 0.4925\n",
      "Epoch 3/5\n",
      "17/17 [==============================] - 9s 555ms/step - loss: 15.3659 - accuracy: 0.0467 - val_loss: 8.1799 - val_accuracy: 0.4925\n",
      "Epoch 4/5\n",
      "17/17 [==============================] - 9s 554ms/step - loss: 15.3598 - accuracy: 0.0471 - val_loss: 8.1799 - val_accuracy: 0.4925\n",
      "Epoch 5/5\n",
      "17/17 [==============================] - 9s 554ms/step - loss: 15.3602 - accuracy: 0.0470 - val_loss: 8.1799 - val_accuracy: 0.4925\n"
     ]
    }
   ],
   "source": [
    "history = model.fit(X_train, np.array(y_train), batch_size=48, epochs=5, validation_split=0.1, verbose=1)"
   ]
  },
  {
   "cell_type": "code",
   "execution_count": null,
   "metadata": {
    "colab": {
     "base_uri": "https://localhost:8080/",
     "height": 202
    },
    "id": "pXNpPb57eUlv",
    "outputId": "c177bb8b-2f0b-4169-fe29-d2c280292056"
   },
   "outputs": [
    {
     "data": {
      "text/html": [
       "<div>\n",
       "<style scoped>\n",
       "    .dataframe tbody tr th:only-of-type {\n",
       "        vertical-align: middle;\n",
       "    }\n",
       "\n",
       "    .dataframe tbody tr th {\n",
       "        vertical-align: top;\n",
       "    }\n",
       "\n",
       "    .dataframe thead th {\n",
       "        text-align: right;\n",
       "    }\n",
       "</style>\n",
       "<table border=\"1\" class=\"dataframe\">\n",
       "  <thead>\n",
       "    <tr style=\"text-align: right;\">\n",
       "      <th></th>\n",
       "      <th>loss</th>\n",
       "      <th>accuracy</th>\n",
       "      <th>val_loss</th>\n",
       "      <th>val_accuracy</th>\n",
       "    </tr>\n",
       "  </thead>\n",
       "  <tbody>\n",
       "    <tr>\n",
       "      <th>0</th>\n",
       "      <td>15.363628</td>\n",
       "      <td>0.046811</td>\n",
       "      <td>8.179934</td>\n",
       "      <td>0.4925</td>\n",
       "    </tr>\n",
       "    <tr>\n",
       "      <th>1</th>\n",
       "      <td>15.363628</td>\n",
       "      <td>0.046811</td>\n",
       "      <td>8.179934</td>\n",
       "      <td>0.4925</td>\n",
       "    </tr>\n",
       "    <tr>\n",
       "      <th>2</th>\n",
       "      <td>15.363628</td>\n",
       "      <td>0.046811</td>\n",
       "      <td>8.179934</td>\n",
       "      <td>0.4925</td>\n",
       "    </tr>\n",
       "    <tr>\n",
       "      <th>3</th>\n",
       "      <td>15.363628</td>\n",
       "      <td>0.046811</td>\n",
       "      <td>8.179934</td>\n",
       "      <td>0.4925</td>\n",
       "    </tr>\n",
       "    <tr>\n",
       "      <th>4</th>\n",
       "      <td>15.363627</td>\n",
       "      <td>0.046811</td>\n",
       "      <td>8.179934</td>\n",
       "      <td>0.4925</td>\n",
       "    </tr>\n",
       "  </tbody>\n",
       "</table>\n",
       "</div>"
      ],
      "text/plain": [
       "        loss  accuracy  val_loss  val_accuracy\n",
       "0  15.363628  0.046811  8.179934        0.4925\n",
       "1  15.363628  0.046811  8.179934        0.4925\n",
       "2  15.363628  0.046811  8.179934        0.4925\n",
       "3  15.363628  0.046811  8.179934        0.4925\n",
       "4  15.363627  0.046811  8.179934        0.4925"
      ]
     },
     "execution_count": 159,
     "metadata": {
      "tags": []
     },
     "output_type": "execute_result"
    }
   ],
   "source": [
    "hist = pd.DataFrame(history.history)\n",
    "hist"
   ]
  },
  {
   "cell_type": "code",
   "execution_count": null,
   "metadata": {
    "colab": {
     "base_uri": "https://localhost:8080/",
     "height": 700
    },
    "id": "pYsdkmOceaeI",
    "outputId": "6fb0f28b-444e-444b-bf4d-4f699704e894"
   },
   "outputs": [
    {
     "data": {
      "image/png": "[encoded data removed]",
      "text/plain": [
       "<Figure size 864x864 with 1 Axes>"
      ]
     },
     "metadata": {
      "tags": []
     },
     "output_type": "display_data"
    }
   ],
   "source": [
    "plt.figure(figsize=(12,12))\n",
    "plt.plot(hist[\"accuracy\"])\n",
    "plt.plot(hist[\"val_accuracy\"])\n",
    "plt.show()"
   ]
  },
  {
   "cell_type": "markdown",
   "metadata": {
    "id": "2KLPKgMP0Tl9"
   },
   "source": [
    "# Testing"
   ]
  },
  {
   "cell_type": "code",
   "execution_count": null,
   "metadata": {
    "colab": {
     "base_uri": "https://localhost:8080/"
    },
    "id": "zXUxFE61wZ1n",
    "outputId": "77d94fc8-10e2-484f-ea57-4f35abd44d80"
   },
   "outputs": [
    {
     "name": "stderr",
     "output_type": "stream",
     "text": [
      "/usr/local/lib/python3.7/dist-packages/tensorflow/python/autograph/impl/api.py:390: UserWarning: CRF Decoding does not work with KerasTensors in TF2.4. The bug has since been fixed in tensorflow/tensorflow##45534\n",
      "  return py_builtins.overload_of(f)(*args)\n"
     ]
    },
    {
     "name": "stdout",
     "output_type": "stream",
     "text": [
      "Sentence =  my reading is extremely deep and wide and as our modern education goes— unique i think and skilfully applied to art and industry and autres choses through many years of scholarly repose but there is one thing where i disappoint my numerous admirers and my foes painting on vellum is my weakest point ENDPAD ENDPAD ENDPAD ENDPAD ENDPAD ENDPAD ENDPAD ENDPAD ENDPAD ENDPAD ENDPAD ENDPAD ENDPAD ENDPAD ENDPAD ENDPAD ENDPAD ENDPAD ENDPAD ENDPAD ENDPAD ENDPAD ENDPAD ENDPAD ENDPAD ENDPAD ENDPAD ENDPAD ENDPAD ENDPAD ENDPAD ENDPAD ENDPAD ENDPAD ENDPAD ENDPAD ENDPAD ENDPAD ENDPAD ENDPAD ENDPAD ENDPAD ENDPAD ENDPAD ENDPAD ENDPAD ENDPAD ENDPAD ENDPAD ENDPAD ENDPAD ENDPAD ENDPAD ENDPAD ENDPAD ENDPAD ENDPAD ENDPAD ENDPAD ENDPAD ENDPAD ENDPAD ENDPAD ENDPAD ENDPAD ENDPAD ENDPAD\n",
      "\n",
      "True =  reading choses repose is on\n",
      "\n",
      "Predicted =  my is deep wide as modern goes— i and applied art industry autres through years scholarly but is one where disappoint numerous and foes on is weakest ENDPAD ENDPAD ENDPAD ENDPAD ENDPAD ENDPAD ENDPAD ENDPAD ENDPAD ENDPAD ENDPAD ENDPAD ENDPAD ENDPAD ENDPAD ENDPAD ENDPAD ENDPAD ENDPAD ENDPAD ENDPAD ENDPAD ENDPAD ENDPAD ENDPAD ENDPAD ENDPAD ENDPAD ENDPAD ENDPAD ENDPAD ENDPAD ENDPAD ENDPAD\n",
      "\n",
      "\n",
      "\n",
      "\n",
      "Sentence =  in the dark pinewood i would we lay in deep cool shadow at noon of day how sweet to lie there sweet to kiss where the great pineforest enaisled is thy kiss descending sweeter were with a soft tumult of thy hair o unto the pinewood at noon of day come with me now sweet love away ENDPAD ENDPAD ENDPAD ENDPAD ENDPAD ENDPAD ENDPAD ENDPAD ENDPAD ENDPAD ENDPAD ENDPAD ENDPAD ENDPAD ENDPAD ENDPAD ENDPAD ENDPAD ENDPAD ENDPAD ENDPAD ENDPAD ENDPAD ENDPAD ENDPAD ENDPAD ENDPAD ENDPAD ENDPAD ENDPAD ENDPAD ENDPAD ENDPAD ENDPAD ENDPAD ENDPAD ENDPAD ENDPAD ENDPAD ENDPAD ENDPAD ENDPAD ENDPAD ENDPAD ENDPAD ENDPAD ENDPAD ENDPAD ENDPAD ENDPAD ENDPAD ENDPAD ENDPAD ENDPAD ENDPAD ENDPAD ENDPAD ENDPAD ENDPAD ENDPAD ENDPAD ENDPAD ENDPAD\n",
      "\n",
      "True =  sweet enaisled a soft tumult\n",
      "\n",
      "Predicted =  in dark i we in cool at of how to there to where great enaisled thy descending were a tumult thy o the at of come me sweet away ENDPAD ENDPAD ENDPAD ENDPAD ENDPAD ENDPAD ENDPAD ENDPAD ENDPAD ENDPAD ENDPAD ENDPAD ENDPAD ENDPAD ENDPAD ENDPAD ENDPAD ENDPAD ENDPAD ENDPAD ENDPAD ENDPAD ENDPAD ENDPAD ENDPAD ENDPAD ENDPAD ENDPAD ENDPAD ENDPAD ENDPAD ENDPAD\n",
      "\n",
      "\n",
      "\n",
      "\n",
      "Sentence =  from the greek eagle why soarest thou above that tomb to what sublime and starypaven home floatest thou i am the image of swift plato’s spirit ascending heaven athens doth inherit his corpse below ENDPAD ENDPAD ENDPAD ENDPAD ENDPAD ENDPAD ENDPAD ENDPAD ENDPAD ENDPAD ENDPAD ENDPAD ENDPAD ENDPAD ENDPAD ENDPAD ENDPAD ENDPAD ENDPAD ENDPAD ENDPAD ENDPAD ENDPAD ENDPAD ENDPAD ENDPAD ENDPAD ENDPAD ENDPAD ENDPAD ENDPAD ENDPAD ENDPAD ENDPAD ENDPAD ENDPAD ENDPAD ENDPAD ENDPAD ENDPAD ENDPAD ENDPAD ENDPAD ENDPAD ENDPAD ENDPAD ENDPAD ENDPAD ENDPAD ENDPAD ENDPAD ENDPAD ENDPAD ENDPAD ENDPAD ENDPAD ENDPAD ENDPAD ENDPAD ENDPAD ENDPAD ENDPAD ENDPAD ENDPAD ENDPAD ENDPAD ENDPAD ENDPAD ENDPAD ENDPAD ENDPAD ENDPAD ENDPAD ENDPAD ENDPAD ENDPAD ENDPAD ENDPAD ENDPAD ENDPAD ENDPAD ENDPAD ENDPAD ENDPAD ENDPAD ENDPAD\n",
      "\n",
      "True =  greek eagle that sublime thou\n",
      "\n",
      "Predicted =  from greek why thou that to sublime starypaven floatest i the of plato’s ascending athens inherit corpse ENDPAD ENDPAD ENDPAD ENDPAD ENDPAD ENDPAD ENDPAD ENDPAD ENDPAD ENDPAD ENDPAD ENDPAD ENDPAD ENDPAD ENDPAD ENDPAD ENDPAD ENDPAD ENDPAD ENDPAD ENDPAD ENDPAD ENDPAD ENDPAD ENDPAD ENDPAD ENDPAD ENDPAD ENDPAD ENDPAD ENDPAD ENDPAD ENDPAD ENDPAD ENDPAD ENDPAD ENDPAD ENDPAD ENDPAD ENDPAD ENDPAD ENDPAD ENDPAD ENDPAD\n",
      "\n",
      "\n",
      "\n",
      "\n",
      "Sentence =  romance point 2 esspeecee …111008 lending from setting sun the red to color your feet … 1 staring at stars for luxe lux to illuminate your feet…2 asking the sky to drip gentle dew drops to sodden your feet 3 whispering to flower to air the fragrance to enfragrant your feet 4 put ankle bangle to hear tinkling euphony of your fugitive feet 5 oh sparkling diamond as ring decorate your tapering toes i want to 6 lay down my heart to be in synchrony with your wavy stepping 7 will dab my quivering ‘lipmarks’ utmostly embrace bosom in the aroma of your intolerably soft feet ‘tis my romance point 8 copyright reserved by the author ENDPAD ENDPAD ENDPAD ENDPAD\n",
      "\n",
      "True =  point whispering the enfragrant feet as the aroma\n",
      "\n",
      "Predicted =  romance 2 …111008 from sun red color feet 1 at for lux illuminate feet…2 the to gentle drops sodden feet whispering flower air fragrance enfragrant feet put bangle hear euphony your feet oh diamond ring your toes want 6 down heart be synchrony your stepping will my ‘lipmarks’ embrace in aroma your soft ‘tis romance 8 reserved the ENDPAD ENDPAD ENDPAD\n",
      "\n",
      "\n",
      "\n",
      "\n",
      "Sentence =  innocence he spoke once before innocence he rigged of in pleasant odours innocence he displayed with his first step on the dance floor not knowing what was next or what was following when he bellowed he bellowed and his silence too was without pretence now knowledge has made its entrance gradually exhibiting its presence and his innocence has dissolved into a distasteful fragrance copyright 2006 sylvia chidi ENDPAD ENDPAD ENDPAD ENDPAD ENDPAD ENDPAD ENDPAD ENDPAD ENDPAD ENDPAD ENDPAD ENDPAD ENDPAD ENDPAD ENDPAD ENDPAD ENDPAD ENDPAD ENDPAD ENDPAD ENDPAD ENDPAD ENDPAD ENDPAD ENDPAD ENDPAD ENDPAD ENDPAD ENDPAD ENDPAD ENDPAD ENDPAD ENDPAD ENDPAD ENDPAD ENDPAD ENDPAD ENDPAD ENDPAD ENDPAD ENDPAD ENDPAD ENDPAD ENDPAD ENDPAD ENDPAD ENDPAD ENDPAD ENDPAD ENDPAD ENDPAD ENDPAD ENDPAD\n",
      "\n",
      "True =  innocence innocence the next silence\n",
      "\n",
      "Predicted =  innocence spoke before he of pleasant innocence displayed his step the floor knowing was or was when bellowed bellowed his too without now has its gradually its and innocence dissolved a fragrance 2006 chidi ENDPAD ENDPAD ENDPAD ENDPAD ENDPAD ENDPAD ENDPAD ENDPAD ENDPAD ENDPAD ENDPAD ENDPAD ENDPAD ENDPAD ENDPAD ENDPAD ENDPAD ENDPAD ENDPAD ENDPAD ENDPAD ENDPAD ENDPAD ENDPAD ENDPAD ENDPAD ENDPAD\n",
      "\n",
      "\n",
      "\n",
      "\n",
      "Sentence =  oceans pounding surf reoccuring memories trying to forget a sea gulls keen eyes oceans stroking ablutions my daily failings a forest beckons across this untainted field fresh snow innocence footprints in the snow wherever your beauty hides ill willingly go waking to your beauty finding your quiet waters ecstasy of love august 162008 ENDPAD ENDPAD ENDPAD ENDPAD ENDPAD ENDPAD ENDPAD ENDPAD ENDPAD ENDPAD ENDPAD ENDPAD ENDPAD ENDPAD ENDPAD ENDPAD ENDPAD ENDPAD ENDPAD ENDPAD ENDPAD ENDPAD ENDPAD ENDPAD ENDPAD ENDPAD ENDPAD ENDPAD ENDPAD ENDPAD ENDPAD ENDPAD ENDPAD ENDPAD ENDPAD ENDPAD ENDPAD ENDPAD ENDPAD ENDPAD ENDPAD ENDPAD ENDPAD ENDPAD ENDPAD ENDPAD ENDPAD ENDPAD ENDPAD ENDPAD ENDPAD ENDPAD ENDPAD ENDPAD ENDPAD ENDPAD ENDPAD ENDPAD ENDPAD ENDPAD ENDPAD ENDPAD ENDPAD ENDPAD ENDPAD ENDPAD ENDPAD\n",
      "\n",
      "True =  oceans a sea across this field\n",
      "\n",
      "Predicted =  oceans pounding reoccuring trying forget sea keen oceans ablutions daily a beckons this field snow footprints the wherever beauty ill go to beauty your waters of august ENDPAD ENDPAD ENDPAD ENDPAD ENDPAD ENDPAD ENDPAD ENDPAD ENDPAD ENDPAD ENDPAD ENDPAD ENDPAD ENDPAD ENDPAD ENDPAD ENDPAD ENDPAD ENDPAD ENDPAD ENDPAD ENDPAD ENDPAD ENDPAD ENDPAD ENDPAD ENDPAD ENDPAD ENDPAD ENDPAD ENDPAD ENDPAD ENDPAD ENDPAD\n",
      "\n",
      "\n",
      "\n",
      "\n",
      "Sentence =  weave in weave in my hardy life weave yet a soldier strong and full for great campaigns to come weave in red blood weave sinews in like ropes the senses sight weave in weave lasting sure weave day and night the weft the warp incessant weave tire not we know not what the use o life nor know the aim the endnor really aught we know but know the work the need goes on and shall go onthe death envelopd march of peace as well as war goes on for great campaigns of peace the same the wiry threads to weave we know not why or what yet weave forever weave ENDPAD ENDPAD ENDPAD ENDPAD ENDPAD ENDPAD ENDPAD ENDPAD ENDPAD\n",
      "\n",
      "True =  weave weave the sure day as the threads\n",
      "\n",
      "Predicted =  weave in in hardy weave a strong full great to weave red weave in ropes senses weave weave sure day night weft warp weave not know what use life know aim endnor aught know know work need on shall onthe envelopd of as as goes for campaigns peace same wiry to we not or yet forever ENDPAD ENDPAD ENDPAD ENDPAD ENDPAD\n",
      "\n",
      "\n",
      "\n",
      "\n",
      "Sentence =  angel angel tell me true is his heart as big and true as his eyes make me believe angel angel tell me please angel secret friends are rare such kindly faces liars wear but hes a different kind i think would he stay if i should blink angel angel nights are long all for him id write my songs angel whisper in his ear tell him joy when you are near ENDPAD ENDPAD ENDPAD ENDPAD ENDPAD ENDPAD ENDPAD ENDPAD ENDPAD ENDPAD ENDPAD ENDPAD ENDPAD ENDPAD ENDPAD ENDPAD ENDPAD ENDPAD ENDPAD ENDPAD ENDPAD ENDPAD ENDPAD ENDPAD ENDPAD ENDPAD ENDPAD ENDPAD ENDPAD ENDPAD ENDPAD ENDPAD ENDPAD ENDPAD ENDPAD ENDPAD ENDPAD ENDPAD ENDPAD ENDPAD ENDPAD ENDPAD ENDPAD ENDPAD ENDPAD ENDPAD ENDPAD ENDPAD ENDPAD\n",
      "\n",
      "True =  angel angel a different kind\n",
      "\n",
      "Predicted =  angel angel me is heart big true his make believe angel me angel friends rare kindly liars but a kind think he if should angel nights long for id my angel in ear him when are ENDPAD ENDPAD ENDPAD ENDPAD ENDPAD ENDPAD ENDPAD ENDPAD ENDPAD ENDPAD ENDPAD ENDPAD ENDPAD ENDPAD ENDPAD ENDPAD ENDPAD ENDPAD ENDPAD ENDPAD ENDPAD ENDPAD ENDPAD ENDPAD ENDPAD\n",
      "\n",
      "\n",
      "\n",
      "\n",
      "Sentence =  success is counted sweetest by those who neer succeed to comprehend a nectar requires sorest need not one of all the purple host who took the flag today can tell the definition so clear of victory as he defeated dying on whose forbidden ear the distant strains of triumph break agonized and clear ENDPAD ENDPAD ENDPAD ENDPAD ENDPAD ENDPAD ENDPAD ENDPAD ENDPAD ENDPAD ENDPAD ENDPAD ENDPAD ENDPAD ENDPAD ENDPAD ENDPAD ENDPAD ENDPAD ENDPAD ENDPAD ENDPAD ENDPAD ENDPAD ENDPAD ENDPAD ENDPAD ENDPAD ENDPAD ENDPAD ENDPAD ENDPAD ENDPAD ENDPAD ENDPAD ENDPAD ENDPAD ENDPAD ENDPAD ENDPAD ENDPAD ENDPAD ENDPAD ENDPAD ENDPAD ENDPAD ENDPAD ENDPAD ENDPAD ENDPAD ENDPAD ENDPAD ENDPAD ENDPAD ENDPAD ENDPAD ENDPAD ENDPAD ENDPAD ENDPAD ENDPAD ENDPAD ENDPAD ENDPAD ENDPAD ENDPAD ENDPAD\n",
      "\n",
      "True =  counted requires all host strains\n",
      "\n",
      "Predicted =  success counted by who succeed comprehend nectar sorest not of the host took flag can the so of as defeated on forbidden the strains triumph agonized clear ENDPAD ENDPAD ENDPAD ENDPAD ENDPAD ENDPAD ENDPAD ENDPAD ENDPAD ENDPAD ENDPAD ENDPAD ENDPAD ENDPAD ENDPAD ENDPAD ENDPAD ENDPAD ENDPAD ENDPAD ENDPAD ENDPAD ENDPAD ENDPAD ENDPAD ENDPAD ENDPAD ENDPAD ENDPAD ENDPAD ENDPAD ENDPAD ENDPAD ENDPAD\n",
      "\n",
      "\n",
      "\n",
      "\n",
      "Sentence =  come and let us live my deare let us love and never feare what the sowrest fathers say brightest sol that dies to day lives againe as blithe to morrow but if we darke sons of sorrow set o then how long a night shuts the eyes of our short light then let amorous kisses dwell on our lips begin and tell a thousand and a hundred score an hundred and a thousand more till another thousand smother that and that wipe of another thus at last when we have numbred many a thousand many a hundred wee’l confound the reckoning quite and lose our selves in wild delight while our joyes so multiply as shall mocke the envious eye\n",
      "\n",
      "True =  come shuts the light kisses\n",
      "\n",
      "Predicted =  come let live deare us and feare what sowrest say sol dies day againe blithe morrow if darke of set then long night the of short then amorous dwell our begin tell thousand a score hundred a more another smother and wipe another at when have many thousand a wee’l the quite lose selves wild while joyes multiply shall the eye\n",
      "\n",
      "\n",
      "\n",
      "\n",
      "Sentence =  knowst thou not at the fall of the leaf how the heart feels a languid grief laid on it for a covering and how sleep seems a goodly thing in autumn at the fall of the leaf and how the swift beat of the brain falters because it is in vain in autumn at the fall of the leaf knowest thou not and how the chief of joys seems—not to suffer pain knowst thou not at the fall of the leaf how the soul feels like a dried sheaf bound up at length for harvesting and how death seems a comely thing in autumn at the fall of the leaf ENDPAD ENDPAD ENDPAD ENDPAD ENDPAD ENDPAD ENDPAD ENDPAD ENDPAD ENDPAD\n",
      "\n",
      "True =  feels laid a covering joys\n",
      "\n",
      "Predicted =  knowst not the of leaf the feels languid laid on for covering how seems goodly in at fall the and the beat the falters it in in at fall the knowest not how chief joys to pain thou at fall the how soul like dried bound at for and death a thing autumn the of leaf ENDPAD ENDPAD ENDPAD ENDPAD ENDPAD\n",
      "\n",
      "\n",
      "\n",
      "\n",
      "Sentence =  better a broken heart than a shattered soul for shards of a heart only quake the mind and break the dam of tears but a spoilt soul massacres optimism brings about somberness pushes one to consider themselves worthless and attract suicidal thoughts and once the spell is cast its almost impossible to dispel better a be abacinated than have a sighting of doom a taste of perdition soul cacophonies inner man conflictions collapsed soul reeking leaking drowning the heart the mind corroding ones identity effacing confidence what can the hands do if not to witness the body drown submerged in a corrosive body of soul ENDPAD ENDPAD ENDPAD ENDPAD ENDPAD ENDPAD ENDPAD ENDPAD ENDPAD ENDPAD ENDPAD ENDPAD ENDPAD ENDPAD ENDPAD\n",
      "\n",
      "True =  shattered massacres the spell cacophonies\n",
      "\n",
      "Predicted =  better broken than shattered for of heart quake mind break dam tears a soul optimism about pushes to themselves and suicidal and the is its impossible dispel a abacinated have sighting doom taste perdition cacophonies man collapsed reeking drowning heart mind ones effacing what the do not witness body drown in corrosive of ENDPAD ENDPAD ENDPAD ENDPAD ENDPAD ENDPAD ENDPAD ENDPAD\n",
      "\n",
      "\n",
      "\n",
      "\n",
      "Sentence =  and the lord said unto cain where is abel thy brother and he said i know not am i my brother’s keeper and he said what hast thou done the voice of thy brother’s blood crieth unto me from the ground and now art thou cursed from the earth which hath opened her mouth to receive thy brother’s blood from thy hand when thou tillest the ground it shall not henceforth yield unto thee her strength a fugitive and a vagabond shalt thou be in the earth genesis 49–12 ENDPAD ENDPAD ENDPAD ENDPAD ENDPAD ENDPAD ENDPAD ENDPAD ENDPAD ENDPAD ENDPAD ENDPAD ENDPAD ENDPAD ENDPAD ENDPAD ENDPAD ENDPAD ENDPAD ENDPAD ENDPAD ENDPAD ENDPAD ENDPAD ENDPAD ENDPAD ENDPAD ENDPAD ENDPAD ENDPAD ENDPAD\n",
      "\n",
      "True =  lord cain the tillest ground\n",
      "\n",
      "Predicted =  and lord unto where abel brother he i not i brother’s and said hast done voice thy blood unto from ground now thou from earth hath her to thy blood thy when tillest ground shall henceforth unto her a and vagabond thou in earth 49–12 ENDPAD ENDPAD ENDPAD ENDPAD ENDPAD ENDPAD ENDPAD ENDPAD ENDPAD ENDPAD ENDPAD ENDPAD ENDPAD ENDPAD ENDPAD ENDPAD\n",
      "\n",
      "\n",
      "\n",
      "\n",
      "Sentence =  beauty is in the eyes of the beholder beauty is in all things beauty is in the sky beauty is in the water ever so blue beauty is the winter when trees are covered with snow beauty is the summer when you smell and see the flowers grow beauty is all things big and little beauty is in all things black and white beauty is in all things you and me beauty is all around uscant you see ENDPAD ENDPAD ENDPAD ENDPAD ENDPAD ENDPAD ENDPAD ENDPAD ENDPAD ENDPAD ENDPAD ENDPAD ENDPAD ENDPAD ENDPAD ENDPAD ENDPAD ENDPAD ENDPAD ENDPAD ENDPAD ENDPAD ENDPAD ENDPAD ENDPAD ENDPAD ENDPAD ENDPAD ENDPAD ENDPAD ENDPAD ENDPAD ENDPAD ENDPAD ENDPAD ENDPAD ENDPAD ENDPAD ENDPAD ENDPAD ENDPAD ENDPAD\n",
      "\n",
      "True =  is beauty the sky trees\n",
      "\n",
      "Predicted =  beauty in eyes the beauty in things is the beauty in water so beauty the when are with beauty the when smell see flowers beauty all big little is all black white is all you me is around uscant see ENDPAD ENDPAD ENDPAD ENDPAD ENDPAD ENDPAD ENDPAD ENDPAD ENDPAD ENDPAD ENDPAD ENDPAD ENDPAD ENDPAD ENDPAD ENDPAD ENDPAD ENDPAD ENDPAD ENDPAD ENDPAD\n",
      "\n",
      "\n",
      "\n",
      "\n",
      "Sentence =  when she gave me a violet blossom my pastoral love a rustic girl from a mudhouse i could not my think of the limits of my joy a blessing from stvalentine indeed a shepherd girl with the lambs coming to gift me a flower my joy knew no bounds unassessed love rare and priceless so simple so innocent pure and guileless ENDPAD ENDPAD ENDPAD ENDPAD ENDPAD ENDPAD ENDPAD ENDPAD ENDPAD ENDPAD ENDPAD ENDPAD ENDPAD ENDPAD ENDPAD ENDPAD ENDPAD ENDPAD ENDPAD ENDPAD ENDPAD ENDPAD ENDPAD ENDPAD ENDPAD ENDPAD ENDPAD ENDPAD ENDPAD ENDPAD ENDPAD ENDPAD ENDPAD ENDPAD ENDPAD ENDPAD ENDPAD ENDPAD ENDPAD ENDPAD ENDPAD ENDPAD ENDPAD ENDPAD ENDPAD ENDPAD ENDPAD ENDPAD ENDPAD ENDPAD ENDPAD ENDPAD ENDPAD ENDPAD ENDPAD ENDPAD ENDPAD ENDPAD ENDPAD\n",
      "\n",
      "True =  violet limits a shepherd girl\n",
      "\n",
      "Predicted =  when gave a blossom pastoral a girl from mudhouse could my of limits my a from indeed shepherd with lambs to me flower joy no unassessed rare priceless simple innocent and ENDPAD ENDPAD ENDPAD ENDPAD ENDPAD ENDPAD ENDPAD ENDPAD ENDPAD ENDPAD ENDPAD ENDPAD ENDPAD ENDPAD ENDPAD ENDPAD ENDPAD ENDPAD ENDPAD ENDPAD ENDPAD ENDPAD ENDPAD ENDPAD ENDPAD ENDPAD ENDPAD ENDPAD ENDPAD ENDPAD\n",
      "\n",
      "\n",
      "\n",
      "\n",
      "Sentence =  little paper cuds we made by ripping the corners or edges from homework and class notes then ruminating them into balls we’d flick from our fingertips or catapult with pencils or sometimes after lunch launch through striped straws like deadly projectiles toward the necks of enemies and any other target where they’d stick with the tiniest splat i hope you’re still there stuck to unreachable ceilings like the beginnings of nests by generations of wasps too ignorant to finish them or under desktops with blunt stalactites of chewing gum little white words we learned to shape and hold in our mouths while waiting to let them fly our most tenacious utterance ENDPAD ENDPAD ENDPAD ENDPAD ENDPAD ENDPAD ENDPAD ENDPAD ENDPAD\n",
      "\n",
      "True =  paper cuds the deadly projectiles toward the necks\n",
      "\n",
      "Predicted =  little cuds made ripping corners edges homework class then them balls flick our or with or after launch striped like projectiles the of and other where stick the splat hope still stuck unreachable like beginnings nests generations wasps ignorant finish or desktops blunt of gum white words learned shape hold our while to them our tenacious ENDPAD ENDPAD ENDPAD ENDPAD ENDPAD\n",
      "\n",
      "\n",
      "\n",
      "\n",
      "Sentence =  how much delight before we collapse how much earth in the lungs how much wine when we want more when the weeds sprawl it is not what you think think how fast some landscapes change the lover the gardeners grand idea the failing maple the boat about to capsize the correction the hands reflection the impossible replication of weight versus time how it will never mean what you want ENDPAD ENDPAD ENDPAD ENDPAD ENDPAD ENDPAD ENDPAD ENDPAD ENDPAD ENDPAD ENDPAD ENDPAD ENDPAD ENDPAD ENDPAD ENDPAD ENDPAD ENDPAD ENDPAD ENDPAD ENDPAD ENDPAD ENDPAD ENDPAD ENDPAD ENDPAD ENDPAD ENDPAD ENDPAD ENDPAD ENDPAD ENDPAD ENDPAD ENDPAD ENDPAD ENDPAD ENDPAD ENDPAD ENDPAD ENDPAD ENDPAD ENDPAD ENDPAD ENDPAD ENDPAD ENDPAD ENDPAD ENDPAD ENDPAD ENDPAD ENDPAD\n",
      "\n",
      "True =  delight lungs the grand idea versus\n",
      "\n",
      "Predicted =  how delight we how earth the how wine we more the sprawl is what think how some change lover gardeners idea failing maple boat to the the reflection impossible of versus how will mean you ENDPAD ENDPAD ENDPAD ENDPAD ENDPAD ENDPAD ENDPAD ENDPAD ENDPAD ENDPAD ENDPAD ENDPAD ENDPAD ENDPAD ENDPAD ENDPAD ENDPAD ENDPAD ENDPAD ENDPAD ENDPAD ENDPAD ENDPAD ENDPAD ENDPAD ENDPAD\n",
      "\n",
      "\n",
      "\n",
      "\n",
      "Sentence =  fickle summers fled away shall we see her face again hearken to the weeping rain never sunbeam greets the day more inconstant than the may she cares nothing for our pain nor will hear the birds complain in their bowers that once were gay summer summer come once more drive the shadows from the field all thy radiance round thee fling be our lady as of yore then the earth her fruits shall yield then the morning stars shall sing ENDPAD ENDPAD ENDPAD ENDPAD ENDPAD ENDPAD ENDPAD ENDPAD ENDPAD ENDPAD ENDPAD ENDPAD ENDPAD ENDPAD ENDPAD ENDPAD ENDPAD ENDPAD ENDPAD ENDPAD ENDPAD ENDPAD ENDPAD ENDPAD ENDPAD ENDPAD ENDPAD ENDPAD ENDPAD ENDPAD ENDPAD ENDPAD ENDPAD ENDPAD ENDPAD ENDPAD ENDPAD ENDPAD ENDPAD ENDPAD\n",
      "\n",
      "True =  summers hearken the sunbeam greets for the birds\n",
      "\n",
      "Predicted =  fickle fled shall see face hearken the rain sunbeam the more than may cares for pain will the complain their that were summer come more the from field thy round fling our as yore the her shall then morning shall ENDPAD ENDPAD ENDPAD ENDPAD ENDPAD ENDPAD ENDPAD ENDPAD ENDPAD ENDPAD ENDPAD ENDPAD ENDPAD ENDPAD ENDPAD ENDPAD ENDPAD ENDPAD ENDPAD ENDPAD ENDPAD\n",
      "\n",
      "\n",
      "\n",
      "\n",
      "Sentence =  it’s mostly the same here slow as melonvines in an arctic sun where the great ball of the plane went down in nineteen thirtyfive amp an eskimo with a camera took a picture that stayed in his camera twentyone years amp by some chance he told an explorer who bought the film amp found the crash amp the bodies under tarp looking like two seals on the ice the crumpled plane with oversized pontoons the propeller as though it could turn again— the men wiley post amp will rogers still twelve miles southwest of barrow alaska ENDPAD ENDPAD ENDPAD ENDPAD ENDPAD ENDPAD ENDPAD ENDPAD ENDPAD ENDPAD ENDPAD ENDPAD ENDPAD ENDPAD ENDPAD ENDPAD ENDPAD ENDPAD ENDPAD ENDPAD ENDPAD ENDPAD ENDPAD ENDPAD\n",
      "\n",
      "True =  melonvines arctic sun as the men\n",
      "\n",
      "Predicted =  it’s mostly same slow melonvines an sun the ball the went in thirtyfive an with camera a that in camera years by chance told explorer bought film found crash the under looking two on ice crumpled with pontoons propeller though could again— men post will still miles of alaska ENDPAD ENDPAD ENDPAD ENDPAD ENDPAD ENDPAD ENDPAD ENDPAD ENDPAD ENDPAD ENDPAD ENDPAD\n",
      "\n",
      "\n",
      "\n",
      "\n",
      "Sentence =  the sun that puts its spokes in every wheel of manhandle and tree derives its path of seashines sheer centrifugality from my regards i send it my regards some yards of lumen from the fabrika have come unbolted from the look of it or likes of me a long unweaving or recarding i cannot recall begun and there before my eyes a palm puts lashes round the sun ENDPAD ENDPAD ENDPAD ENDPAD ENDPAD ENDPAD ENDPAD ENDPAD ENDPAD ENDPAD ENDPAD ENDPAD ENDPAD ENDPAD ENDPAD ENDPAD ENDPAD ENDPAD ENDPAD ENDPAD ENDPAD ENDPAD ENDPAD ENDPAD ENDPAD ENDPAD ENDPAD ENDPAD ENDPAD ENDPAD ENDPAD ENDPAD ENDPAD ENDPAD ENDPAD ENDPAD ENDPAD ENDPAD ENDPAD ENDPAD ENDPAD ENDPAD ENDPAD ENDPAD ENDPAD ENDPAD ENDPAD ENDPAD ENDPAD ENDPAD ENDPAD ENDPAD\n",
      "\n",
      "True =  puts wheel some yards lumen\n",
      "\n",
      "Predicted =  the that its in wheel manhandle tree its of sheer from regards send my some of from fabrika come from look it likes me long unweaving recarding cannot begun there my a puts round sun ENDPAD ENDPAD ENDPAD ENDPAD ENDPAD ENDPAD ENDPAD ENDPAD ENDPAD ENDPAD ENDPAD ENDPAD ENDPAD ENDPAD ENDPAD ENDPAD ENDPAD ENDPAD ENDPAD ENDPAD ENDPAD ENDPAD ENDPAD ENDPAD ENDPAD ENDPAD\n",
      "\n",
      "\n",
      "\n",
      "\n"
     ]
    }
   ],
   "source": [
    "for i in range(20):\n",
    "\n",
    "    p = model.predict(np.array([X_test[i]]))\n",
    "    p = np.argmax(p, axis=-1)\n",
    "\n",
    "    sent = []\n",
    "    true = []\n",
    "    pred = []\n",
    "\n",
    "    for w in X_test[i]:\n",
    "        sent.append(words[w])\n",
    "\n",
    "\n",
    "\n",
    "    true_label = []\n",
    "    for j in range(len(y_test[i])):\n",
    "        ind = y_test[i][j][-1]\n",
    "        true_label.append(int(ind))\n",
    "\n",
    "    for y in range(len(true_label)):\n",
    "        if true_label[y] == 1:\n",
    "            true.append(sent[y])\n",
    "\n",
    "\n",
    "\n",
    "    pred_label = p[0]\n",
    "    for k in range(len(pred_label)):\n",
    "        if pred_label[k] == 1:\n",
    "            pred.append(sent[k])\n",
    "\n",
    "    sent = \" \".join(sent)\n",
    "    true = \" \".join(true)\n",
    "    pred = \" \".join(pred)\n",
    "\n",
    "    print(\"Sentence = \", sent)\n",
    "    print()\n",
    "    print(\"True = \", true)\n",
    "    print()\n",
    "    print(\"Predicted = \", pred)\n",
    "\n",
    "    print(\"\\n\\n\\n\")"
   ]
  },
  {
   "cell_type": "markdown",
   "metadata": {
    "id": "LRogrwoOeqe0"
   },
   "source": [
    "# References\n",
    "\n",
    "1) https://www.depends-on-the-definition.com/guide-sequence-tagging-neural-networks-python/\n",
    "\n",
    "2) https://machinelearningmastery.com/encoder-decoder-attention-sequence-to-sequence-prediction-keras/\n"
   ]
  },
  {
   "cell_type": "markdown",
   "metadata": {
    "id": "Jq9vxQKofaTh"
   },
   "source": [
    "# Save Model"
   ]
  },
  {
   "cell_type": "code",
   "execution_count": null,
   "metadata": {
    "id": "PdPx3tqbwItj"
   },
   "outputs": [],
   "source": [
    "# model.save(\"seq-lab.h5\")\n",
    "\n",
    "# from google.colab import files\n",
    "# files.download(\"seq-lab.h5\")"
   ]
  },
  {
   "cell_type": "markdown",
   "metadata": {
    "id": "zASZnEeKfda2"
   },
   "source": [
    "# Load and Test the model"
   ]
  },
  {
   "cell_type": "code",
   "execution_count": null,
   "metadata": {
    "id": "T5cuo9u4fj0t"
   },
   "outputs": [],
   "source": [
    "# from random import randint\n",
    "# from tensorflow import keras"
   ]
  },
  {
   "cell_type": "code",
   "execution_count": null,
   "metadata": {
    "id": "Ic3wr02hmBn3"
   },
   "outputs": [],
   "source": [
    "# model = keras.models.load_model('seq-lab.h5')"
   ]
  },
  {
   "cell_type": "code",
   "execution_count": null,
   "metadata": {
    "id": "3y2OvEeFmelY"
   },
   "outputs": [],
   "source": [
    " # # i = randint(1,len(X_te))\n",
    "\n",
    "# for i in range(100):\n",
    "\n",
    "#     p = model.predict(np.array([X_test[i]]))\n",
    "#     p = np.argmax(p, axis=-1)\n",
    "\n",
    "#     sent = []\n",
    "#     true = []\n",
    "#     pred = []\n",
    "\n",
    "#     for w in X_test[i]:\n",
    "#         sent.append(words[w])\n",
    "\n",
    "\n",
    "\n",
    "#     true_label = []\n",
    "#     for j in range(len(y_test[i])):\n",
    "#         ind = y_test[i][j][-1]\n",
    "#         true_label.append(int(ind))\n",
    "\n",
    "#     for y in range(len(true_label)):\n",
    "#         if true_label[y] == 1:\n",
    "#             true.append(sent[y])\n",
    "\n",
    "\n",
    "\n",
    "#     pred_label = p[0]\n",
    "#     for k in range(len(pred_label)):\n",
    "#         if pred_label[k] == 1:\n",
    "#             pred.append(sent[k])\n",
    "\n",
    "\n",
    "\n",
    "#     print(\"Sentence = \", sent)\n",
    "#     print(\"True = \", true)\n",
    "#     print(\"Predicted = \", pred)\n",
    "\n",
    "#     print(\"\\n\\n\\n\")"
   ]
  }
 ],
 "metadata": {
  "colab": {
   "authorship_tag": "ABX9TyPI1grhk50BqnciUIOmZanR",
   "collapsed_sections": [],
   "include_colab_link": true,
   "name": "haiku - Sequence Labelling biLSTM-CRF without Embeddings",
   "provenance": [],
   "toc_visible": true
  },
  "kernelspec": {
   "display_name": "Python 3",
   "language": "python",
   "name": "python3"
  },
  "language_info": {
   "codemirror_mode": {
    "name": "ipython",
    "version": 3
   },
   "file_extension": ".py",
   "mimetype": "text/x-python",
   "name": "python",
   "nbconvert_exporter": "python",
   "pygments_lexer": "ipython3",
   "version": "3.8.5"
  }
 },
 "nbformat": 4,
 "nbformat_minor": 1
}
