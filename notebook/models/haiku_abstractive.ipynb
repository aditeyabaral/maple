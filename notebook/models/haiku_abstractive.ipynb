{
 "cells": [
  {
   "cell_type": "markdown",
   "metadata": {
    "id": "9zII8VL8t27G"
   },
   "source": [
    "# Importing Libraries"
   ]
  },
  {
   "cell_type": "code",
   "execution_count": null,
   "metadata": {
    "colab": {
     "base_uri": "https://localhost:8080/"
    },
    "id": "eMSAQJ0pvOv1",
    "outputId": "e5d915ed-059a-492c-878b-a44ee8e79057"
   },
   "outputs": [
    {
     "name": "stdout",
     "output_type": "stream",
     "text": [
      "[nltk_data] Downloading package punkt to /root/nltk_data...\n",
      "[nltk_data]   Unzipping tokenizers/punkt.zip.\n"
     ]
    },
    {
     "data": {
      "text/plain": [
       "True"
      ]
     },
     "execution_count": 1,
     "metadata": {
      "tags": []
     },
     "output_type": "execute_result"
    }
   ],
   "source": [
    "import nltk\n",
    "nltk.download(\"punkt\")"
   ]
  },
  {
   "cell_type": "code",
   "execution_count": null,
   "metadata": {
    "id": "Hi8UIHCsm2gz"
   },
   "outputs": [],
   "source": [
    "import logging\n",
    "logging.basicConfig(format=\"%(asctime)s : %(levelname)s : %(message)s\", level=logging.INFO)"
   ]
  },
  {
   "cell_type": "code",
   "execution_count": null,
   "metadata": {
    "colab": {
     "base_uri": "https://localhost:8080/"
    },
    "id": "pFNYneClJZg1",
    "outputId": "404e7141-c120-4ebc-c25f-5685c32d5627"
   },
   "outputs": [
    {
     "name": "stdout",
     "output_type": "stream",
     "text": [
      "  % Total    % Received % Xferd  Average Speed   Time    Time     Time  Current\n",
      "                                 Dload  Upload   Total   Spent    Left  Speed\n",
      "100  5230  100  5230    0     0  23881      0 --:--:-- --:--:-- --:--:-- 23881\n"
     ]
    }
   ],
   "source": [
    "!curl -L -O \"https://gist.githubusercontent.com/aditeyabaral/4ff1c55e600e2cf0528503b3bf02a866/raw/dd0001094cd775df6f5158e70da2aa3c05e632c0/attention.py\""
   ]
  },
  {
   "cell_type": "code",
   "execution_count": null,
   "metadata": {
    "colab": {
     "base_uri": "https://localhost:8080/"
    },
    "id": "PSZTQ31sq0Fo",
    "outputId": "0f9e0e94-aa0c-4744-928f-58ed0f976166"
   },
   "outputs": [
    {
     "name": "stderr",
     "output_type": "stream",
     "text": [
      "2021-04-09 18:36:17,219 : INFO : 'pattern' package not found; tag filters are not available for English\n"
     ]
    }
   ],
   "source": [
    "import json\n",
    "import numpy as np\n",
    "import pandas as pd\n",
    "import re\n",
    "import string\n",
    "from google.colab import files\n",
    "from gensim.models import FastText\n",
    "from nltk.tokenize import word_tokenize, sent_tokenize\n",
    "from nltk.corpus import stopwords\n",
    "import matplotlib.pyplot as plt\n",
    "from sklearn.model_selection import train_test_split\n",
    "from tensorflow import keras\n",
    "from keras.preprocessing.text import Tokenizer \n",
    "from keras.preprocessing.sequence import pad_sequences\n",
    "from keras.layers import Input, LSTM, Embedding, Dense, Concatenate, TimeDistributed, Bidirectional\n",
    "from tensorflow.keras.models import Model\n",
    "from keras.utils.vis_utils import plot_model\n",
    "import attention\n",
    "from attention import AttentionLayer"
   ]
  },
  {
   "cell_type": "markdown",
   "metadata": {
    "id": "ylAiZOjet6B7"
   },
   "source": [
    "# Reading Dataset"
   ]
  },
  {
   "cell_type": "code",
   "execution_count": null,
   "metadata": {
    "id": "ax16JtDvrQ21"
   },
   "outputs": [],
   "source": [
    "with open (\"/content/drive/MyDrive/Colab Notebooks/dataset.json\") as d:\n",
    "  dfd_json = json.load(d)"
   ]
  },
  {
   "cell_type": "code",
   "execution_count": null,
   "metadata": {
    "id": "NuviNeMRof6L"
   },
   "outputs": [],
   "source": [
    "poems = list()\n",
    "haikus = list()\n",
    "indices = list()\n",
    "\n",
    "MIN_THRESHOLD_HAIKU = 5\n",
    "MAX_THRESHOLD_POEM = 120\n",
    "\n",
    "for dataset in dfd_json:\n",
    "  for poem in dataset:\n",
    "    for grammar_index in poem:\n",
    "      if grammar_index == \"poem\":\n",
    "        continue\n",
    "      else:\n",
    "        haiku_data = poem[grammar_index]\n",
    "        for haiku, index in list(haiku_data.items()):\n",
    "          if len(index) >= MIN_THRESHOLD_HAIKU and len(poem[\"poem\"].split()) <= MAX_THRESHOLD_POEM:\n",
    "            poems.append(poem[\"poem\"])\n",
    "            haikus.append(haiku)\n",
    "            indices.append(index)"
   ]
  },
  {
   "cell_type": "code",
   "execution_count": null,
   "metadata": {
    "colab": {
     "base_uri": "https://localhost:8080/"
    },
    "id": "D9KJqsRsu9zk",
    "outputId": "1ab19936-1c69-42bb-8492-574d6f0d1d2f"
   },
   "outputs": [
    {
     "data": {
      "text/plain": [
       "(54629, 54629, 54629)"
      ]
     },
     "execution_count": 7,
     "metadata": {
      "tags": []
     },
     "output_type": "execute_result"
    }
   ],
   "source": [
    "len(poems), len(haikus), len(indices)"
   ]
  },
  {
   "cell_type": "code",
   "execution_count": null,
   "metadata": {
    "id": "d7CtJCzCu92G"
   },
   "outputs": [],
   "source": [
    "df = pd.DataFrame()\n",
    "df[\"poem\"] = poems\n",
    "df[\"haiku\"] = haikus\n",
    "df[\"indices\"] = indices"
   ]
  },
  {
   "cell_type": "code",
   "execution_count": null,
   "metadata": {
    "colab": {
     "base_uri": "https://localhost:8080/",
     "height": 195
    },
    "id": "95xjsG-du948",
    "outputId": "adaa8767-4a4e-4a5f-b834-272bf26d05a1"
   },
   "outputs": [
    {
     "data": {
      "text/html": [
       "<div>\n",
       "<style scoped>\n",
       "    .dataframe tbody tr th:only-of-type {\n",
       "        vertical-align: middle;\n",
       "    }\n",
       "\n",
       "    .dataframe tbody tr th {\n",
       "        vertical-align: top;\n",
       "    }\n",
       "\n",
       "    .dataframe thead th {\n",
       "        text-align: right;\n",
       "    }\n",
       "</style>\n",
       "<table border=\"1\" class=\"dataframe\">\n",
       "  <thead>\n",
       "    <tr style=\"text-align: right;\">\n",
       "      <th></th>\n",
       "      <th>poem</th>\n",
       "      <th>haiku</th>\n",
       "      <th>indices</th>\n",
       "    </tr>\n",
       "  </thead>\n",
       "  <tbody>\n",
       "    <tr>\n",
       "      <th>0</th>\n",
       "      <td>Did the CIA tell the FBI that it knows the wor...</td>\n",
       "      <td>cia fbi the biggest weapon</td>\n",
       "      <td>[2, 5, 9, 24, 25]</td>\n",
       "    </tr>\n",
       "    <tr>\n",
       "      <th>1</th>\n",
       "      <td>Did the CIA tell the FBI that it knows the wor...</td>\n",
       "      <td>cia fbi the biggest weapon</td>\n",
       "      <td>[2, 5, 9, 24, 25]</td>\n",
       "    </tr>\n",
       "    <tr>\n",
       "      <th>2</th>\n",
       "      <td>Dark clouds gathered overhead,\\nExpelling bull...</td>\n",
       "      <td>clouds overhead bullets of the valley</td>\n",
       "      <td>[1, 3, 5, 6, 10, 11]</td>\n",
       "    </tr>\n",
       "    <tr>\n",
       "      <th>3</th>\n",
       "      <td>A vigilante lacking of heroic qualities that\\n...</td>\n",
       "      <td>lacking qualities that damn criminals</td>\n",
       "      <td>[2, 5, 6, 11, 12]</td>\n",
       "    </tr>\n",
       "    <tr>\n",
       "      <th>4</th>\n",
       "      <td>(A Diamante Poem)\\nBrain\\nHeavenly, hellish\\nF...</td>\n",
       "      <td>diamante poem the sybaritic pathetic</td>\n",
       "      <td>[1, 2, 10, 18, 19]</td>\n",
       "    </tr>\n",
       "  </tbody>\n",
       "</table>\n",
       "</div>"
      ],
      "text/plain": [
       "                                                poem  ...               indices\n",
       "0  Did the CIA tell the FBI that it knows the wor...  ...     [2, 5, 9, 24, 25]\n",
       "1  Did the CIA tell the FBI that it knows the wor...  ...     [2, 5, 9, 24, 25]\n",
       "2  Dark clouds gathered overhead,\\nExpelling bull...  ...  [1, 3, 5, 6, 10, 11]\n",
       "3  A vigilante lacking of heroic qualities that\\n...  ...     [2, 5, 6, 11, 12]\n",
       "4  (A Diamante Poem)\\nBrain\\nHeavenly, hellish\\nF...  ...    [1, 2, 10, 18, 19]\n",
       "\n",
       "[5 rows x 3 columns]"
      ]
     },
     "execution_count": 9,
     "metadata": {
      "tags": []
     },
     "output_type": "execute_result"
    }
   ],
   "source": [
    "print(df.shape)\n",
    "df.head()"
   ]
  },
  {
   "cell_type": "markdown",
   "metadata": {
    "id": "HcCQZgE4t9GW"
   },
   "source": [
    "# Preprocessing Data"
   ]
  },
  {
   "cell_type": "code",
   "execution_count": null,
   "metadata": {
    "colab": {
     "base_uri": "https://localhost:8080/",
     "height": 102
    },
    "id": "KFWjtgXtypaW",
    "outputId": "904ddaf9-0f59-43c8-aa0b-a5a273e0fd0e"
   },
   "outputs": [
    {
     "data": {
      "application/vnd.google.colaboratory.intrinsic+json": {
       "type": "string"
      },
      "text/plain": [
       "'Did the CIA tell the FBI that it knows the work of the IRA?\\nJust as the RCMP confused the PLO with Al-Quaieda?\\nThe biggest weapon of terror is alphabetic confusion,\\nIt blends together ignorance, fanaticism with dogmatic infusion.\\nFor the homeless, poor and hungry, there is basic need,\\nTo the yammering of the privileged and rich they do not heed.\\nFood and medicine for all is delayed by poor distribution,\\nIt’s waylaid by the mighty against retribution.\\nIt’s hardly a wonder the world’s a more dangerous place,\\nThat the rich and famous try to escape into space.\\nBut the Almighty knows who deserves to be here,\\nAnd it’s not the humble and poor, who have something to fear.'"
      ]
     },
     "execution_count": 10,
     "metadata": {
      "tags": []
     },
     "output_type": "execute_result"
    }
   ],
   "source": [
    "df[\"poem\"][0]"
   ]
  },
  {
   "cell_type": "code",
   "execution_count": null,
   "metadata": {
    "id": "Iew5JvgErXw0"
   },
   "outputs": [],
   "source": [
    "def cleanText(text):\n",
    "  # contraction_mapping = {\"ain't\": \"is not\", \"aren't\": \"are not\",\"can't\": \"cannot\", \"'cause\": \"because\", \"could've\": \"could have\", \"couldn't\": \"could not\", \"didn't\": \"did not\", \"doesn't\": \"does not\", \"don't\": \"do not\", \"hadn't\": \"had not\", \"hasn't\": \"has not\", \"haven't\": \"have not\", \"he'd\": \"he would\",\"he'll\": \"he will\", \"he's\": \"he is\", \"how'd\": \"how did\", \"how'd'y\": \"how do you\", \"how'll\": \"how will\", \"how's\": \"how is\", \"I'd\": \"I would\", \"I'd've\": \"I would have\", \"I'll\": \"I will\", \"I'll've\": \"I will have\",\"I'm\": \"I am\", \"I've\": \"I have\", \"i'd\": \"i would\", \"i'd've\": \"i would have\", \"i'll\": \"i will\",  \"i'll've\": \"i will have\",\"i'm\": \"i am\", \"i've\": \"i have\", \"isn't\": \"is not\", \"it'd\": \"it would\", \"it'd've\": \"it would have\", \"it'll\": \"it will\", \"it'll've\": \"it will have\",\"it's\": \"it is\", \"let's\": \"let us\", \"ma'am\": \"madam\", \"mayn't\": \"may not\", \"might've\": \"might have\",\"mightn't\": \"might not\",\"mightn't've\": \"might not have\", \"must've\": \"must have\", \"mustn't\": \"must not\", \"mustn't've\": \"must not have\", \"needn't\": \"need not\", \"needn't've\": \"need not have\",\"o'clock\": \"of the clock\", \"oughtn't\": \"ought not\", \"oughtn't've\": \"ought not have\", \"shan't\": \"shall not\", \"sha'n't\": \"shall not\", \"shan't've\": \"shall not have\", \"she'd\": \"she would\", \"she'd've\": \"she would have\", \"she'll\": \"she will\", \"she'll've\": \"she will have\", \"she's\": \"she is\", \"should've\": \"should have\", \"shouldn't\": \"should not\", \"shouldn't've\": \"should not have\", \"so've\": \"so have\",\"so's\": \"so as\", \"this's\": \"this is\",\"that'd\": \"that would\", \"that'd've\": \"that would have\", \"that's\": \"that is\", \"there'd\": \"there would\", \"there'd've\": \"there would have\", \"there's\": \"there is\", \"here's\": \"here is\",\"they'd\": \"they would\", \"they'd've\": \"they would have\", \"they'll\": \"they will\", \"they'll've\": \"they will have\", \"they're\": \"they are\", \"they've\": \"they have\", \"to've\": \"to have\", \"wasn't\": \"was not\", \"we'd\": \"we would\", \"we'd've\": \"we would have\", \"we'll\": \"we will\", \"we'll've\": \"we will have\", \"we're\": \"we are\", \"we've\": \"we have\", \"weren't\": \"were not\", \"what'll\": \"what will\", \"what'll've\": \"what will have\", \"what're\": \"what are\", \"what's\": \"what is\", \"what've\": \"what have\", \"when's\": \"when is\", \"when've\": \"when have\", \"where'd\": \"where did\", \"where's\": \"where is\", \"where've\": \"where have\", \"who'll\": \"who will\", \"who'll've\": \"who will have\", \"who's\": \"who is\", \"who've\": \"who have\", \"why's\": \"why is\", \"why've\": \"why have\", \"will've\": \"will have\", \"won't\": \"will not\", \"won't've\": \"will not have\", \"would've\": \"would have\", \"wouldn't\": \"would not\", \"wouldn't've\": \"would not have\", \"y'all\": \"you all\", \"y'all'd\": \"you all would\",\"y'all'd've\": \"you all would have\",\"y'all're\": \"you all are\",\"y'all've\": \"you all have\", \"you'd\": \"you would\", \"you'd've\": \"you would have\", \"you'll\": \"you will\", \"you'll've\": \"you will have\", \"you're\": \"you are\", \"you've\": \"you have\"}\n",
    "  text = text.lower()\n",
    "  text = re.sub(\" +\", \" \", text)\n",
    "  text = re.sub(\"\\n+\", \" \", text)\n",
    "  # text = \" \".join([contraction_mapping[w] if w in contraction_mapping else w for w in text.split()])\n",
    "  # return text\n",
    "\n",
    "  # more preprocessing\n",
    "  text = re.sub(\"[^a-zA-Z0-9\\n']\", \" \", text)\n",
    "  text = re.sub(r'\\([^)]*\\)', '', text)\n",
    "  text = re.sub('\"','', text)\n",
    "  text = re.sub(r\"'s\\b\",\"\",text)\n",
    "  text = re.sub(\" +\", \" \", text)\n",
    "  text = re.sub(\"\\n+\", \" \", text)\n",
    "  return text "
   ]
  },
  {
   "cell_type": "code",
   "execution_count": null,
   "metadata": {
    "id": "8AelLqhPvJwz"
   },
   "outputs": [],
   "source": [
    "df[\"poem\"] = df[\"poem\"].apply(lambda x: cleanText(x))\n",
    "df[\"haiku\"] = df[\"haiku\"].apply(lambda x: \"starttoken \" + cleanText(x) + \" endtoken\")"
   ]
  },
  {
   "cell_type": "code",
   "execution_count": null,
   "metadata": {
    "colab": {
     "base_uri": "https://localhost:8080/",
     "height": 86
    },
    "id": "oQCEay-azeoo",
    "outputId": "c948bac2-c351-4a1e-9b3d-b17749a0b9e0"
   },
   "outputs": [
    {
     "data": {
      "application/vnd.google.colaboratory.intrinsic+json": {
       "type": "string"
      },
      "text/plain": [
       "'did the cia tell the fbi that it knows the work of the ira just as the rcmp confused the plo with al quaieda the biggest weapon of terror is alphabetic confusion it blends together ignorance fanaticism with dogmatic infusion for the homeless poor and hungry there is basic need to the yammering of the privileged and rich they do not heed food and medicine for all is delayed by poor distribution it s waylaid by the mighty against retribution it s hardly a wonder the world s a more dangerous place that the rich and famous try to escape into space but the almighty knows who deserves to be here and it s not the humble and poor who have something to fear '"
      ]
     },
     "execution_count": 13,
     "metadata": {
      "tags": []
     },
     "output_type": "execute_result"
    }
   ],
   "source": [
    "df[\"poem\"][0]"
   ]
  },
  {
   "cell_type": "code",
   "execution_count": null,
   "metadata": {
    "colab": {
     "base_uri": "https://localhost:8080/",
     "height": 195
    },
    "id": "kUPAFBYdzIac",
    "outputId": "2768399e-05e1-40a6-c053-ad9aa6cf1e09"
   },
   "outputs": [
    {
     "data": {
      "text/html": [
       "<div>\n",
       "<style scoped>\n",
       "    .dataframe tbody tr th:only-of-type {\n",
       "        vertical-align: middle;\n",
       "    }\n",
       "\n",
       "    .dataframe tbody tr th {\n",
       "        vertical-align: top;\n",
       "    }\n",
       "\n",
       "    .dataframe thead th {\n",
       "        text-align: right;\n",
       "    }\n",
       "</style>\n",
       "<table border=\"1\" class=\"dataframe\">\n",
       "  <thead>\n",
       "    <tr style=\"text-align: right;\">\n",
       "      <th></th>\n",
       "      <th>poem</th>\n",
       "      <th>haiku</th>\n",
       "      <th>indices</th>\n",
       "    </tr>\n",
       "  </thead>\n",
       "  <tbody>\n",
       "    <tr>\n",
       "      <th>0</th>\n",
       "      <td>did the cia tell the fbi that it knows the wor...</td>\n",
       "      <td>starttoken cia fbi the biggest weapon endtoken</td>\n",
       "      <td>[2, 5, 9, 24, 25]</td>\n",
       "    </tr>\n",
       "    <tr>\n",
       "      <th>1</th>\n",
       "      <td>did the cia tell the fbi that it knows the wor...</td>\n",
       "      <td>starttoken cia fbi the biggest weapon endtoken</td>\n",
       "      <td>[2, 5, 9, 24, 25]</td>\n",
       "    </tr>\n",
       "    <tr>\n",
       "      <th>2</th>\n",
       "      <td>dark clouds gathered overhead expelling bullet...</td>\n",
       "      <td>starttoken clouds overhead bullets of the vall...</td>\n",
       "      <td>[1, 3, 5, 6, 10, 11]</td>\n",
       "    </tr>\n",
       "    <tr>\n",
       "      <th>3</th>\n",
       "      <td>a vigilante lacking of heroic qualities that b...</td>\n",
       "      <td>starttoken lacking qualities that damn crimina...</td>\n",
       "      <td>[2, 5, 6, 11, 12]</td>\n",
       "    </tr>\n",
       "    <tr>\n",
       "      <th>4</th>\n",
       "      <td>a diamante poem brain heavenly hellish floati...</td>\n",
       "      <td>starttoken diamante poem the sybaritic patheti...</td>\n",
       "      <td>[1, 2, 10, 18, 19]</td>\n",
       "    </tr>\n",
       "  </tbody>\n",
       "</table>\n",
       "</div>"
      ],
      "text/plain": [
       "                                                poem  ...               indices\n",
       "0  did the cia tell the fbi that it knows the wor...  ...     [2, 5, 9, 24, 25]\n",
       "1  did the cia tell the fbi that it knows the wor...  ...     [2, 5, 9, 24, 25]\n",
       "2  dark clouds gathered overhead expelling bullet...  ...  [1, 3, 5, 6, 10, 11]\n",
       "3  a vigilante lacking of heroic qualities that b...  ...     [2, 5, 6, 11, 12]\n",
       "4   a diamante poem brain heavenly hellish floati...  ...    [1, 2, 10, 18, 19]\n",
       "\n",
       "[5 rows x 3 columns]"
      ]
     },
     "execution_count": 14,
     "metadata": {
      "tags": []
     },
     "output_type": "execute_result"
    }
   ],
   "source": [
    "df.head()"
   ]
  },
  {
   "cell_type": "markdown",
   "metadata": {
    "id": "AZPW_R7alV-g"
   },
   "source": [
    "# Training fastText"
   ]
  },
  {
   "cell_type": "code",
   "execution_count": null,
   "metadata": {
    "id": "03-Myx1Iha3M"
   },
   "outputs": [],
   "source": [
    "X_words = list(map(word_tokenize, df[\"poem\"].values))\n",
    "y_words = list(map(word_tokenize, df[\"haiku\"].values))"
   ]
  },
  {
   "cell_type": "code",
   "execution_count": null,
   "metadata": {
    "colab": {
     "base_uri": "https://localhost:8080/"
    },
    "id": "G25tmg6slY0m",
    "outputId": "f9a17ef7-3c24-4ceb-9087-9c602e9c8f3c"
   },
   "outputs": [
    {
     "name": "stderr",
     "output_type": "stream",
     "text": [
      "2021-04-09 18:37:01,160 : INFO : collecting all words and their counts\n",
      "2021-04-09 18:37:01,162 : INFO : PROGRESS: at sentence #0, processed 0 words, keeping 0 word types\n",
      "2021-04-09 18:37:01,326 : INFO : PROGRESS: at sentence #10000, processed 824701 words, keeping 20587 word types\n",
      "2021-04-09 18:37:01,508 : INFO : PROGRESS: at sentence #20000, processed 1722816 words, keeping 28868 word types\n",
      "2021-04-09 18:37:01,700 : INFO : PROGRESS: at sentence #30000, processed 2615071 words, keeping 39605 word types\n",
      "2021-04-09 18:37:01,893 : INFO : PROGRESS: at sentence #40000, processed 3564803 words, keeping 48449 word types\n",
      "2021-04-09 18:37:02,104 : INFO : PROGRESS: at sentence #50000, processed 4496374 words, keeping 49699 word types\n",
      "2021-04-09 18:37:02,211 : INFO : PROGRESS: at sentence #60000, processed 4974863 words, keeping 50360 word types\n",
      "2021-04-09 18:37:02,240 : INFO : PROGRESS: at sentence #70000, processed 5056311 words, keeping 50709 word types\n",
      "2021-04-09 18:37:02,269 : INFO : PROGRESS: at sentence #80000, processed 5137901 words, keeping 51057 word types\n",
      "2021-04-09 18:37:02,297 : INFO : PROGRESS: at sentence #90000, processed 5220732 words, keeping 52046 word types\n",
      "2021-04-09 18:37:02,327 : INFO : PROGRESS: at sentence #100000, processed 5303599 words, keeping 52443 word types\n",
      "2021-04-09 18:37:02,359 : INFO : collected 52519 word types from a corpus of 5380391 raw words and 109258 sentences\n",
      "2021-04-09 18:37:02,360 : INFO : Loading a fresh vocabulary\n",
      "2021-04-09 18:37:02,920 : INFO : effective_min_count=1 retains 52519 unique words (100% of original 52519, drops 0)\n",
      "2021-04-09 18:37:02,927 : INFO : effective_min_count=1 leaves 5380391 word corpus (100% of original 5380391, drops 0)\n",
      "2021-04-09 18:37:03,102 : INFO : deleting the raw counts dictionary of 52519 items\n",
      "2021-04-09 18:37:03,106 : INFO : sample=0.001 downsamples 46 most-common words\n",
      "2021-04-09 18:37:03,109 : INFO : downsampling leaves estimated 4245057 word corpus (78.9% of prior 5380391)\n",
      "2021-04-09 18:37:04,020 : INFO : estimated required memory for 52519 words, 249963 buckets and 100 dimensions: 180916540 bytes\n",
      "2021-04-09 18:37:04,030 : INFO : resetting layer weights\n",
      "2021-04-09 18:37:17,552 : INFO : Total number of ngrams is 249963\n",
      "2021-04-09 18:37:19,634 : INFO : training model with 3 workers on 52519 vocabulary and 100 features, using sg=0 hs=0 sample=0.001 negative=5 window=5\n",
      "2021-04-09 18:37:20,760 : INFO : EPOCH 1 - PROGRESS: at 2.53% examples, 151377 words/s, in_qsize 5, out_qsize 0\n",
      "2021-04-09 18:37:21,760 : INFO : EPOCH 1 - PROGRESS: at 4.90% examples, 159461 words/s, in_qsize 5, out_qsize 0\n",
      "2021-04-09 18:37:22,768 : INFO : EPOCH 1 - PROGRESS: at 7.16% examples, 162526 words/s, in_qsize 5, out_qsize 0\n",
      "2021-04-09 18:37:23,837 : INFO : EPOCH 1 - PROGRESS: at 9.27% examples, 160578 words/s, in_qsize 4, out_qsize 1\n",
      "2021-04-09 18:37:24,840 : INFO : EPOCH 1 - PROGRESS: at 11.41% examples, 161506 words/s, in_qsize 5, out_qsize 0\n",
      "2021-04-09 18:37:25,889 : INFO : EPOCH 1 - PROGRESS: at 13.54% examples, 160975 words/s, in_qsize 5, out_qsize 0\n",
      "2021-04-09 18:37:26,914 : INFO : EPOCH 1 - PROGRESS: at 15.66% examples, 161088 words/s, in_qsize 5, out_qsize 0\n",
      "2021-04-09 18:37:28,011 : INFO : EPOCH 1 - PROGRESS: at 17.90% examples, 160735 words/s, in_qsize 5, out_qsize 0\n",
      "2021-04-09 18:37:29,012 : INFO : EPOCH 1 - PROGRESS: at 20.01% examples, 161179 words/s, in_qsize 5, out_qsize 0\n",
      "2021-04-09 18:37:30,022 : INFO : EPOCH 1 - PROGRESS: at 22.16% examples, 161536 words/s, in_qsize 5, out_qsize 0\n",
      "2021-04-09 18:37:31,064 : INFO : EPOCH 1 - PROGRESS: at 24.39% examples, 161288 words/s, in_qsize 5, out_qsize 0\n",
      "2021-04-09 18:37:32,108 : INFO : EPOCH 1 - PROGRESS: at 26.38% examples, 160421 words/s, in_qsize 5, out_qsize 0\n",
      "2021-04-09 18:37:33,143 : INFO : EPOCH 1 - PROGRESS: at 28.37% examples, 159856 words/s, in_qsize 5, out_qsize 0\n",
      "2021-04-09 18:37:34,187 : INFO : EPOCH 1 - PROGRESS: at 30.43% examples, 159761 words/s, in_qsize 5, out_qsize 0\n",
      "2021-04-09 18:37:35,255 : INFO : EPOCH 1 - PROGRESS: at 32.40% examples, 159510 words/s, in_qsize 6, out_qsize 1\n",
      "2021-04-09 18:37:36,262 : INFO : EPOCH 1 - PROGRESS: at 34.39% examples, 159822 words/s, in_qsize 5, out_qsize 0\n",
      "2021-04-09 18:37:37,287 : INFO : EPOCH 1 - PROGRESS: at 36.27% examples, 159495 words/s, in_qsize 6, out_qsize 0\n",
      "2021-04-09 18:37:38,384 : INFO : EPOCH 1 - PROGRESS: at 38.44% examples, 159405 words/s, in_qsize 5, out_qsize 0\n",
      "2021-04-09 18:37:39,415 : INFO : EPOCH 1 - PROGRESS: at 40.48% examples, 159460 words/s, in_qsize 5, out_qsize 0\n",
      "2021-04-09 18:37:40,481 : INFO : EPOCH 1 - PROGRESS: at 42.51% examples, 159243 words/s, in_qsize 5, out_qsize 0\n",
      "2021-04-09 18:37:41,506 : INFO : EPOCH 1 - PROGRESS: at 44.49% examples, 159000 words/s, in_qsize 5, out_qsize 0\n",
      "2021-04-09 18:37:42,527 : INFO : EPOCH 1 - PROGRESS: at 46.50% examples, 159153 words/s, in_qsize 5, out_qsize 0\n",
      "2021-04-09 18:37:43,528 : INFO : EPOCH 1 - PROGRESS: at 48.45% examples, 159095 words/s, in_qsize 5, out_qsize 0\n",
      "2021-04-09 18:37:44,544 : INFO : EPOCH 1 - PROGRESS: at 57.28% examples, 159410 words/s, in_qsize 5, out_qsize 0\n",
      "2021-04-09 18:37:45,608 : INFO : EPOCH 1 - PROGRESS: at 85.16% examples, 159790 words/s, in_qsize 5, out_qsize 0\n",
      "2021-04-09 18:37:46,042 : INFO : worker thread finished; awaiting finish of 2 more threads\n",
      "2021-04-09 18:37:46,066 : INFO : worker thread finished; awaiting finish of 1 more threads\n",
      "2021-04-09 18:37:46,090 : INFO : worker thread finished; awaiting finish of 0 more threads\n",
      "2021-04-09 18:37:46,091 : INFO : EPOCH - 1 : training on 5380391 raw words (4245356 effective words) took 26.4s, 160519 effective words/s\n",
      "2021-04-09 18:37:47,160 : INFO : EPOCH 2 - PROGRESS: at 2.31% examples, 143823 words/s, in_qsize 5, out_qsize 0\n",
      "2021-04-09 18:37:48,161 : INFO : EPOCH 2 - PROGRESS: at 4.56% examples, 151856 words/s, in_qsize 5, out_qsize 0\n",
      "2021-04-09 18:37:49,234 : INFO : EPOCH 2 - PROGRESS: at 6.94% examples, 156891 words/s, in_qsize 5, out_qsize 0\n",
      "2021-04-09 18:37:50,269 : INFO : EPOCH 2 - PROGRESS: at 9.17% examples, 159603 words/s, in_qsize 5, out_qsize 0\n",
      "2021-04-09 18:37:51,314 : INFO : EPOCH 2 - PROGRESS: at 11.41% examples, 160896 words/s, in_qsize 5, out_qsize 0\n",
      "2021-04-09 18:37:52,369 : INFO : EPOCH 2 - PROGRESS: at 13.55% examples, 160307 words/s, in_qsize 5, out_qsize 0\n",
      "2021-04-09 18:37:53,372 : INFO : EPOCH 2 - PROGRESS: at 15.66% examples, 161063 words/s, in_qsize 5, out_qsize 0\n",
      "2021-04-09 18:37:54,421 : INFO : EPOCH 2 - PROGRESS: at 17.80% examples, 160709 words/s, in_qsize 5, out_qsize 0\n",
      "2021-04-09 18:37:55,425 : INFO : EPOCH 2 - PROGRESS: at 19.90% examples, 161083 words/s, in_qsize 5, out_qsize 0\n",
      "2021-04-09 18:37:56,428 : INFO : EPOCH 2 - PROGRESS: at 21.95% examples, 160810 words/s, in_qsize 5, out_qsize 0\n",
      "2021-04-09 18:37:57,521 : INFO : EPOCH 2 - PROGRESS: at 24.30% examples, 160595 words/s, in_qsize 5, out_qsize 0\n",
      "2021-04-09 18:37:58,588 : INFO : EPOCH 2 - PROGRESS: at 26.27% examples, 159516 words/s, in_qsize 5, out_qsize 0\n",
      "2021-04-09 18:37:59,676 : INFO : EPOCH 2 - PROGRESS: at 28.38% examples, 158984 words/s, in_qsize 5, out_qsize 0\n",
      "2021-04-09 18:38:00,800 : INFO : EPOCH 2 - PROGRESS: at 30.50% examples, 158641 words/s, in_qsize 5, out_qsize 0\n",
      "2021-04-09 18:38:01,910 : INFO : EPOCH 2 - PROGRESS: at 32.57% examples, 158517 words/s, in_qsize 6, out_qsize 2\n",
      "2021-04-09 18:38:03,001 : INFO : EPOCH 2 - PROGRESS: at 34.65% examples, 158581 words/s, in_qsize 5, out_qsize 0\n",
      "2021-04-09 18:38:04,040 : INFO : EPOCH 2 - PROGRESS: at 36.68% examples, 158652 words/s, in_qsize 5, out_qsize 0\n",
      "2021-04-09 18:38:05,058 : INFO : EPOCH 2 - PROGRESS: at 38.63% examples, 158544 words/s, in_qsize 5, out_qsize 0\n",
      "2021-04-09 18:38:06,097 : INFO : EPOCH 2 - PROGRESS: at 40.66% examples, 158480 words/s, in_qsize 5, out_qsize 0\n",
      "2021-04-09 18:38:07,140 : INFO : EPOCH 2 - PROGRESS: at 42.71% examples, 158484 words/s, in_qsize 5, out_qsize 0\n",
      "2021-04-09 18:38:08,150 : INFO : EPOCH 2 - PROGRESS: at 44.69% examples, 158377 words/s, in_qsize 5, out_qsize 0\n",
      "2021-04-09 18:38:09,190 : INFO : EPOCH 2 - PROGRESS: at 46.70% examples, 158446 words/s, in_qsize 5, out_qsize 0\n",
      "2021-04-09 18:38:10,204 : INFO : EPOCH 2 - PROGRESS: at 48.75% examples, 158659 words/s, in_qsize 5, out_qsize 0\n",
      "2021-04-09 18:38:11,208 : INFO : EPOCH 2 - PROGRESS: at 59.52% examples, 158673 words/s, in_qsize 4, out_qsize 1\n",
      "2021-04-09 18:38:12,280 : INFO : EPOCH 2 - PROGRESS: at 89.56% examples, 159572 words/s, in_qsize 5, out_qsize 0\n",
      "2021-04-09 18:38:12,601 : INFO : worker thread finished; awaiting finish of 2 more threads\n",
      "2021-04-09 18:38:12,606 : INFO : worker thread finished; awaiting finish of 1 more threads\n",
      "2021-04-09 18:38:12,615 : INFO : worker thread finished; awaiting finish of 0 more threads\n",
      "2021-04-09 18:38:12,617 : INFO : EPOCH - 2 : training on 5380391 raw words (4245468 effective words) took 26.5s, 160099 effective words/s\n",
      "2021-04-09 18:38:13,636 : INFO : EPOCH 3 - PROGRESS: at 2.21% examples, 143248 words/s, in_qsize 5, out_qsize 0\n",
      "2021-04-09 18:38:14,651 : INFO : EPOCH 3 - PROGRESS: at 4.56% examples, 154597 words/s, in_qsize 5, out_qsize 0\n",
      "2021-04-09 18:38:15,690 : INFO : EPOCH 3 - PROGRESS: at 6.85% examples, 157830 words/s, in_qsize 5, out_qsize 0\n",
      "2021-04-09 18:38:16,731 : INFO : EPOCH 3 - PROGRESS: at 9.06% examples, 160163 words/s, in_qsize 5, out_qsize 0\n",
      "2021-04-09 18:38:17,764 : INFO : EPOCH 3 - PROGRESS: at 11.31% examples, 161746 words/s, in_qsize 5, out_qsize 0\n",
      "2021-04-09 18:38:18,872 : INFO : EPOCH 3 - PROGRESS: at 13.54% examples, 160898 words/s, in_qsize 5, out_qsize 0\n",
      "2021-04-09 18:38:19,891 : INFO : EPOCH 3 - PROGRESS: at 15.66% examples, 161196 words/s, in_qsize 4, out_qsize 1\n",
      "2021-04-09 18:38:20,911 : INFO : EPOCH 3 - PROGRESS: at 17.90% examples, 162371 words/s, in_qsize 5, out_qsize 0\n",
      "2021-04-09 18:38:21,935 : INFO : EPOCH 3 - PROGRESS: at 20.01% examples, 162204 words/s, in_qsize 5, out_qsize 0\n",
      "2021-04-09 18:38:23,007 : INFO : EPOCH 3 - PROGRESS: at 22.29% examples, 162250 words/s, in_qsize 5, out_qsize 0\n",
      "2021-04-09 18:38:24,059 : INFO : EPOCH 3 - PROGRESS: at 24.48% examples, 161820 words/s, in_qsize 5, out_qsize 0\n",
      "2021-04-09 18:38:25,065 : INFO : EPOCH 3 - PROGRESS: at 26.48% examples, 161424 words/s, in_qsize 5, out_qsize 0\n",
      "2021-04-09 18:38:26,070 : INFO : EPOCH 3 - PROGRESS: at 28.38% examples, 160555 words/s, in_qsize 5, out_qsize 0\n",
      "2021-04-09 18:38:27,103 : INFO : EPOCH 3 - PROGRESS: at 30.51% examples, 161095 words/s, in_qsize 5, out_qsize 0\n",
      "2021-04-09 18:38:28,149 : INFO : EPOCH 3 - PROGRESS: at 32.48% examples, 160963 words/s, in_qsize 5, out_qsize 0\n",
      "2021-04-09 18:38:29,241 : INFO : EPOCH 3 - PROGRESS: at 34.48% examples, 160336 words/s, in_qsize 4, out_qsize 1\n",
      "2021-04-09 18:38:30,269 : INFO : EPOCH 3 - PROGRESS: at 36.49% examples, 160413 words/s, in_qsize 6, out_qsize 1\n",
      "2021-04-09 18:38:31,387 : INFO : EPOCH 3 - PROGRESS: at 38.64% examples, 160059 words/s, in_qsize 5, out_qsize 0\n",
      "2021-04-09 18:38:32,418 : INFO : EPOCH 3 - PROGRESS: at 40.66% examples, 160109 words/s, in_qsize 5, out_qsize 0\n",
      "2021-04-09 18:38:33,438 : INFO : EPOCH 3 - PROGRESS: at 42.71% examples, 160191 words/s, in_qsize 5, out_qsize 0\n",
      "2021-04-09 18:38:34,464 : INFO : EPOCH 3 - PROGRESS: at 44.69% examples, 159893 words/s, in_qsize 6, out_qsize 0\n",
      "2021-04-09 18:38:35,497 : INFO : EPOCH 3 - PROGRESS: at 46.79% examples, 160306 words/s, in_qsize 5, out_qsize 0\n",
      "2021-04-09 18:38:36,565 : INFO : EPOCH 3 - PROGRESS: at 48.96% examples, 160392 words/s, in_qsize 5, out_qsize 0\n",
      "2021-04-09 18:38:37,567 : INFO : EPOCH 3 - PROGRESS: at 64.04% examples, 160875 words/s, in_qsize 5, out_qsize 0\n",
      "2021-04-09 18:38:38,599 : INFO : EPOCH 3 - PROGRESS: at 91.78% examples, 161370 words/s, in_qsize 5, out_qsize 0\n",
      "2021-04-09 18:38:38,827 : INFO : worker thread finished; awaiting finish of 2 more threads\n",
      "2021-04-09 18:38:38,847 : INFO : worker thread finished; awaiting finish of 1 more threads\n",
      "2021-04-09 18:38:38,854 : INFO : worker thread finished; awaiting finish of 0 more threads\n",
      "2021-04-09 18:38:38,856 : INFO : EPOCH - 3 : training on 5380391 raw words (4244494 effective words) took 26.2s, 161824 effective words/s\n",
      "2021-04-09 18:38:39,866 : INFO : EPOCH 4 - PROGRESS: at 2.31% examples, 152510 words/s, in_qsize 5, out_qsize 0\n",
      "2021-04-09 18:38:40,962 : INFO : EPOCH 4 - PROGRESS: at 4.66% examples, 153216 words/s, in_qsize 5, out_qsize 0\n",
      "2021-04-09 18:38:41,996 : INFO : EPOCH 4 - PROGRESS: at 7.05% examples, 159590 words/s, in_qsize 5, out_qsize 0\n",
      "2021-04-09 18:38:43,000 : INFO : EPOCH 4 - PROGRESS: at 9.17% examples, 160926 words/s, in_qsize 5, out_qsize 0\n",
      "2021-04-09 18:38:44,027 : INFO : EPOCH 4 - PROGRESS: at 11.41% examples, 162497 words/s, in_qsize 5, out_qsize 0\n",
      "2021-04-09 18:38:45,074 : INFO : EPOCH 4 - PROGRESS: at 13.64% examples, 163094 words/s, in_qsize 5, out_qsize 0\n",
      "2021-04-09 18:38:46,133 : INFO : EPOCH 4 - PROGRESS: at 15.88% examples, 163242 words/s, in_qsize 5, out_qsize 0\n",
      "2021-04-09 18:38:47,134 : INFO : EPOCH 4 - PROGRESS: at 18.00% examples, 163590 words/s, in_qsize 5, out_qsize 0\n",
      "2021-04-09 18:38:48,139 : INFO : EPOCH 4 - PROGRESS: at 20.13% examples, 163626 words/s, in_qsize 5, out_qsize 0\n",
      "2021-04-09 18:38:49,142 : INFO : EPOCH 4 - PROGRESS: at 22.16% examples, 163103 words/s, in_qsize 4, out_qsize 1\n",
      "2021-04-09 18:38:50,182 : INFO : EPOCH 4 - PROGRESS: at 24.38% examples, 162760 words/s, in_qsize 5, out_qsize 0\n",
      "2021-04-09 18:38:51,184 : INFO : EPOCH 4 - PROGRESS: at 26.39% examples, 162318 words/s, in_qsize 5, out_qsize 0\n",
      "2021-04-09 18:38:52,196 : INFO : EPOCH 4 - PROGRESS: at 28.28% examples, 161266 words/s, in_qsize 5, out_qsize 0\n",
      "2021-04-09 18:38:53,214 : INFO : EPOCH 4 - PROGRESS: at 30.32% examples, 161360 words/s, in_qsize 5, out_qsize 0\n",
      "2021-04-09 18:38:54,258 : INFO : EPOCH 4 - PROGRESS: at 32.30% examples, 161251 words/s, in_qsize 5, out_qsize 0\n",
      "2021-04-09 18:38:55,274 : INFO : EPOCH 4 - PROGRESS: at 34.30% examples, 161342 words/s, in_qsize 5, out_qsize 0\n",
      "2021-04-09 18:38:56,352 : INFO : EPOCH 4 - PROGRESS: at 36.27% examples, 160892 words/s, in_qsize 5, out_qsize 0\n",
      "2021-04-09 18:38:57,455 : INFO : EPOCH 4 - PROGRESS: at 38.44% examples, 160664 words/s, in_qsize 5, out_qsize 0\n",
      "2021-04-09 18:38:58,468 : INFO : EPOCH 4 - PROGRESS: at 40.48% examples, 160806 words/s, in_qsize 5, out_qsize 0\n",
      "2021-04-09 18:38:59,510 : INFO : EPOCH 4 - PROGRESS: at 42.41% examples, 160320 words/s, in_qsize 4, out_qsize 1\n",
      "2021-04-09 18:39:00,537 : INFO : EPOCH 4 - PROGRESS: at 44.39% examples, 160016 words/s, in_qsize 5, out_qsize 0\n",
      "2021-04-09 18:39:01,568 : INFO : EPOCH 4 - PROGRESS: at 46.39% examples, 160067 words/s, in_qsize 4, out_qsize 1\n",
      "2021-04-09 18:39:02,578 : INFO : EPOCH 4 - PROGRESS: at 48.45% examples, 160230 words/s, in_qsize 5, out_qsize 0\n",
      "2021-04-09 18:39:03,605 : INFO : EPOCH 4 - PROGRESS: at 55.05% examples, 159837 words/s, in_qsize 5, out_qsize 0\n",
      "2021-04-09 18:39:04,626 : INFO : EPOCH 4 - PROGRESS: at 82.94% examples, 160469 words/s, in_qsize 5, out_qsize 0\n",
      "2021-04-09 18:39:05,192 : INFO : worker thread finished; awaiting finish of 2 more threads\n",
      "2021-04-09 18:39:05,205 : INFO : worker thread finished; awaiting finish of 1 more threads\n",
      "2021-04-09 18:39:05,225 : INFO : worker thread finished; awaiting finish of 0 more threads\n",
      "2021-04-09 18:39:05,226 : INFO : EPOCH - 4 : training on 5380391 raw words (4244426 effective words) took 26.4s, 161008 effective words/s\n",
      "2021-04-09 18:39:06,251 : INFO : EPOCH 5 - PROGRESS: at 2.21% examples, 142654 words/s, in_qsize 4, out_qsize 1\n",
      "2021-04-09 18:39:07,294 : INFO : EPOCH 5 - PROGRESS: at 4.55% examples, 152197 words/s, in_qsize 5, out_qsize 0\n",
      "2021-04-09 18:39:08,317 : INFO : EPOCH 5 - PROGRESS: at 6.84% examples, 157159 words/s, in_qsize 5, out_qsize 0\n",
      "2021-04-09 18:39:09,391 : INFO : EPOCH 5 - PROGRESS: at 9.06% examples, 158339 words/s, in_qsize 5, out_qsize 0\n",
      "2021-04-09 18:39:10,398 : INFO : EPOCH 5 - PROGRESS: at 11.31% examples, 161068 words/s, in_qsize 5, out_qsize 0\n",
      "2021-04-09 18:39:11,400 : INFO : EPOCH 5 - PROGRESS: at 13.34% examples, 160513 words/s, in_qsize 5, out_qsize 0\n",
      "2021-04-09 18:39:12,411 : INFO : EPOCH 5 - PROGRESS: at 15.36% examples, 159962 words/s, in_qsize 5, out_qsize 0\n",
      "2021-04-09 18:39:13,455 : INFO : EPOCH 5 - PROGRESS: at 17.50% examples, 159825 words/s, in_qsize 5, out_qsize 0\n",
      "2021-04-09 18:39:14,458 : INFO : EPOCH 5 - PROGRESS: at 19.50% examples, 159505 words/s, in_qsize 4, out_qsize 1\n",
      "2021-04-09 18:39:15,481 : INFO : EPOCH 5 - PROGRESS: at 21.75% examples, 160568 words/s, in_qsize 5, out_qsize 0\n",
      "2021-04-09 18:39:16,542 : INFO : EPOCH 5 - PROGRESS: at 23.91% examples, 159487 words/s, in_qsize 5, out_qsize 0\n",
      "2021-04-09 18:39:17,546 : INFO : EPOCH 5 - PROGRESS: at 25.88% examples, 159292 words/s, in_qsize 5, out_qsize 0\n",
      "2021-04-09 18:39:18,562 : INFO : EPOCH 5 - PROGRESS: at 27.89% examples, 159037 words/s, in_qsize 5, out_qsize 0\n",
      "2021-04-09 18:39:19,572 : INFO : EPOCH 5 - PROGRESS: at 29.75% examples, 158305 words/s, in_qsize 5, out_qsize 0\n",
      "2021-04-09 18:39:20,627 : INFO : EPOCH 5 - PROGRESS: at 31.74% examples, 158249 words/s, in_qsize 5, out_qsize 0\n",
      "2021-04-09 18:39:21,649 : INFO : EPOCH 5 - PROGRESS: at 33.64% examples, 158005 words/s, in_qsize 5, out_qsize 0\n",
      "2021-04-09 18:39:22,708 : INFO : EPOCH 5 - PROGRESS: at 35.73% examples, 158385 words/s, in_qsize 5, out_qsize 0\n",
      "2021-04-09 18:39:23,794 : INFO : EPOCH 5 - PROGRESS: at 37.77% examples, 157985 words/s, in_qsize 5, out_qsize 0\n",
      "2021-04-09 18:39:24,841 : INFO : EPOCH 5 - PROGRESS: at 39.82% examples, 158015 words/s, in_qsize 5, out_qsize 0\n",
      "2021-04-09 18:39:25,852 : INFO : EPOCH 5 - PROGRESS: at 41.74% examples, 157903 words/s, in_qsize 5, out_qsize 0\n",
      "2021-04-09 18:39:26,859 : INFO : EPOCH 5 - PROGRESS: at 43.80% examples, 158228 words/s, in_qsize 5, out_qsize 0\n",
      "2021-04-09 18:39:27,864 : INFO : EPOCH 5 - PROGRESS: at 45.79% examples, 158152 words/s, in_qsize 5, out_qsize 0\n",
      "2021-04-09 18:39:28,904 : INFO : EPOCH 5 - PROGRESS: at 47.75% examples, 158242 words/s, in_qsize 5, out_qsize 0\n",
      "2021-04-09 18:39:29,921 : INFO : EPOCH 5 - PROGRESS: at 49.85% examples, 158428 words/s, in_qsize 5, out_qsize 0\n",
      "2021-04-09 18:39:30,948 : INFO : EPOCH 5 - PROGRESS: at 75.21% examples, 158851 words/s, in_qsize 5, out_qsize 0\n",
      "2021-04-09 18:39:31,774 : INFO : worker thread finished; awaiting finish of 2 more threads\n",
      "2021-04-09 18:39:31,790 : INFO : worker thread finished; awaiting finish of 1 more threads\n",
      "2021-04-09 18:39:31,804 : INFO : worker thread finished; awaiting finish of 0 more threads\n",
      "2021-04-09 18:39:31,806 : INFO : EPOCH - 5 : training on 5380391 raw words (4245071 effective words) took 26.6s, 159773 effective words/s\n",
      "2021-04-09 18:39:31,808 : INFO : training on a 26901955 raw words (21224815 effective words) took 132.2s, 160584 effective words/s\n"
     ]
    }
   ],
   "source": [
    "ft_model = FastText(min_count=1)\n",
    "ft_model.build_vocab(sentences=X_words+y_words)\n",
    "ft_model.train(sentences=X_words+y_words, total_examples=ft_model.corpus_count, epochs=5)"
   ]
  },
  {
   "cell_type": "code",
   "execution_count": null,
   "metadata": {
    "id": "TkKmA5iNsspD"
   },
   "outputs": [],
   "source": [
    "word2embedding = {word:ft_model.wv.get_vector(word) for word in list(ft_model.wv.vocab)}"
   ]
  },
  {
   "cell_type": "markdown",
   "metadata": {
    "id": "c6MvRwwPgklr"
   },
   "source": [
    "# Finding Sequence Parameters"
   ]
  },
  {
   "cell_type": "code",
   "execution_count": null,
   "metadata": {
    "id": "3xd3T3HxiglM"
   },
   "outputs": [],
   "source": [
    "X_text = df[\"poem\"].values\n",
    "y_text = df[\"haiku\"].values"
   ]
  },
  {
   "cell_type": "code",
   "execution_count": null,
   "metadata": {
    "colab": {
     "base_uri": "https://localhost:8080/"
    },
    "id": "9-V9iPCYeJLm",
    "outputId": "67fab9c5-a680-460d-e0e4-5b625613a7f5"
   },
   "outputs": [
    {
     "name": "stdout",
     "output_type": "stream",
     "text": [
      "Tx = 154\n",
      "Ty = 15\n"
     ]
    }
   ],
   "source": [
    "Tx = len(max(X_words, key=len))\n",
    "Ty = len(max(y_words, key=len))\n",
    "print(f\"Tx = {Tx}\\nTy = {Ty}\")"
   ]
  },
  {
   "cell_type": "code",
   "execution_count": null,
   "metadata": {
    "colab": {
     "base_uri": "https://localhost:8080/"
    },
    "id": "BpU9FeI_i5wE",
    "outputId": "7cfb3ed9-96e0-440e-e152-420fbf2a6c28"
   },
   "outputs": [
    {
     "name": "stdout",
     "output_type": "stream",
     "text": [
      "Vocabulary Size of X = 50956\n",
      "Vocabulary Size of y = 22197\n"
     ]
    }
   ],
   "source": [
    "tokenizer_X = Tokenizer()\n",
    "tokenizer_X.fit_on_texts(list(X_text))\n",
    "X_seq = tokenizer_X.texts_to_sequences(X_text)\n",
    "X_seq = pad_sequences(X_seq,  maxlen=Tx, padding='post') \n",
    "vocab_size_X = len(tokenizer_X.word_index) + 1 \n",
    "\n",
    "tokenizer_y = Tokenizer()\n",
    "tokenizer_y.fit_on_texts(list(y_text))\n",
    "y_seq = tokenizer_y.texts_to_sequences(y_text)\n",
    "y_seq = pad_sequences(y_seq,  maxlen=Ty, padding='post') \n",
    "vocab_size_y = len(tokenizer_y.word_index) + 1 \n",
    "\n",
    "print(f\"Vocabulary Size of X = {vocab_size_X}\\nVocabulary Size of y = {vocab_size_y}\")"
   ]
  },
  {
   "cell_type": "code",
   "execution_count": null,
   "metadata": {
    "colab": {
     "base_uri": "https://localhost:8080/"
    },
    "id": "m4EQDuQPL_mw",
    "outputId": "42e97f82-5271-41ab-bb19-6f4b6b93bc88"
   },
   "outputs": [
    {
     "data": {
      "text/plain": [
       "((54629, 154), (54629, 15))"
      ]
     },
     "execution_count": 21,
     "metadata": {
      "tags": []
     },
     "output_type": "execute_result"
    }
   ],
   "source": [
    "X_seq.shape, y_seq.shape"
   ]
  },
  {
   "cell_type": "markdown",
   "metadata": {
    "id": "3-y996r3CiK3"
   },
   "source": [
    "# Creating Embedding Matrices"
   ]
  },
  {
   "cell_type": "code",
   "execution_count": null,
   "metadata": {
    "id": "LvMYWy3jSoid"
   },
   "outputs": [],
   "source": [
    "embedding_matrix_X = np.zeros((vocab_size_X, 100))\n",
    "for word, i in tokenizer_X.word_index.items():\n",
    "\tembedding_vector = word2embedding.get(word)\n",
    "\tif embedding_vector is not None:\n",
    "\t\tembedding_matrix_X[i] = embedding_vector"
   ]
  },
  {
   "cell_type": "code",
   "execution_count": null,
   "metadata": {
    "id": "WFDSMxPVSokr"
   },
   "outputs": [],
   "source": [
    "embedding_matrix_y = np.zeros((vocab_size_y, 100))\n",
    "for word, i in tokenizer_y.word_index.items():\n",
    "\tembedding_vector = word2embedding.get(word)\n",
    "\tif embedding_vector is not None:\n",
    "\t\tembedding_matrix_y[i] = embedding_vector"
   ]
  },
  {
   "cell_type": "markdown",
   "metadata": {
    "id": "FLD1y02JsQVi"
   },
   "source": [
    "# Creating Sequences"
   ]
  },
  {
   "cell_type": "code",
   "execution_count": null,
   "metadata": {
    "colab": {
     "base_uri": "https://localhost:8080/"
    },
    "id": "641jZljEhLD_",
    "outputId": "b9d13a9d-9dda-4233-f9c5-81e47a00879a"
   },
   "outputs": [
    {
     "data": {
      "text/plain": [
       "((51897, 154), (2732, 154), (51897, 15), (2732, 15))"
      ]
     },
     "execution_count": 24,
     "metadata": {
      "tags": []
     },
     "output_type": "execute_result"
    }
   ],
   "source": [
    "X_train, X_test, y_train, y_test = train_test_split(X_seq, y_seq, test_size=0.05, random_state=42)\n",
    "X_train.shape, X_test.shape, y_train.shape, y_test.shape"
   ]
  },
  {
   "cell_type": "markdown",
   "metadata": {
    "id": "66T3f7P7kpJu"
   },
   "source": [
    "# Building Model"
   ]
  },
  {
   "cell_type": "code",
   "execution_count": null,
   "metadata": {
    "id": "aBGpdXPad3IQ"
   },
   "outputs": [],
   "source": [
    "latent_dim = 1024"
   ]
  },
  {
   "cell_type": "code",
   "execution_count": null,
   "metadata": {
    "colab": {
     "base_uri": "https://localhost:8080/",
     "height": 655
    },
    "id": "TDL0OBtulCtG",
    "outputId": "7f8de813-f282-4beb-e8a8-d9e876c95b99"
   },
   "outputs": [
    {
     "data": {
      "image/png": "[encoded data removed]",
      "text/plain": [
       "<IPython.core.display.Image object>"
      ]
     },
     "execution_count": 26,
     "metadata": {
      "tags": []
     },
     "output_type": "execute_result"
    }
   ],
   "source": [
    "#encoder\n",
    "encoder_input = Input(shape=(Tx, ))\n",
    "  \n",
    "encoder_embedding =  Embedding(vocab_size_X, 100, weights=[embedding_matrix_X], trainable=False)(encoder_input)\n",
    "\n",
    "encoder_LSTM_1 = Bidirectional(LSTM(latent_dim, return_state=True, return_sequences=True))\n",
    "encoder_output, forward_h, forward_c, backward_h, backward_c = encoder_LSTM_1(encoder_embedding)\n",
    "\n",
    "# encoder_LSTM_2 = Bidirectional(LSTM(latent_dim, return_state=True, return_sequences=True))\n",
    "# encoder_output, forward_h, forward_c, backward_h, backward_c = encoder_LSTM_2(encoder_output)\n",
    "\n",
    "state_h = Concatenate()([forward_h, backward_h])\n",
    "state_c = Concatenate()([forward_c, backward_c])\n",
    "encoder_states = [state_h, state_c]\n",
    "\n",
    "\n",
    "#decoder\n",
    "decoder_input = Input(shape=(None, ))\n",
    "  \n",
    "decoder_embedding_layer = Embedding(vocab_size_y, 100, weights=[embedding_matrix_y], trainable=False)\n",
    "decoder_embedding = decoder_embedding_layer(decoder_input)\n",
    "\n",
    "decoder_LSTM_1 = LSTM(2*latent_dim, return_state=True, return_sequences=True)\n",
    "decoder_output, decoder_fwd_state, decoder_back_state = decoder_LSTM_1(decoder_embedding, initial_state=encoder_states)\n",
    "\n",
    "\n",
    "# attention\n",
    "attention_layer = AttentionLayer()\n",
    "attention_output, attention_states = attention_layer([encoder_output, decoder_output])\n",
    "decoder_concat = Concatenate(axis=-1)([decoder_output, attention_output])\n",
    "\n",
    "decoder_dense = TimeDistributed(Dense(vocab_size_y, activation='softmax'))\n",
    "decoder_output = decoder_dense(decoder_concat)\n",
    "\n",
    "model = Model([encoder_input, decoder_input], decoder_output)\n",
    "model.compile(optimizer=\"adam\", loss=\"sparse_categorical_crossentropy\", metrics=[\"accuracy\"])\n",
    "plot_model(model, show_shapes=True)"
   ]
  },
  {
   "cell_type": "code",
   "execution_count": null,
   "metadata": {
    "colab": {
     "base_uri": "https://localhost:8080/"
    },
    "id": "5MvxEcXMJR2O",
    "outputId": "4d793c85-7b8f-4238-e409-4186e25641ec"
   },
   "outputs": [
    {
     "name": "stdout",
     "output_type": "stream",
     "text": [
      "Epoch 1/4\n",
      " 41/406 [==>...........................] - ETA: 29:05 - loss: 4.9477 - accuracy: 0.4727"
     ]
    }
   ],
   "source": [
    "history = model.fit(\n",
    "    [X_train, y_train[:,:-1]], \n",
    "    y_train.reshape(y_train.shape[0],y_train.shape[1], 1)[:,1:],\n",
    "    epochs=4,\n",
    "    batch_size=128, \n",
    "    validation_data=([X_test, y_test[:,:-1]], y_test.reshape(y_test.shape[0],y_test.shape[1], 1)[:,1:])\n",
    "    )"
   ]
  },
  {
   "cell_type": "code",
   "execution_count": null,
   "metadata": {
    "id": "9jeLhT7tJR2P"
   },
   "outputs": [],
   "source": [
    "plt.plot(history.history['loss'], label='train')\n",
    "plt.plot(history.history['val_loss'], label='test')\n",
    "plt.legend()\n",
    "plt.show()"
   ]
  },
  {
   "cell_type": "code",
   "execution_count": null,
   "metadata": {
    "id": "C4CloqWX30D9"
   },
   "outputs": [],
   "source": [
    "reverse_target_word_index = tokenizer_y.index_word\n",
    "reverse_source_word_index = tokenizer_X.index_word\n",
    "target_word_index = tokenizer_y.word_index"
   ]
  },
  {
   "cell_type": "code",
   "execution_count": null,
   "metadata": {
    "id": "_PkYgEH830Kw"
   },
   "outputs": [],
   "source": [
    "# Encode the input sequence to get the feature vector\n",
    "encoder_model = Model(inputs=encoder_input, outputs=[encoder_output, state_h, state_c])\n",
    "\n",
    "# Decoder setup\n",
    "# Below tensors will hold the states of the previous time step\n",
    "decoder_state_input_h = Input(shape=(2 * latent_dim,))\n",
    "decoder_state_input_c = Input(shape=(2 * latent_dim,))\n",
    "decoder_hidden_state_input = Input(shape=(Tx, 2 * latent_dim))"
   ]
  },
  {
   "cell_type": "code",
   "execution_count": null,
   "metadata": {
    "id": "tskOpHcc30Qe"
   },
   "outputs": [],
   "source": [
    "dec_emb2 = decoder_embedding_layer(decoder_input) \n",
    "# To predict the next word in the sequence, set the initial states to the states from the previous time step\n",
    "decoder_outputs2, state_h2, state_c2 = decoder_LSTM_1(dec_emb2, initial_state=[decoder_state_input_h, decoder_state_input_c])\n",
    "\n",
    "#attention inference\n",
    "attn_out_inf, attn_states_inf = attention_layer([decoder_hidden_state_input, decoder_outputs2])\n",
    "decoder_inf_concat = Concatenate(axis=-1, name='concat')([decoder_outputs2, attn_out_inf])\n",
    "\n",
    "# A dense softmax layer to generate prob dist. over the target vocabulary\n",
    "decoder_outputs2 = decoder_dense(decoder_inf_concat) \n",
    "\n",
    "# Final decoder model\n",
    "decoder_model = Model(\n",
    "    [decoder_input] + [decoder_hidden_state_input,decoder_state_input_h, decoder_state_input_c],\n",
    "    [decoder_outputs2] + [state_h2, state_c2])"
   ]
  },
  {
   "cell_type": "code",
   "execution_count": null,
   "metadata": {
    "id": "ZsZ6kbav-vqt"
   },
   "outputs": [],
   "source": [
    "def decode_sequence(input_seq):\n",
    "    # Encode the input as state vectors.\n",
    "    e_out, e_h, e_c = encoder_model.predict(input_seq)\n",
    "    \n",
    "    # Generate empty target sequence of length 1.\n",
    "    target_seq = np.zeros((1,1))\n",
    "    \n",
    "    # Populate the first word of target sequence with the start word.\n",
    "    target_seq[0, 0] = target_word_index['starttoken']\n",
    "\n",
    "    stop_condition = False\n",
    "    decoded_sentence = ''\n",
    "    while not stop_condition:\n",
    "      \n",
    "        output_tokens, h, c = decoder_model.predict([target_seq] + [e_out, e_h, e_c])\n",
    "\n",
    "        # Sample a token\n",
    "        sampled_token_index = np.argmax(output_tokens[0, -1, :])\n",
    "        sampled_token = reverse_target_word_index[sampled_token_index]\n",
    "        \n",
    "        if(sampled_token!='endtoken'):\n",
    "            decoded_sentence += ' '+sampled_token\n",
    "\n",
    "        # Exit condition: either hit max length or find stop word.\n",
    "        if (sampled_token == 'endtoken'  or len(decoded_sentence.split()) >= (Ty-1)):\n",
    "            stop_condition = True\n",
    "\n",
    "        # Update the target sequence (of length 1).\n",
    "        target_seq = np.zeros((1,1))\n",
    "        target_seq[0, 0] = sampled_token_index\n",
    "\n",
    "        # Update internal states\n",
    "        e_h, e_c = h, c\n",
    "\n",
    "    return decoded_sentence"
   ]
  },
  {
   "cell_type": "code",
   "execution_count": null,
   "metadata": {
    "id": "ip4lHQGo_i1f"
   },
   "outputs": [],
   "source": [
    "def seq2summary(input_seq):\n",
    "    newString=''\n",
    "    for i in input_seq:\n",
    "        if((i!=0 and i!=target_word_index['starttoken']) and i!=target_word_index['endtoken']):\n",
    "            newString=newString+reverse_target_word_index[i]+' '\n",
    "    return newString\n",
    "\n",
    "def seq2text(input_seq):\n",
    "    newString=''\n",
    "    for i in input_seq:\n",
    "        if(i!=0):\n",
    "            newString=newString+reverse_source_word_index[i]+' '\n",
    "    return newString"
   ]
  },
  {
   "cell_type": "code",
   "execution_count": null,
   "metadata": {
    "id": "meeV82aL_kj-"
   },
   "outputs": [],
   "source": [
    "for i in range(100):\n",
    "    print(\"Article:\",seq2text(X_train[i]))\n",
    "    print(\"Original summary:\",seq2summary(y_train[i]))\n",
    "    print(\"Predicted summary:\",decode_sequence(X_train[i].reshape(1, Tx)))\n",
    "    print(\"\\n\")"
   ]
  }
 ],
 "metadata": {
  "accelerator": "GPU",
  "colab": {
   "collapsed_sections": [],
   "name": "haiku - abstractive",
   "provenance": []
  },
  "kernelspec": {
   "display_name": "Python 3",
   "language": "python",
   "name": "python3"
  },
  "language_info": {
   "codemirror_mode": {
    "name": "ipython",
    "version": 3
   },
   "file_extension": ".py",
   "mimetype": "text/x-python",
   "name": "python",
   "nbconvert_exporter": "python",
   "pygments_lexer": "ipython3",
   "version": "3.8.5"
  }
 },
 "nbformat": 4,
 "nbformat_minor": 1
}
