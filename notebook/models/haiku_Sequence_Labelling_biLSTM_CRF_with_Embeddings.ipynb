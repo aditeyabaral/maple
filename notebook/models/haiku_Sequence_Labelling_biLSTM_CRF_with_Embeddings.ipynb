{
 "cells": [
  {
   "cell_type": "markdown",
   "metadata": {
    "colab_type": "text",
    "id": "view-in-github"
   },
   "source": [
    "<a href=\"https://colab.research.google.com/github/aditeyabaral/haiku/blob/main/notebook/haiku_Sequence_Labelling_biLSTM_CRF_with_Embeddings.ipynb\" target=\"_parent\"><img src=\"https://colab.research.google.com/assets/colab-badge.svg\" alt=\"Open In Colab\"/></a>"
   ]
  },
  {
   "cell_type": "markdown",
   "metadata": {
    "id": "o4cUFX9LLHj9"
   },
   "source": [
    "# Import Library"
   ]
  },
  {
   "cell_type": "code",
   "execution_count": null,
   "metadata": {
    "colab": {
     "base_uri": "https://localhost:8080/"
    },
    "id": "H5rD-y1nuQWv",
    "outputId": "0ae33838-b503-45ab-94ea-0ae0afc3a757"
   },
   "outputs": [
    {
     "name": "stdout",
     "output_type": "stream",
     "text": [
      "Requirement already satisfied: keras-self-attention in /usr/local/lib/python3.7/dist-packages (0.49.0)\n",
      "Requirement already satisfied: numpy in /usr/local/lib/python3.7/dist-packages (from keras-self-attention) (1.19.5)\n",
      "Requirement already satisfied: Keras in /usr/local/lib/python3.7/dist-packages (from keras-self-attention) (2.4.3)\n",
      "Requirement already satisfied: pyyaml in /usr/local/lib/python3.7/dist-packages (from Keras->keras-self-attention) (3.13)\n",
      "Requirement already satisfied: h5py in /usr/local/lib/python3.7/dist-packages (from Keras->keras-self-attention) (2.10.0)\n",
      "Requirement already satisfied: scipy>=0.14 in /usr/local/lib/python3.7/dist-packages (from Keras->keras-self-attention) (1.4.1)\n",
      "Requirement already satisfied: six in /usr/local/lib/python3.7/dist-packages (from h5py->Keras->keras-self-attention) (1.15.0)\n",
      "Requirement already satisfied: keras-crf in /usr/local/lib/python3.7/dist-packages (0.1.1)\n",
      "Requirement already satisfied: seqeval in /usr/local/lib/python3.7/dist-packages (from keras-crf) (1.2.2)\n",
      "Requirement already satisfied: tensorflow in /usr/local/lib/python3.7/dist-packages (from keras-crf) (2.4.1)\n",
      "Requirement already satisfied: tensorflow-addons in /usr/local/lib/python3.7/dist-packages (from keras-crf) (0.12.1)\n",
      "Requirement already satisfied: numpy>=1.14.0 in /usr/local/lib/python3.7/dist-packages (from seqeval->keras-crf) (1.19.5)\n",
      "Requirement already satisfied: scikit-learn>=0.21.3 in /usr/local/lib/python3.7/dist-packages (from seqeval->keras-crf) (0.22.2.post1)\n",
      "Requirement already satisfied: protobuf>=3.9.2 in /usr/local/lib/python3.7/dist-packages (from tensorflow->keras-crf) (3.12.4)\n",
      "Requirement already satisfied: tensorboard~=2.4 in /usr/local/lib/python3.7/dist-packages (from tensorflow->keras-crf) (2.4.1)\n",
      "Requirement already satisfied: opt-einsum~=3.3.0 in /usr/local/lib/python3.7/dist-packages (from tensorflow->keras-crf) (3.3.0)\n",
      "Requirement already satisfied: six~=1.15.0 in /usr/local/lib/python3.7/dist-packages (from tensorflow->keras-crf) (1.15.0)\n",
      "Requirement already satisfied: termcolor~=1.1.0 in /usr/local/lib/python3.7/dist-packages (from tensorflow->keras-crf) (1.1.0)\n",
      "Requirement already satisfied: grpcio~=1.32.0 in /usr/local/lib/python3.7/dist-packages (from tensorflow->keras-crf) (1.32.0)\n",
      "Requirement already satisfied: absl-py~=0.10 in /usr/local/lib/python3.7/dist-packages (from tensorflow->keras-crf) (0.12.0)\n",
      "Requirement already satisfied: typing-extensions~=3.7.4 in /usr/local/lib/python3.7/dist-packages (from tensorflow->keras-crf) (3.7.4.3)\n",
      "Requirement already satisfied: google-pasta~=0.2 in /usr/local/lib/python3.7/dist-packages (from tensorflow->keras-crf) (0.2.0)\n",
      "Requirement already satisfied: keras-preprocessing~=1.1.2 in /usr/local/lib/python3.7/dist-packages (from tensorflow->keras-crf) (1.1.2)\n",
      "Requirement already satisfied: flatbuffers~=1.12.0 in /usr/local/lib/python3.7/dist-packages (from tensorflow->keras-crf) (1.12)\n",
      "Requirement already satisfied: wrapt~=1.12.1 in /usr/local/lib/python3.7/dist-packages (from tensorflow->keras-crf) (1.12.1)\n",
      "Requirement already satisfied: h5py~=2.10.0 in /usr/local/lib/python3.7/dist-packages (from tensorflow->keras-crf) (2.10.0)\n",
      "Requirement already satisfied: astunparse~=1.6.3 in /usr/local/lib/python3.7/dist-packages (from tensorflow->keras-crf) (1.6.3)\n",
      "Requirement already satisfied: wheel~=0.35 in /usr/local/lib/python3.7/dist-packages (from tensorflow->keras-crf) (0.36.2)\n",
      "Requirement already satisfied: gast==0.3.3 in /usr/local/lib/python3.7/dist-packages (from tensorflow->keras-crf) (0.3.3)\n",
      "Requirement already satisfied: tensorflow-estimator<2.5.0,>=2.4.0 in /usr/local/lib/python3.7/dist-packages (from tensorflow->keras-crf) (2.4.0)\n",
      "Requirement already satisfied: typeguard>=2.7 in /usr/local/lib/python3.7/dist-packages (from tensorflow-addons->keras-crf) (2.7.1)\n",
      "Requirement already satisfied: scipy>=0.17.0 in /usr/local/lib/python3.7/dist-packages (from scikit-learn>=0.21.3->seqeval->keras-crf) (1.4.1)\n",
      "Requirement already satisfied: joblib>=0.11 in /usr/local/lib/python3.7/dist-packages (from scikit-learn>=0.21.3->seqeval->keras-crf) (1.0.1)\n",
      "Requirement already satisfied: setuptools in /usr/local/lib/python3.7/dist-packages (from protobuf>=3.9.2->tensorflow->keras-crf) (54.2.0)\n",
      "Requirement already satisfied: google-auth<2,>=1.6.3 in /usr/local/lib/python3.7/dist-packages (from tensorboard~=2.4->tensorflow->keras-crf) (1.28.0)\n",
      "Requirement already satisfied: google-auth-oauthlib<0.5,>=0.4.1 in /usr/local/lib/python3.7/dist-packages (from tensorboard~=2.4->tensorflow->keras-crf) (0.4.3)\n",
      "Requirement already satisfied: werkzeug>=0.11.15 in /usr/local/lib/python3.7/dist-packages (from tensorboard~=2.4->tensorflow->keras-crf) (1.0.1)\n",
      "Requirement already satisfied: markdown>=2.6.8 in /usr/local/lib/python3.7/dist-packages (from tensorboard~=2.4->tensorflow->keras-crf) (3.3.4)\n",
      "Requirement already satisfied: requests<3,>=2.21.0 in /usr/local/lib/python3.7/dist-packages (from tensorboard~=2.4->tensorflow->keras-crf) (2.23.0)\n",
      "Requirement already satisfied: tensorboard-plugin-wit>=1.6.0 in /usr/local/lib/python3.7/dist-packages (from tensorboard~=2.4->tensorflow->keras-crf) (1.8.0)\n",
      "Requirement already satisfied: cachetools<5.0,>=2.0.0 in /usr/local/lib/python3.7/dist-packages (from google-auth<2,>=1.6.3->tensorboard~=2.4->tensorflow->keras-crf) (4.2.1)\n",
      "Requirement already satisfied: rsa<5,>=3.1.4; python_version >= \"3.6\" in /usr/local/lib/python3.7/dist-packages (from google-auth<2,>=1.6.3->tensorboard~=2.4->tensorflow->keras-crf) (4.7.2)\n",
      "Requirement already satisfied: pyasn1-modules>=0.2.1 in /usr/local/lib/python3.7/dist-packages (from google-auth<2,>=1.6.3->tensorboard~=2.4->tensorflow->keras-crf) (0.2.8)\n",
      "Requirement already satisfied: requests-oauthlib>=0.7.0 in /usr/local/lib/python3.7/dist-packages (from google-auth-oauthlib<0.5,>=0.4.1->tensorboard~=2.4->tensorflow->keras-crf) (1.3.0)\n",
      "Requirement already satisfied: importlib-metadata; python_version < \"3.8\" in /usr/local/lib/python3.7/dist-packages (from markdown>=2.6.8->tensorboard~=2.4->tensorflow->keras-crf) (3.8.1)\n",
      "Requirement already satisfied: urllib3!=1.25.0,!=1.25.1,<1.26,>=1.21.1 in /usr/local/lib/python3.7/dist-packages (from requests<3,>=2.21.0->tensorboard~=2.4->tensorflow->keras-crf) (1.24.3)\n",
      "Requirement already satisfied: chardet<4,>=3.0.2 in /usr/local/lib/python3.7/dist-packages (from requests<3,>=2.21.0->tensorboard~=2.4->tensorflow->keras-crf) (3.0.4)\n",
      "Requirement already satisfied: certifi>=2017.4.17 in /usr/local/lib/python3.7/dist-packages (from requests<3,>=2.21.0->tensorboard~=2.4->tensorflow->keras-crf) (2020.12.5)\n",
      "Requirement already satisfied: idna<3,>=2.5 in /usr/local/lib/python3.7/dist-packages (from requests<3,>=2.21.0->tensorboard~=2.4->tensorflow->keras-crf) (2.10)\n",
      "Requirement already satisfied: pyasn1>=0.1.3 in /usr/local/lib/python3.7/dist-packages (from rsa<5,>=3.1.4; python_version >= \"3.6\"->google-auth<2,>=1.6.3->tensorboard~=2.4->tensorflow->keras-crf) (0.4.8)\n",
      "Requirement already satisfied: oauthlib>=3.0.0 in /usr/local/lib/python3.7/dist-packages (from requests-oauthlib>=0.7.0->google-auth-oauthlib<0.5,>=0.4.1->tensorboard~=2.4->tensorflow->keras-crf) (3.1.0)\n",
      "Requirement already satisfied: zipp>=0.5 in /usr/local/lib/python3.7/dist-packages (from importlib-metadata; python_version < \"3.8\"->markdown>=2.6.8->tensorboard~=2.4->tensorflow->keras-crf) (3.4.1)\n"
     ]
    }
   ],
   "source": [
    "! pip install keras-self-attention\n",
    "! pip install keras-crf"
   ]
  },
  {
   "cell_type": "code",
   "execution_count": null,
   "metadata": {
    "colab": {
     "base_uri": "https://localhost:8080/"
    },
    "id": "C6Q4_XyAi5HL",
    "outputId": "b1a2cef4-797a-4636-f680-7e29d614899a"
   },
   "outputs": [
    {
     "name": "stdout",
     "output_type": "stream",
     "text": [
      "[nltk_data] Downloading package punkt to /root/nltk_data...\n",
      "[nltk_data]   Package punkt is already up-to-date!\n"
     ]
    },
    {
     "data": {
      "text/plain": [
       "True"
      ]
     },
     "execution_count": 57,
     "metadata": {
      "tags": []
     },
     "output_type": "execute_result"
    }
   ],
   "source": [
    "import nltk\n",
    "nltk.download('punkt')"
   ]
  },
  {
   "cell_type": "code",
   "execution_count": null,
   "metadata": {
    "id": "gLOj6juAMCFx"
   },
   "outputs": [],
   "source": [
    "import json\n",
    "import numpy as np\n",
    "import pandas as pd\n",
    "import re\n",
    "import string\n",
    "\n",
    "import matplotlib.pyplot as plt\n",
    "\n",
    "import keras\n",
    "from keras_self_attention import SeqSelfAttention\n",
    "from keras_crf import CRF\n",
    "from keras.layers import Lambda\n",
    "import tensorflow as tf\n",
    "from keras.models import Sequential\n",
    "from sklearn.model_selection import train_test_split\n",
    "from keras.models import Model, Input\n",
    "from keras.layers import LSTM, Embedding, Dense, TimeDistributed, Dropout, Bidirectional\n",
    "from keras.utils import to_categorical\n",
    "from keras.preprocessing.sequence import pad_sequences"
   ]
  },
  {
   "cell_type": "code",
   "execution_count": null,
   "metadata": {
    "id": "jtsrGkesi1Lv"
   },
   "outputs": [],
   "source": [
    "import json\n",
    "import numpy as np\n",
    "import pandas as pd\n",
    "import re\n",
    "import string\n",
    "from google.colab import files\n",
    "from gensim.models import FastText\n",
    "from nltk.tokenize import word_tokenize, sent_tokenize\n",
    "from nltk.corpus import stopwords\n",
    "import matplotlib.pyplot as plt\n",
    "from sklearn.model_selection import train_test_split\n",
    "from tensorflow import keras\n",
    "from keras.models import Sequential\n",
    "from keras.preprocessing.text import Tokenizer \n",
    "from keras.preprocessing.sequence import pad_sequences\n",
    "from keras.layers import Input, LSTM, Embedding, Dense, Concatenate, TimeDistributed, Bidirectional, Dropout\n",
    "from tensorflow.keras.models import Model\n",
    "from keras.utils.vis_utils import plot_model\n",
    "from keras.utils import to_categorical\n",
    "# from keras_self_attention import SeqSelfAttention"
   ]
  },
  {
   "cell_type": "code",
   "execution_count": null,
   "metadata": {
    "colab": {
     "base_uri": "https://localhost:8080/"
    },
    "id": "GbivdvVVvJoU",
    "outputId": "3dd1bc34-d5c1-4708-9f03-ff8c3a315f6c"
   },
   "outputs": [
    {
     "name": "stdout",
     "output_type": "stream",
     "text": [
      "Drive already mounted at /content/drive; to attempt to forcibly remount, call drive.mount(\"/content/drive\", force_remount=True).\n"
     ]
    }
   ],
   "source": [
    "from google.colab import drive\n",
    "drive.mount('/content/drive')"
   ]
  },
  {
   "cell_type": "code",
   "execution_count": null,
   "metadata": {
    "id": "L0KJF8eGvLO8"
   },
   "outputs": [],
   "source": [
    "with open (\"/content/drive/MyDrive/Colab Notebooks/NLP/dataset.json\") as d:\n",
    "  dfd_json = json.load(d)"
   ]
  },
  {
   "cell_type": "markdown",
   "metadata": {
    "id": "0ko5-eUsvXBG"
   },
   "source": [
    "# Preprocessing"
   ]
  },
  {
   "cell_type": "code",
   "execution_count": null,
   "metadata": {
    "id": "DPFplqkSQiPX"
   },
   "outputs": [],
   "source": [
    "poems = list()\n",
    "haikus = list()\n",
    "indices = list()\n",
    "\n",
    "MIN_THRESHOLD_HAIKU = 5\n",
    "MAX_THRESHOLD_POEM = 120\n",
    "\n",
    "for dataset in dfd_json:\n",
    "  for poem in dataset:\n",
    "    for grammar_index in poem:\n",
    "      if grammar_index == \"poem\":\n",
    "        continue\n",
    "      else:\n",
    "        haiku_data = poem[grammar_index]\n",
    "        for haiku, index in list(haiku_data.items()):\n",
    "          if len(index) >= MIN_THRESHOLD_HAIKU and len(poem[\"poem\"].split()) <= MAX_THRESHOLD_POEM:\n",
    "            poems.append(poem[\"poem\"])\n",
    "            haikus.append(haiku)\n",
    "            indices.append(index)\n",
    "\n",
    "\n",
    "\n",
    "df = pd.DataFrame()\n",
    "df[\"poem\"] = poems\n",
    "df[\"haiku\"] = haikus\n",
    "df[\"indices\"] = indices\n",
    "df = df.drop_duplicates(subset=[\"poem\"])\n",
    "df = df.reset_index(drop=True)"
   ]
  },
  {
   "cell_type": "markdown",
   "metadata": {
    "id": "AZPW_R7alV-g"
   },
   "source": [
    "## Training fastText"
   ]
  },
  {
   "cell_type": "code",
   "execution_count": null,
   "metadata": {
    "id": "03-Myx1Iha3M"
   },
   "outputs": [],
   "source": [
    "X_words = list(map(word_tokenize, df[\"poem\"].values))\n",
    "y_words = list(map(word_tokenize, df[\"haiku\"].values))"
   ]
  },
  {
   "cell_type": "code",
   "execution_count": null,
   "metadata": {
    "id": "G25tmg6slY0m"
   },
   "outputs": [],
   "source": [
    "ft_model = FastText(min_count=1)\n",
    "ft_model.build_vocab(sentences=X_words)\n",
    "ft_model.train(sentences=X_words, total_examples=ft_model.corpus_count, epochs=5)"
   ]
  },
  {
   "cell_type": "code",
   "execution_count": null,
   "metadata": {
    "id": "TkKmA5iNsspD"
   },
   "outputs": [],
   "source": [
    "word2embedding = {word:ft_model.wv.get_vector(word) for word in list(ft_model.wv.vocab)}"
   ]
  },
  {
   "cell_type": "markdown",
   "metadata": {
    "id": "3-y996r3CiK3"
   },
   "source": [
    "## Creating Embedding Matrices"
   ]
  },
  {
   "cell_type": "code",
   "execution_count": null,
   "metadata": {
    "id": "qFIEQfID66Uz"
   },
   "outputs": [],
   "source": [
    "X_text = df[\"poem\"].values\n",
    "tokenizer_X = Tokenizer()\n",
    "tokenizer_X.fit_on_texts(list(X_text))\n",
    "vocab_size_X = len(tokenizer_X.word_index) + 1 "
   ]
  },
  {
   "cell_type": "code",
   "execution_count": null,
   "metadata": {
    "id": "LvMYWy3jSoid"
   },
   "outputs": [],
   "source": [
    "embedding_matrix_X = np.zeros((vocab_size_X, 100))\n",
    "for word, i in tokenizer_X.word_index.items():\n",
    "\tembedding_vector = word2embedding.get(word)\n",
    "\tif embedding_vector is not None:\n",
    "\t\tembedding_matrix_X[i] = embedding_vector"
   ]
  },
  {
   "cell_type": "markdown",
   "metadata": {
    "id": "lbGfyWpvwBl_"
   },
   "source": [
    "## Dataset Generation"
   ]
  },
  {
   "cell_type": "code",
   "execution_count": null,
   "metadata": {
    "colab": {
     "base_uri": "https://localhost:8080/",
     "height": 202
    },
    "id": "-UH9n93GLoT6",
    "outputId": "b23f4a97-85f0-425e-b7e2-1374c89a3654"
   },
   "outputs": [
    {
     "data": {
      "text/html": [
       "<div>\n",
       "<style scoped>\n",
       "    .dataframe tbody tr th:only-of-type {\n",
       "        vertical-align: middle;\n",
       "    }\n",
       "\n",
       "    .dataframe tbody tr th {\n",
       "        vertical-align: top;\n",
       "    }\n",
       "\n",
       "    .dataframe thead th {\n",
       "        text-align: right;\n",
       "    }\n",
       "</style>\n",
       "<table border=\"1\" class=\"dataframe\">\n",
       "  <thead>\n",
       "    <tr style=\"text-align: right;\">\n",
       "      <th></th>\n",
       "      <th>poem</th>\n",
       "      <th>haiku</th>\n",
       "      <th>indices</th>\n",
       "    </tr>\n",
       "  </thead>\n",
       "  <tbody>\n",
       "    <tr>\n",
       "      <th>0</th>\n",
       "      <td>Did the CIA tell the FBI that it knows the wor...</td>\n",
       "      <td>cia fbi the biggest weapon</td>\n",
       "      <td>[2, 5, 9, 24, 25]</td>\n",
       "    </tr>\n",
       "    <tr>\n",
       "      <th>1</th>\n",
       "      <td>Dark clouds gathered overhead,\\nExpelling bull...</td>\n",
       "      <td>clouds overhead bullets of the valley</td>\n",
       "      <td>[1, 3, 5, 6, 10, 11]</td>\n",
       "    </tr>\n",
       "    <tr>\n",
       "      <th>2</th>\n",
       "      <td>A vigilante lacking of heroic qualities that\\n...</td>\n",
       "      <td>lacking qualities that damn criminals</td>\n",
       "      <td>[2, 5, 6, 11, 12]</td>\n",
       "    </tr>\n",
       "    <tr>\n",
       "      <th>3</th>\n",
       "      <td>(A Diamante Poem)\\nBrain\\nHeavenly, hellish\\nF...</td>\n",
       "      <td>diamante poem the sybaritic pathetic</td>\n",
       "      <td>[1, 2, 10, 18, 19]</td>\n",
       "    </tr>\n",
       "    <tr>\n",
       "      <th>4</th>\n",
       "      <td>Can I break tradition?\\nWill it be okay?\\nI'll...</td>\n",
       "      <td>ill speaks a worst condition</td>\n",
       "      <td>[8, 31, 37, 47, 48]</td>\n",
       "    </tr>\n",
       "  </tbody>\n",
       "</table>\n",
       "</div>"
      ],
      "text/plain": [
       "                                                poem  ...               indices\n",
       "0  Did the CIA tell the FBI that it knows the wor...  ...     [2, 5, 9, 24, 25]\n",
       "1  Dark clouds gathered overhead,\\nExpelling bull...  ...  [1, 3, 5, 6, 10, 11]\n",
       "2  A vigilante lacking of heroic qualities that\\n...  ...     [2, 5, 6, 11, 12]\n",
       "3  (A Diamante Poem)\\nBrain\\nHeavenly, hellish\\nF...  ...    [1, 2, 10, 18, 19]\n",
       "4  Can I break tradition?\\nWill it be okay?\\nI'll...  ...   [8, 31, 37, 47, 48]\n",
       "\n",
       "[5 rows x 3 columns]"
      ]
     },
     "execution_count": 68,
     "metadata": {
      "tags": []
     },
     "output_type": "execute_result"
    }
   ],
   "source": [
    "df.head()"
   ]
  },
  {
   "cell_type": "code",
   "execution_count": null,
   "metadata": {
    "colab": {
     "base_uri": "https://localhost:8080/"
    },
    "id": "-rSXNUhyUWpU",
    "outputId": "605a24a2-cb57-41b9-f02b-014f1daa851b"
   },
   "outputs": [
    {
     "data": {
      "text/plain": [
       "(16903, 3)"
      ]
     },
     "execution_count": 69,
     "metadata": {
      "tags": []
     },
     "output_type": "execute_result"
    }
   ],
   "source": [
    "df.shape"
   ]
  },
  {
   "cell_type": "code",
   "execution_count": null,
   "metadata": {
    "colab": {
     "base_uri": "https://localhost:8080/",
     "height": 237
    },
    "id": "EiIXyf3yMMWS",
    "outputId": "1230dfff-8c0b-486c-916a-efae2e78559f"
   },
   "outputs": [
    {
     "data": {
      "text/html": [
       "<div>\n",
       "<style scoped>\n",
       "    .dataframe tbody tr th:only-of-type {\n",
       "        vertical-align: middle;\n",
       "    }\n",
       "\n",
       "    .dataframe tbody tr th {\n",
       "        vertical-align: top;\n",
       "    }\n",
       "\n",
       "    .dataframe thead th {\n",
       "        text-align: right;\n",
       "    }\n",
       "</style>\n",
       "<table border=\"1\" class=\"dataframe\">\n",
       "  <thead>\n",
       "    <tr style=\"text-align: right;\">\n",
       "      <th></th>\n",
       "      <th>poem</th>\n",
       "      <th>haiku</th>\n",
       "      <th>indices</th>\n",
       "    </tr>\n",
       "  </thead>\n",
       "  <tbody>\n",
       "    <tr>\n",
       "      <th>15841</th>\n",
       "      <td>I will not tend. Or water,\\npull, or yank,\\nI ...</td>\n",
       "      <td>watch dirt a wide room</td>\n",
       "      <td>[27, 68, 70, 71, 73]</td>\n",
       "    </tr>\n",
       "    <tr>\n",
       "      <th>5354</th>\n",
       "      <td>Like the Ocean kissed The Sky\\nAt the most bea...</td>\n",
       "      <td>ocean sky the beautiful place as the ocean</td>\n",
       "      <td>[2, 5, 7, 9, 10, 100, 111, 112]</td>\n",
       "    </tr>\n",
       "    <tr>\n",
       "      <th>2522</th>\n",
       "      <td>I believe in yesterdays with fine tunes\\nWhere...</td>\n",
       "      <td>yesterdays fine tunes through all afternoons</td>\n",
       "      <td>[3, 5, 6, 11, 28, 31]</td>\n",
       "    </tr>\n",
       "    <tr>\n",
       "      <th>10199</th>\n",
       "      <td>I was enriched, not casting after marvels,\\r\\r...</td>\n",
       "      <td>got random a sweet note</td>\n",
       "      <td>[31, 50, 54, 70, 77]</td>\n",
       "    </tr>\n",
       "    <tr>\n",
       "      <th>13302</th>\n",
       "      <td>The Fathers put their trust in the end of the ...</td>\n",
       "      <td>put gnostics some wealth grumbles</td>\n",
       "      <td>[2, 16, 28, 30, 55]</td>\n",
       "    </tr>\n",
       "  </tbody>\n",
       "</table>\n",
       "</div>"
      ],
      "text/plain": [
       "                                                    poem  ...                          indices\n",
       "15841  I will not tend. Or water,\\npull, or yank,\\nI ...  ...             [27, 68, 70, 71, 73]\n",
       "5354   Like the Ocean kissed The Sky\\nAt the most bea...  ...  [2, 5, 7, 9, 10, 100, 111, 112]\n",
       "2522   I believe in yesterdays with fine tunes\\nWhere...  ...            [3, 5, 6, 11, 28, 31]\n",
       "10199  I was enriched, not casting after marvels,\\r\\r...  ...             [31, 50, 54, 70, 77]\n",
       "13302  The Fathers put their trust in the end of the ...  ...              [2, 16, 28, 30, 55]\n",
       "\n",
       "[5 rows x 3 columns]"
      ]
     },
     "execution_count": 70,
     "metadata": {
      "tags": []
     },
     "output_type": "execute_result"
    }
   ],
   "source": [
    "df = df.sample(1000)\n",
    "df.head()"
   ]
  },
  {
   "cell_type": "code",
   "execution_count": null,
   "metadata": {
    "id": "sid46n32XFIr"
   },
   "outputs": [],
   "source": [
    "def clean(s):\n",
    "    s = s.translate(str.maketrans('', '', string.punctuation)).strip().lower()\n",
    "    return s"
   ]
  },
  {
   "cell_type": "code",
   "execution_count": null,
   "metadata": {
    "id": "ifrVaPHTMifI"
   },
   "outputs": [],
   "source": [
    "poems = list(df[\"poem\"])\n",
    "tags = list(df[\"indices\"])\n",
    "poem_no = []\n",
    "word = []\n",
    "tag = []\n",
    "\n",
    "for i in range(len(poems)):\n",
    "    poem = poems[i].split()\n",
    "\n",
    "    count_poem = [i+1] * len(poem)\n",
    "    poem_no.extend(count_poem)\n",
    "\n",
    "    word.extend(poem)\n",
    "\n",
    "    count_tag = [0] * len(poem)\n",
    "    for j in tags[i]:\n",
    "        count_tag[j] = 1\n",
    "    tag.extend(count_tag)\n",
    "\n",
    "word = list(map(clean, word))"
   ]
  },
  {
   "cell_type": "code",
   "execution_count": null,
   "metadata": {
    "id": "PodVPTT0VtDa"
   },
   "outputs": [],
   "source": [
    "dataset = {\"poem_no\" : poem_no, \"word\" : word, \"tag\" : tag}\n",
    "df = pd.DataFrame(dataset)\n",
    "df = df[df[\"word\"] != \"\"]"
   ]
  },
  {
   "cell_type": "code",
   "execution_count": null,
   "metadata": {
    "colab": {
     "base_uri": "https://localhost:8080/",
     "height": 202
    },
    "id": "nkV5140QTUeK",
    "outputId": "816cb0c0-e192-4187-8b9b-fdd59f1a97cd"
   },
   "outputs": [
    {
     "data": {
      "text/html": [
       "<div>\n",
       "<style scoped>\n",
       "    .dataframe tbody tr th:only-of-type {\n",
       "        vertical-align: middle;\n",
       "    }\n",
       "\n",
       "    .dataframe tbody tr th {\n",
       "        vertical-align: top;\n",
       "    }\n",
       "\n",
       "    .dataframe thead th {\n",
       "        text-align: right;\n",
       "    }\n",
       "</style>\n",
       "<table border=\"1\" class=\"dataframe\">\n",
       "  <thead>\n",
       "    <tr style=\"text-align: right;\">\n",
       "      <th></th>\n",
       "      <th>poem_no</th>\n",
       "      <th>word</th>\n",
       "      <th>tag</th>\n",
       "    </tr>\n",
       "  </thead>\n",
       "  <tbody>\n",
       "    <tr>\n",
       "      <th>0</th>\n",
       "      <td>1</td>\n",
       "      <td>i</td>\n",
       "      <td>0</td>\n",
       "    </tr>\n",
       "    <tr>\n",
       "      <th>1</th>\n",
       "      <td>1</td>\n",
       "      <td>will</td>\n",
       "      <td>0</td>\n",
       "    </tr>\n",
       "    <tr>\n",
       "      <th>2</th>\n",
       "      <td>1</td>\n",
       "      <td>not</td>\n",
       "      <td>0</td>\n",
       "    </tr>\n",
       "    <tr>\n",
       "      <th>3</th>\n",
       "      <td>1</td>\n",
       "      <td>tend</td>\n",
       "      <td>0</td>\n",
       "    </tr>\n",
       "    <tr>\n",
       "      <th>4</th>\n",
       "      <td>1</td>\n",
       "      <td>or</td>\n",
       "      <td>0</td>\n",
       "    </tr>\n",
       "  </tbody>\n",
       "</table>\n",
       "</div>"
      ],
      "text/plain": [
       "   poem_no  word  tag\n",
       "0        1     i    0\n",
       "1        1  will    0\n",
       "2        1   not    0\n",
       "3        1  tend    0\n",
       "4        1    or    0"
      ]
     },
     "execution_count": 74,
     "metadata": {
      "tags": []
     },
     "output_type": "execute_result"
    }
   ],
   "source": [
    "df.head()"
   ]
  },
  {
   "cell_type": "code",
   "execution_count": null,
   "metadata": {
    "colab": {
     "base_uri": "https://localhost:8080/"
    },
    "id": "e0EHetercpt2",
    "outputId": "b8addbe1-57b1-457c-9f5e-57cfcfbc0c92"
   },
   "outputs": [
    {
     "data": {
      "text/plain": [
       "(83463, 3)"
      ]
     },
     "execution_count": 75,
     "metadata": {
      "tags": []
     },
     "output_type": "execute_result"
    }
   ],
   "source": [
    "df.shape"
   ]
  },
  {
   "cell_type": "markdown",
   "metadata": {
    "id": "FI1QKSEYvn-N"
   },
   "source": [
    "# Model Building"
   ]
  },
  {
   "cell_type": "code",
   "execution_count": null,
   "metadata": {
    "id": "6KtgbecIYOFB"
   },
   "outputs": [],
   "source": [
    "words = list(set(df[\"word\"].values))\n",
    "words.append(\"ENDPAD\")"
   ]
  },
  {
   "cell_type": "code",
   "execution_count": null,
   "metadata": {
    "colab": {
     "base_uri": "https://localhost:8080/"
    },
    "id": "XCAdLZmkYdd_",
    "outputId": "4c461a43-9823-43c5-d938-c588aa215f29"
   },
   "outputs": [
    {
     "data": {
      "text/plain": [
       "13533"
      ]
     },
     "execution_count": 77,
     "metadata": {
      "tags": []
     },
     "output_type": "execute_result"
    }
   ],
   "source": [
    "n_words = len(words); n_words"
   ]
  },
  {
   "cell_type": "code",
   "execution_count": null,
   "metadata": {
    "id": "gpt0ZQD1YoJ7"
   },
   "outputs": [],
   "source": [
    "tags = list(set(df[\"tag\"].values))"
   ]
  },
  {
   "cell_type": "code",
   "execution_count": null,
   "metadata": {
    "colab": {
     "base_uri": "https://localhost:8080/"
    },
    "id": "Sf6iKlDkY1RG",
    "outputId": "e32ed83b-cc7a-40d7-9471-20fc10803a6f"
   },
   "outputs": [
    {
     "data": {
      "text/plain": [
       "2"
      ]
     },
     "execution_count": 79,
     "metadata": {
      "tags": []
     },
     "output_type": "execute_result"
    }
   ],
   "source": [
    "n_tags = len(tags); n_tags"
   ]
  },
  {
   "cell_type": "code",
   "execution_count": null,
   "metadata": {
    "id": "XBvRExa7Y1he"
   },
   "outputs": [],
   "source": [
    "class SentenceGetter(object):\n",
    "    \n",
    "    def __init__(self, data):\n",
    "        self.n_sent = 1\n",
    "        self.data = data\n",
    "        self.empty = False\n",
    "        agg_func = lambda s: [(w, t) for w, t in zip(s[\"word\"].values.tolist(),\n",
    "                                                           s[\"tag\"].values.tolist())]\n",
    "        self.grouped = self.data.groupby(\"poem_no\").apply(agg_func)\n",
    "        self.sentences = [s for s in self.grouped]\n",
    "    \n",
    "    def get_next(self):\n",
    "        # try:\n",
    "            s = self.grouped[self.n_sent]\n",
    "            self.n_sent += 1\n",
    "            return s\n",
    "        # except:\n",
    "        #     return None"
   ]
  },
  {
   "cell_type": "code",
   "execution_count": null,
   "metadata": {
    "id": "-HvbXB7xZNeP"
   },
   "outputs": [],
   "source": [
    "getter = SentenceGetter(df)"
   ]
  },
  {
   "cell_type": "code",
   "execution_count": null,
   "metadata": {
    "id": "oFfhF7dIZPeM"
   },
   "outputs": [],
   "source": [
    "sent = getter.get_next()"
   ]
  },
  {
   "cell_type": "code",
   "execution_count": null,
   "metadata": {
    "colab": {
     "base_uri": "https://localhost:8080/"
    },
    "id": "OjHtVI3rZSai",
    "outputId": "0787afb9-1b29-46d3-bcc3-9fd1d05b108b"
   },
   "outputs": [
    {
     "name": "stdout",
     "output_type": "stream",
     "text": [
      "[('i', 0), ('will', 0), ('not', 0), ('tend', 0), ('or', 0), ('water', 0), ('pull', 0), ('or', 0), ('yank', 0), ('i', 0), ('will', 0), ('not', 0), ('till', 0), ('uproot', 0), ('fill', 0), ('up', 0), ('or', 0), ('spray', 0), ('the', 0), ('rain', 0), ('comes', 0), ('or', 0), ('not', 0), ('plants', 0), ('sunfed', 0), ('moonhopped', 0), ('dirtstuck', 0), ('watch', 1), ('as', 0), ('flocks', 0), ('of', 0), ('wild', 0), ('phlox', 0), ('appear', 0), ('disappear', 0), ('my', 0), ('lazy', 0), ('garbagey', 0), ('magic', 0), ('makes', 0), ('this', 0), ('nothing', 0), ('happen', 0), ('i', 0), ('love', 0), ('the', 0), ('tattered', 0), ('camisole', 0), ('of', 0), ('nothing', 0), ('the', 0), ('world', 0), ('runs', 0), ('its', 0), ('underbrush', 0), ('course', 0), ('fed', 0), ('by', 0), ('the', 0), ('nothing', 0), ('i', 0), ('give', 0), ('it', 0), ('wars', 0), ('are', 0), ('fought', 0), ('blood', 0), ('turns', 0), ('dirt', 1), ('is', 0), ('a', 1), ('wide', 1), ('unruly', 0), ('room', 1)]\n"
     ]
    }
   ],
   "source": [
    "print(sent)"
   ]
  },
  {
   "cell_type": "code",
   "execution_count": null,
   "metadata": {
    "id": "DdoPfIn1aiyN"
   },
   "outputs": [],
   "source": [
    "sentences = getter.sentences # list(list((\"word\", tag)))"
   ]
  },
  {
   "cell_type": "code",
   "execution_count": null,
   "metadata": {
    "colab": {
     "base_uri": "https://localhost:8080/",
     "height": 265
    },
    "id": "gFp7_iNtbGbp",
    "outputId": "386ebdb6-e6e0-4354-9814-651442fe193c"
   },
   "outputs": [
    {
     "data": {
      "image/png": "[encoded data removed]",
      "text/plain": [
       "<Figure size 432x288 with 1 Axes>"
      ]
     },
     "metadata": {
      "tags": []
     },
     "output_type": "display_data"
    }
   ],
   "source": [
    "plt.style.use(\"ggplot\")\n",
    "plt.hist([len(s) for s in sentences], bins=50)\n",
    "plt.show()"
   ]
  },
  {
   "cell_type": "code",
   "execution_count": null,
   "metadata": {
    "id": "C4gEeBJebGmy"
   },
   "outputs": [],
   "source": [
    "max_len = 120\n",
    "word2idx = {w: i for i, w in enumerate(words)}  # {word:enum}\n",
    "tag2idx = {t: i for i, t in enumerate(tags)}"
   ]
  },
  {
   "cell_type": "code",
   "execution_count": null,
   "metadata": {
    "id": "T8zKwWGsdWUQ"
   },
   "outputs": [],
   "source": [
    "X = [[word2idx[w[0]] for w in s] for s in sentences]"
   ]
  },
  {
   "cell_type": "code",
   "execution_count": null,
   "metadata": {
    "id": "PwaXOF2Adb6Q"
   },
   "outputs": [],
   "source": [
    "X = pad_sequences(maxlen=max_len, sequences=X, padding=\"post\", value=n_words - 1)"
   ]
  },
  {
   "cell_type": "code",
   "execution_count": null,
   "metadata": {
    "colab": {
     "base_uri": "https://localhost:8080/"
    },
    "id": "EnoyHjm9akYT",
    "outputId": "116db8c1-de58-472c-99ed-41a68108030e"
   },
   "outputs": [
    {
     "data": {
      "text/plain": [
       "(1000, 120)"
      ]
     },
     "execution_count": 89,
     "metadata": {
      "tags": []
     },
     "output_type": "execute_result"
    }
   ],
   "source": [
    "X.shape"
   ]
  },
  {
   "cell_type": "code",
   "execution_count": null,
   "metadata": {
    "colab": {
     "base_uri": "https://localhost:8080/"
    },
    "id": "TaCggcfPdeQc",
    "outputId": "fe4d5835-bdc6-4a59-b923-df6787727326"
   },
   "outputs": [
    {
     "data": {
      "text/plain": [
       "array([11432,  1756,   464,   138,  1756,  1880,  5383,  1756, 11118,\n",
       "         165,  8318,  8981,  1756,  6958,  2753,  3850, 10478, 10676,\n",
       "        3219, 11680, 11990,  2138,  4099,  9672,  7179, 13097,  4572,\n",
       "        2753,   522,  6223,  8129, 13279,  3774,  4910,   509,  2694,\n",
       "        7353, 12008,  8318,  7232,  3350,  7232, 10497, 12775,  6393,\n",
       "       11202,  8981,  1756,  6958,  2694,  4270,  5529,  3219, 12648,\n",
       "        5344,  4910,  4333,  1756,   464,  9320,  1880, 10316,  6087,\n",
       "         138,  3414,  1756,  6958, 12817,  9320, 12817,  4782, 10534,\n",
       "         522,  6607,  5670,   276, 11990,  2191, 11432,  1756,   464,\n",
       "         138,  1756,  1880,  2753,   522,  6607,  6393, 11432,  8727,\n",
       "       10849, 12830, 11801,  1015,  4043,  1924, 12817,  9320, 12817,\n",
       "       10534,  2755,  4901, 12080,  9320,  5529, 13232,  9672,  7498,\n",
       "        7278,  5383,  4333,  1756,   464,   138,  1756,  1880, 13532,\n",
       "       13532, 13532, 13532], dtype=int32)"
      ]
     },
     "execution_count": 90,
     "metadata": {
      "tags": []
     },
     "output_type": "execute_result"
    }
   ],
   "source": [
    "X[1]"
   ]
  },
  {
   "cell_type": "code",
   "execution_count": null,
   "metadata": {
    "id": "rmgRJJiEdg7Y"
   },
   "outputs": [],
   "source": [
    "y = [[tag2idx[w[1]] for w in s] for s in sentences]"
   ]
  },
  {
   "cell_type": "code",
   "execution_count": null,
   "metadata": {
    "id": "3n0rW0Mrdj5F"
   },
   "outputs": [],
   "source": [
    "y = pad_sequences(maxlen=max_len, sequences=y, padding=\"post\", value=tag2idx[0])"
   ]
  },
  {
   "cell_type": "code",
   "execution_count": null,
   "metadata": {
    "colab": {
     "base_uri": "https://localhost:8080/"
    },
    "id": "BBEerzchdvZL",
    "outputId": "c734dd68-c4f2-4739-adb2-1a269d43f399"
   },
   "outputs": [
    {
     "data": {
      "text/plain": [
       "array([0, 0, 1, 0, 0, 1, 0, 1, 0, 1, 1, 0, 0, 0, 0, 0, 0, 0, 0, 0, 0, 0,\n",
       "       0, 0, 0, 0, 0, 0, 0, 0, 0, 0, 0, 0, 0, 0, 0, 0, 0, 0, 0, 0, 0, 0,\n",
       "       0, 0, 0, 0, 0, 0, 0, 0, 0, 0, 0, 0, 0, 0, 0, 0, 0, 0, 0, 0, 0, 0,\n",
       "       0, 0, 0, 0, 0, 0, 0, 0, 0, 0, 0, 0, 0, 0, 0, 0, 0, 0, 0, 0, 0, 0,\n",
       "       0, 0, 0, 0, 0, 0, 0, 0, 0, 0, 0, 0, 1, 0, 0, 0, 0, 0, 0, 0, 0, 0,\n",
       "       0, 1, 1, 0, 0, 0, 0, 0, 0, 0], dtype=int32)"
      ]
     },
     "execution_count": 93,
     "metadata": {
      "tags": []
     },
     "output_type": "execute_result"
    }
   ],
   "source": [
    "y[1]"
   ]
  },
  {
   "cell_type": "code",
   "execution_count": null,
   "metadata": {
    "id": "fBtLKwC4d2Wz"
   },
   "outputs": [],
   "source": [
    "y = [to_categorical(i, num_classes=n_tags) for i in y]"
   ]
  },
  {
   "cell_type": "code",
   "execution_count": null,
   "metadata": {
    "colab": {
     "base_uri": "https://localhost:8080/"
    },
    "id": "FEYFpwB1d4SU",
    "outputId": "84589e9a-4ab2-4176-c813-46c1e408cb65"
   },
   "outputs": [
    {
     "data": {
      "text/plain": [
       "array([[1., 0.],\n",
       "       [1., 0.],\n",
       "       [0., 1.],\n",
       "       [1., 0.],\n",
       "       [1., 0.],\n",
       "       [0., 1.],\n",
       "       [1., 0.],\n",
       "       [0., 1.],\n",
       "       [1., 0.],\n",
       "       [0., 1.],\n",
       "       [0., 1.],\n",
       "       [1., 0.],\n",
       "       [1., 0.],\n",
       "       [1., 0.],\n",
       "       [1., 0.],\n",
       "       [1., 0.],\n",
       "       [1., 0.],\n",
       "       [1., 0.],\n",
       "       [1., 0.],\n",
       "       [1., 0.],\n",
       "       [1., 0.],\n",
       "       [1., 0.],\n",
       "       [1., 0.],\n",
       "       [1., 0.],\n",
       "       [1., 0.],\n",
       "       [1., 0.],\n",
       "       [1., 0.],\n",
       "       [1., 0.],\n",
       "       [1., 0.],\n",
       "       [1., 0.],\n",
       "       [1., 0.],\n",
       "       [1., 0.],\n",
       "       [1., 0.],\n",
       "       [1., 0.],\n",
       "       [1., 0.],\n",
       "       [1., 0.],\n",
       "       [1., 0.],\n",
       "       [1., 0.],\n",
       "       [1., 0.],\n",
       "       [1., 0.],\n",
       "       [1., 0.],\n",
       "       [1., 0.],\n",
       "       [1., 0.],\n",
       "       [1., 0.],\n",
       "       [1., 0.],\n",
       "       [1., 0.],\n",
       "       [1., 0.],\n",
       "       [1., 0.],\n",
       "       [1., 0.],\n",
       "       [1., 0.],\n",
       "       [1., 0.],\n",
       "       [1., 0.],\n",
       "       [1., 0.],\n",
       "       [1., 0.],\n",
       "       [1., 0.],\n",
       "       [1., 0.],\n",
       "       [1., 0.],\n",
       "       [1., 0.],\n",
       "       [1., 0.],\n",
       "       [1., 0.],\n",
       "       [1., 0.],\n",
       "       [1., 0.],\n",
       "       [1., 0.],\n",
       "       [1., 0.],\n",
       "       [1., 0.],\n",
       "       [1., 0.],\n",
       "       [1., 0.],\n",
       "       [1., 0.],\n",
       "       [1., 0.],\n",
       "       [1., 0.],\n",
       "       [1., 0.],\n",
       "       [1., 0.],\n",
       "       [1., 0.],\n",
       "       [1., 0.],\n",
       "       [1., 0.],\n",
       "       [1., 0.],\n",
       "       [1., 0.],\n",
       "       [1., 0.],\n",
       "       [1., 0.],\n",
       "       [1., 0.],\n",
       "       [1., 0.],\n",
       "       [1., 0.],\n",
       "       [1., 0.],\n",
       "       [1., 0.],\n",
       "       [1., 0.],\n",
       "       [1., 0.],\n",
       "       [1., 0.],\n",
       "       [1., 0.],\n",
       "       [1., 0.],\n",
       "       [1., 0.],\n",
       "       [1., 0.],\n",
       "       [1., 0.],\n",
       "       [1., 0.],\n",
       "       [1., 0.],\n",
       "       [1., 0.],\n",
       "       [1., 0.],\n",
       "       [1., 0.],\n",
       "       [1., 0.],\n",
       "       [1., 0.],\n",
       "       [1., 0.],\n",
       "       [0., 1.],\n",
       "       [1., 0.],\n",
       "       [1., 0.],\n",
       "       [1., 0.],\n",
       "       [1., 0.],\n",
       "       [1., 0.],\n",
       "       [1., 0.],\n",
       "       [1., 0.],\n",
       "       [1., 0.],\n",
       "       [1., 0.],\n",
       "       [1., 0.],\n",
       "       [0., 1.],\n",
       "       [0., 1.],\n",
       "       [1., 0.],\n",
       "       [1., 0.],\n",
       "       [1., 0.],\n",
       "       [1., 0.],\n",
       "       [1., 0.],\n",
       "       [1., 0.],\n",
       "       [1., 0.]], dtype=float32)"
      ]
     },
     "execution_count": 95,
     "metadata": {
      "tags": []
     },
     "output_type": "execute_result"
    }
   ],
   "source": [
    "y[1]"
   ]
  },
  {
   "cell_type": "code",
   "execution_count": null,
   "metadata": {
    "id": "MgMMDH0veDMY"
   },
   "outputs": [],
   "source": [
    "X_train, X_test, y_train, y_test = train_test_split(np.asarray(X), np.asarray(y), test_size=0.1)"
   ]
  },
  {
   "cell_type": "code",
   "execution_count": null,
   "metadata": {
    "id": "-5eqNMBfYr2I"
   },
   "outputs": [],
   "source": [
    "max_len = 120\n",
    "latent_dim=128"
   ]
  },
  {
   "cell_type": "code",
   "execution_count": null,
   "metadata": {
    "colab": {
     "base_uri": "https://localhost:8080/"
    },
    "id": "WRYLge4Hh6_L",
    "outputId": "d359422f-a67a-4f89-c264-644be486b522"
   },
   "outputs": [
    {
     "name": "stderr",
     "output_type": "stream",
     "text": [
      "/usr/local/lib/python3.7/dist-packages/tensorflow/python/autograph/impl/api.py:390: UserWarning: CRF Decoding does not work with KerasTensors in TF2.4. The bug has since been fixed in tensorflow/tensorflow##45534\n",
      "  return py_builtins.overload_of(f)(*args)\n"
     ]
    }
   ],
   "source": [
    "model = Sequential(\n",
    "    [\n",
    "     Input(shape=(max_len, )),\n",
    "     Embedding(vocab_size_X, 100, weights=[embedding_matrix_X], trainable=False),\n",
    "     Dropout(0.2),\n",
    "     Bidirectional(LSTM(latent_dim, return_sequences=True)),\n",
    "     Dropout(0.2),\n",
    "     Bidirectional(LSTM(latent_dim, return_sequences=True)),\n",
    "     SeqSelfAttention(),\n",
    "     TimeDistributed(Dense(2, activation='softmax')),\n",
    "     CRF(n_tags)\n",
    "    ]\n",
    ")"
   ]
  },
  {
   "cell_type": "code",
   "execution_count": null,
   "metadata": {
    "id": "npGBg0DgeQFp"
   },
   "outputs": [],
   "source": [
    "model.compile(optimizer=\"adam\", loss=\"categorical_crossentropy\", metrics=[\"accuracy\"])"
   ]
  },
  {
   "cell_type": "code",
   "execution_count": null,
   "metadata": {
    "colab": {
     "base_uri": "https://localhost:8080/"
    },
    "id": "vReRAA-xjfI5",
    "outputId": "734f7425-8ec4-4972-d4aa-246f8ff59e98"
   },
   "outputs": [
    {
     "name": "stdout",
     "output_type": "stream",
     "text": [
      "Epoch 1/5\n"
     ]
    },
    {
     "name": "stderr",
     "output_type": "stream",
     "text": [
      "/usr/local/lib/python3.7/dist-packages/tensorflow/python/autograph/impl/api.py:390: UserWarning: CRF Decoding does not work with KerasTensors in TF2.4. The bug has since been fixed in tensorflow/tensorflow##45534\n",
      "  return py_builtins.overload_of(f)(*args)\n"
     ]
    },
    {
     "name": "stdout",
     "output_type": "stream",
     "text": [
      "WARNING:tensorflow:Gradients do not exist for variables ['chain_kernel:0'] when minimizing the loss.\n",
      "WARNING:tensorflow:Gradients do not exist for variables ['chain_kernel:0'] when minimizing the loss.\n",
      "8/8 [==============================] - 31s 3s/step - loss: 0.4956 - accuracy: 0.0474 - val_loss: 0.0000e+00 - val_accuracy: 0.0000e+00\n",
      "Epoch 2/5\n",
      "8/8 [==============================] - 20s 2s/step - loss: 0.4073 - accuracy: 0.0471 - val_loss: 0.0000e+00 - val_accuracy: 0.0000e+00\n",
      "Epoch 3/5\n",
      "8/8 [==============================] - 20s 2s/step - loss: 0.3942 - accuracy: 0.0475 - val_loss: 0.0000e+00 - val_accuracy: 0.0000e+00\n",
      "Epoch 4/5\n",
      "8/8 [==============================] - 20s 2s/step - loss: 0.3810 - accuracy: 0.0475 - val_loss: 0.0000e+00 - val_accuracy: 0.0000e+00\n",
      "Epoch 5/5\n",
      "8/8 [==============================] - 20s 2s/step - loss: 0.3679 - accuracy: 0.0472 - val_loss: 0.0000e+00 - val_accuracy: 0.0000e+00\n"
     ]
    }
   ],
   "source": [
    "history = model.fit(\n",
    "    X_train, y_train, \n",
    "    batch_size=128, \n",
    "    epochs=5, \n",
    "    validation_data=([X_test, y_test])\n",
    "    )"
   ]
  },
  {
   "cell_type": "code",
   "execution_count": null,
   "metadata": {
    "id": "pXNpPb57eUlv"
   },
   "outputs": [],
   "source": [
    "hist = pd.DataFrame(history.history)"
   ]
  },
  {
   "cell_type": "code",
   "execution_count": null,
   "metadata": {
    "colab": {
     "base_uri": "https://localhost:8080/",
     "height": 202
    },
    "id": "GrnxcQrFeo55",
    "outputId": "3885b0a4-b90e-4025-9572-cce1d752280d"
   },
   "outputs": [
    {
     "data": {
      "text/html": [
       "<div>\n",
       "<style scoped>\n",
       "    .dataframe tbody tr th:only-of-type {\n",
       "        vertical-align: middle;\n",
       "    }\n",
       "\n",
       "    .dataframe tbody tr th {\n",
       "        vertical-align: top;\n",
       "    }\n",
       "\n",
       "    .dataframe thead th {\n",
       "        text-align: right;\n",
       "    }\n",
       "</style>\n",
       "<table border=\"1\" class=\"dataframe\">\n",
       "  <thead>\n",
       "    <tr style=\"text-align: right;\">\n",
       "      <th></th>\n",
       "      <th>loss</th>\n",
       "      <th>accuracy</th>\n",
       "      <th>val_loss</th>\n",
       "      <th>val_accuracy</th>\n",
       "    </tr>\n",
       "  </thead>\n",
       "  <tbody>\n",
       "    <tr>\n",
       "      <th>0</th>\n",
       "      <td>0.453584</td>\n",
       "      <td>0.047306</td>\n",
       "      <td>0.0</td>\n",
       "      <td>0.0</td>\n",
       "    </tr>\n",
       "    <tr>\n",
       "      <th>1</th>\n",
       "      <td>0.405520</td>\n",
       "      <td>0.047306</td>\n",
       "      <td>0.0</td>\n",
       "      <td>0.0</td>\n",
       "    </tr>\n",
       "    <tr>\n",
       "      <th>2</th>\n",
       "      <td>0.392048</td>\n",
       "      <td>0.047306</td>\n",
       "      <td>0.0</td>\n",
       "      <td>0.0</td>\n",
       "    </tr>\n",
       "    <tr>\n",
       "      <th>3</th>\n",
       "      <td>0.378909</td>\n",
       "      <td>0.047306</td>\n",
       "      <td>0.0</td>\n",
       "      <td>0.0</td>\n",
       "    </tr>\n",
       "    <tr>\n",
       "      <th>4</th>\n",
       "      <td>0.366151</td>\n",
       "      <td>0.047306</td>\n",
       "      <td>0.0</td>\n",
       "      <td>0.0</td>\n",
       "    </tr>\n",
       "  </tbody>\n",
       "</table>\n",
       "</div>"
      ],
      "text/plain": [
       "       loss  accuracy  val_loss  val_accuracy\n",
       "0  0.453584  0.047306       0.0           0.0\n",
       "1  0.405520  0.047306       0.0           0.0\n",
       "2  0.392048  0.047306       0.0           0.0\n",
       "3  0.378909  0.047306       0.0           0.0\n",
       "4  0.366151  0.047306       0.0           0.0"
      ]
     },
     "execution_count": 102,
     "metadata": {
      "tags": []
     },
     "output_type": "execute_result"
    }
   ],
   "source": [
    "hist"
   ]
  },
  {
   "cell_type": "code",
   "execution_count": null,
   "metadata": {
    "colab": {
     "base_uri": "https://localhost:8080/",
     "height": 700
    },
    "id": "pYsdkmOceaeI",
    "outputId": "172d749f-7695-43ea-874f-3811bc88330f"
   },
   "outputs": [
    {
     "data": {
      "image/png": "[encoded data removed]",
      "text/plain": [
       "<Figure size 864x864 with 1 Axes>"
      ]
     },
     "metadata": {
      "tags": []
     },
     "output_type": "display_data"
    }
   ],
   "source": [
    "plt.figure(figsize=(12,12))\n",
    "plt.plot(hist[\"accuracy\"])\n",
    "plt.plot(hist[\"val_accuracy\"])\n",
    "plt.show()"
   ]
  },
  {
   "cell_type": "markdown",
   "metadata": {
    "id": "2KLPKgMP0Tl9"
   },
   "source": [
    "# Testing"
   ]
  },
  {
   "cell_type": "code",
   "execution_count": null,
   "metadata": {
    "id": "Cm2UDzkEWzr8"
   },
   "outputs": [],
   "source": [
    "def remove_end(sentence):\n",
    "    remove_list = ['ENDPAD']\n",
    "    word_list = sentence.split()\n",
    "    return ' '.join([i for i in word_list if i not in remove_list])"
   ]
  },
  {
   "cell_type": "code",
   "execution_count": null,
   "metadata": {
    "colab": {
     "base_uri": "https://localhost:8080/"
    },
    "id": "zXUxFE61wZ1n",
    "outputId": "d12c3947-bc84-448b-e11c-290552833b4c"
   },
   "outputs": [
    {
     "name": "stderr",
     "output_type": "stream",
     "text": [
      "/usr/local/lib/python3.7/dist-packages/tensorflow/python/autograph/impl/api.py:390: UserWarning: CRF Decoding does not work with KerasTensors in TF2.4. The bug has since been fixed in tensorflow/tensorflow##45534\n",
      "  return py_builtins.overload_of(f)(*args)\n"
     ]
    },
    {
     "name": "stdout",
     "output_type": "stream",
     "text": [
      "Sentence =  so the sun is shining blindingly but i can sort of see it’s like looking at mandela’s moral beauty the dying leaves are sizzling on the trees in a shirtsleeves summer breeze but daylight saving is over and gaveling the courtroom to order with a fourleaf clover is over and it’s altogether november and the pellegrino bubbles rise to the surface and dismember\n",
      "\n",
      "True =  sun leaves summer is to the surface\n",
      "\n",
      "Predicted =  so the sun is shining blindingly but i can sort of see it’s like looking at mandela’s moral beauty the dying leaves are sizzling on the trees in a shirtsleeves summer breeze but daylight saving is over and gaveling the courtroom to order with a fourleaf clover is over and it’s altogether november and the pellegrino bubbles rise to the surface and dismember\n",
      "\n",
      "\n",
      "\n",
      "\n",
      "Sentence =  hes still young— thirty but looks younger— or does he in the eyes and cheeks tonight turning in the mirror he saw his mother— puffy angry bewildered many nights now when he stares there he gets angry— something unfulfilled there something dead to what he once thought he surely could be— now just the glamour of habits once instead he thought insight would remake him hed reach —what the thrill the exhilaration unravelling disaster that seemed to teach necessary knowledge became just jargon sick of being decent he craves another crash what reaches him except disaster\n",
      "\n",
      "True =  eyes puffy nights of the thrill\n",
      "\n",
      "Predicted =  hes still young— thirty but looks younger— or does he in the eyes and cheeks tonight turning in the mirror he saw his mother— puffy angry bewildered many nights now when he stares there he gets angry— something unfulfilled there something dead to what he once thought he surely could be— now just the glamour of habits once instead he thought insight would remake him hed reach —what the thrill the exhilaration unravelling disaster that seemed to teach necessary knowledge became just jargon sick of being decent he craves another crash what reaches him except disaster\n",
      "\n",
      "\n",
      "\n",
      "\n",
      "Sentence =  fear no unlicensed entry heed no bombastic talk while guards the british sentry pall mall and birdcage walk let european thunders occasion no alarms though diplomatic blunders may cause a cry to arms sleep on ye pale civilians all thunderclouds defy on europes countless millions the sentry keeps his eye should foreignborn rapscallions in london dare to show their overgrown battalions be sure ill let you know should russians or norwegians pollute our favoured clime with rough barbaric legions ill mention it in time so sleep in peace civilians the continent defy while on its countless millions the sentry keeps his eye\n",
      "\n",
      "True =  fear russians the millions eye\n",
      "\n",
      "Predicted =  fear no unlicensed entry heed no bombastic talk while guards the british sentry pall mall and birdcage walk let european thunders occasion no alarms though diplomatic blunders may cause a cry to arms sleep on ye pale civilians all thunderclouds defy on europes countless millions the sentry keeps his eye should foreignborn rapscallions in london dare to show their overgrown battalions be sure ill let you know should russians or norwegians pollute our favoured clime with rough barbaric legions ill mention it in time so sleep in peace civilians the continent defy while on its countless millions the sentry keeps his eye\n",
      "\n",
      "\n",
      "\n",
      "\n",
      "Sentence =  forget today my tired soul imagine you never said those destructive words another person no longer sees your worth but tomorrow brings a reason to hope forget today my tired soul pretend you hadnt created your own downfall youve lost the chance to make a friend but theres always a chance to make ammends forget today my tired soul wipe the tears that fall from your eyes love has once again overlooked our door but one day her sweet face will be seen again forget today my tired soul dont dwell on the pain that lives within the clouds are bleak and the sun seems so far away but i promise you someday well have our moment to shine\n",
      "\n",
      "True =  today words another tired soul\n",
      "\n",
      "Predicted =  forget today my tired soul imagine you never said those destructive words another person no longer sees your worth but tomorrow brings a reason to hope forget today my tired soul pretend you hadnt created your own downfall youve lost the chance to make a friend but theres always a chance to make ammends forget today my tired soul wipe the tears that fall from your eyes love has once again overlooked our door but one day her sweet face will be seen again forget today my tired soul dont dwell on the pain that lives within the clouds are bleak and the sun seems so far away but i promise you someday well have our moment to shine\n",
      "\n",
      "\n",
      "\n",
      "\n",
      "Sentence =  lyrics sun shines above me melting me down my love just kissed me hello the day is on and all things around are making me feel im in love cause winters leaving is hurting no more i know shes dreaming of me now my heart sings songs for her will she hear clear all this music that i have dance crazy feeling twisting around my love lies safe in my eyes i know that soon shell fall in my arms and then well be the happiest ones but not yet\n",
      "\n",
      "True =  sun dance the happiest ones\n",
      "\n",
      "Predicted =  lyrics sun shines above me melting me down my love just kissed me hello the day is on and all things around are making me feel im in love cause winters leaving is hurting no more i know shes dreaming of me now my heart sings songs for her will she hear clear all this music that i have dance crazy feeling twisting around my love lies safe in my eyes i know that soon shell fall in my arms and then well be the happiest ones but not yet\n",
      "\n",
      "\n",
      "\n",
      "\n",
      "Sentence =  if there were dreams to sell what would you buy some cost a passing bell some a light sigh that shakes from lifes fresh crown only a roseleaf down if there were dreams to sell merry and sad to tell and the crier rang the bell what would you buy a cottage lone and still with bowers nigh shadowy my woes to still until i die such pearl from lifes fresh crown fain would i shake me down were dreams to have at will this would best heal my ill this would i buy\n",
      "\n",
      "True =  were lifes a roseleaf dreams\n",
      "\n",
      "Predicted =  if there were dreams to sell what would you buy some cost a passing bell some a light sigh that shakes from lifes fresh crown only a roseleaf down if there were dreams to sell merry and sad to tell and the crier rang the bell what would you buy a cottage lone and still with bowers nigh shadowy my woes to still until i die such pearl from lifes fresh crown fain would i shake me down were dreams to have at will this would best heal my ill this would i buy\n",
      "\n",
      "\n",
      "\n",
      "\n",
      "Sentence =  sometimes the naked taste of potato reminds me of being poor the first bites are gratitude the rest contented boredom the little kitchen still flickers like a candlelit room in a folktale never again was my father so angry my mother so still as she set the table or i so much at home\n",
      "\n",
      "True =  reminds the bites like a room\n",
      "\n",
      "Predicted =  sometimes the naked taste of potato reminds me of being poor the first bites are gratitude the rest contented boredom the little kitchen still flickers like a candlelit room in a folktale never again was my father so angry my mother so still as she set the table or i so much at home\n",
      "\n",
      "\n",
      "\n",
      "\n",
      "Sentence =  the doomsayer in suit and tie tells his viewers that they will die the youth are traded arrogance in exchange for their ignorance the epic war is underway the world will end in disarray get on your knees and start to pray satan waits to consume his prey\n",
      "\n",
      "True =  doomsayer viewers the epic war\n",
      "\n",
      "Predicted =  the doomsayer in suit and tie tells his viewers that they will die the youth are traded arrogance in exchange for their ignorance the epic war is underway the world will end in disarray get on your knees and start to pray satan waits to consume his prey\n",
      "\n",
      "\n",
      "\n",
      "\n",
      "Sentence =  their long skirts and high heels battled away depending on the ground’s and breezes’ whim at times some stocking shone low on the limb— too soon concealed—tickling our naïveté at times as well an envious bug would bite our lovelies’ necks beneath the boughs and we would glimpse a flash—white flash ah ecstasy— and glut our mad young eyes on sheer delight evening would fall the autumn day would draw to its uncertain close our belles would cling dreamingly to us cooing whispering lies that still set our souls trembling with awe\n",
      "\n",
      "True =  battled lies that souls awe\n",
      "\n",
      "Predicted =  their long skirts and high heels battled away depending on the ground’s and breezes’ whim at times some stocking shone low on the limb— too soon concealed—tickling our naïveté at times as well an envious bug would bite our lovelies’ necks beneath the boughs and we would glimpse a flash—white flash ah ecstasy— and glut our mad young eyes on sheer delight evening would fall the autumn day would draw to its uncertain close our belles would cling dreamingly to us cooing whispering lies that still set our souls trembling with awe\n",
      "\n",
      "\n",
      "\n",
      "\n",
      "Sentence =  jook joints about to come alive its like a bee outside a hive and when the hive begins to hum its like a dim and distant drum and when the drum begins to beat its like a circus down the street and when the street begins to fill its like a sudden summer chill and just as summer simmers down its like the fireworks over town dont matter what the preachers say— this congregations here to stay cause when the jook joint comes alive is when the delta blues arrive\n",
      "\n",
      "True =  joints alive bee as the fireworks\n",
      "\n",
      "Predicted =  jook joints about to come alive its like a bee outside a hive and when the hive begins to hum its like a dim and distant drum and when the drum begins to beat its like a circus down the street and when the street begins to fill its like a sudden summer chill and just as summer simmers down its like the fireworks over town dont matter what the preachers say— this congregations here to stay cause when the jook joint comes alive is when the delta blues arrive\n",
      "\n",
      "\n",
      "\n",
      "\n",
      "Sentence =  life what is the life that many of us complain about it that many of us refuse to take better care of our lives life what is the life is it a gift or it just happen by coincidence no way jose this is not true because you have all the facts wrong someone gave life to you and in order to do it he had to sacrifice his it is our master remember this people\n",
      "\n",
      "True =  life life the true facts in this people\n",
      "\n",
      "Predicted =  life what is the life that many of us complain about it that many of us refuse to take better care of our lives life what is the life is it a gift or it just happen by coincidence no way jose this is not true because you have all the facts wrong someone gave life to you and in order to do it he had to sacrifice his it is our master remember this people\n",
      "\n",
      "\n",
      "\n",
      "\n",
      "Sentence =  the fireworks have flown the wishes have been welcomed the booze has reached the brain yet everything still seems the same alhtough one year has bid us farewell and a new year has arrived on the acid crystal drops of the rain a heavy head greets my morning just as it has always done as sure as the sky and the sun the coffee still tastes as bitter as i like it did last year and the year before the car refuses to wake from its mechanical sleep the radio showers my ears with static just as it did last year the date may have changed but lifes enduring pains simply move with the years\n",
      "\n",
      "True =  fireworks same year as the sky\n",
      "\n",
      "Predicted =  the fireworks have flown the wishes have been welcomed the booze has reached the brain yet everything still seems the same alhtough one year has bid us farewell and a new year has arrived on the acid crystal drops of the rain a heavy head greets my morning just as it has always done as sure as the sky and the sun the coffee still tastes as bitter as i like it did last year and the year before the car refuses to wake from its mechanical sleep the radio showers my ears with static just as it did last year the date may have changed but lifes enduring pains simply move with the years\n",
      "\n",
      "\n",
      "\n",
      "\n",
      "Sentence =  i did tell you to write a verse for me you have written a blank verse now i see no meter no rhyme no adjustment theme only ten syllables in each line found iambic pentameter also seen is also the cause of my suffering copyright © muzahidul reza │19 january2018\n",
      "\n",
      "True =  verse syllables each iambic pentameter\n",
      "\n",
      "Predicted =  i did tell you to write a verse for me you have written a blank verse now i see no meter no rhyme no adjustment theme only ten syllables in each line found iambic pentameter also seen is also the cause of my suffering copyright © muzahidul reza │19 january2018\n",
      "\n",
      "\n",
      "\n",
      "\n",
      "Sentence =  ay kash mujhe wuh neend aaye jo rat mein phir na toote kabhi subh ko jab main so ke uthoon wuh bichde mujhe mil jaen sabhi han abbhi jag raha hoon main jane keyun neend aati nahin lekin tum keyun jagte ho aa jao sula doon tumko abhi wuh jadoo abbhi tak bhoola nahin tum aao to cha jaye ga tum abbhi aa jate ho lekin bhoole bhatke kabhi kabhi yeh hont sakat kho baithe hayn chup rehna acha lagta hay yeh aankhein abtak zindah hayn yeh bol rahi theen abhi abhi chahat bhi keya jurm hay yaro na karte to acha tha jinse muhabbat maine ki barham se hayn wuhi sabhi\n",
      "\n",
      "True =  han wuh abhi bhi keya\n",
      "\n",
      "Predicted =  ay kash mujhe wuh neend aaye jo rat mein phir na toote kabhi subh ko jab main so ke uthoon wuh bichde mujhe mil jaen sabhi han abbhi jag raha hoon main jane keyun neend aati nahin lekin tum keyun jagte ho aa jao sula doon tumko abhi wuh jadoo abbhi tak bhoola nahin tum aao to cha jaye ga tum abbhi aa jate ho lekin bhoole bhatke kabhi kabhi yeh hont sakat kho baithe hayn chup rehna acha lagta hay yeh aankhein abtak zindah hayn yeh bol rahi theen abhi abhi chahat bhi keya jurm hay yaro na karte to acha tha jinse muhabbat maine ki barham se hayn wuhi sabhi\n",
      "\n",
      "\n",
      "\n",
      "\n",
      "Sentence =  abrahams blessing on the gentiles gen 177 rom 158 mk 1014 how large the promise how divine to abram and his seed ill be a god to thee and thine supplying all their need the words of his extensive love from age to age endure the angel of the covnant proves and seals the blessing sure jesus the ancient faith confirms to our great fathers givn he takes young children to his arms and calls them heirs of heavn our god how faithful are his ways his love endures the same nor from the promise of his grace blots out the childrens name\n",
      "\n",
      "True =  abrahams gen the promise words\n",
      "\n",
      "Predicted =  abrahams blessing on the gentiles gen 177 rom 158 mk 1014 how large the promise how divine to abram and his seed ill be a god to thee and thine supplying all their need the words of his extensive love from age to age endure the angel of the covnant proves and seals the blessing sure jesus the ancient faith confirms to our great fathers givn he takes young children to his arms and calls them heirs of heavn our god how faithful are his ways his love endures the same nor from the promise of his grace blots out the childrens name\n",
      "\n",
      "\n",
      "\n",
      "\n",
      "Sentence =  how beautiful is the morning when the sun rapes the darkness and steals the virginity of the day spilling red across the sky\n",
      "\n",
      "True =  rapes the darkness of the day\n",
      "\n",
      "Predicted =  how beautiful is the morning when the sun rapes the darkness and steals the virginity of the day spilling red across the sky\n",
      "\n",
      "\n",
      "\n",
      "\n",
      "Sentence =  life is the cage we are all born into the zoo drives down the long snake in the rain everyone sits alone in the park in the car in the theatre everyone sits alone and looks through bars of their flesh and bone no eager hand can grasp out of this no willing hand has the reach we touch our flesh to the flesh of our cages we lay down chained and little birds sing beside others miles away and barking we touch steering wheels as the lights cross our eyes we learn to believe the birth of shadows we drive a line of slaves down the road everyone sits alone\n",
      "\n",
      "True =  born this hand as the lights\n",
      "\n",
      "Predicted =  life is the cage we are all born into the zoo drives down the long snake in the rain everyone sits alone in the park in the car in the theatre everyone sits alone and looks through bars of their flesh and bone no eager hand can grasp out of this no willing hand has the reach we touch our flesh to the flesh of our cages we lay down chained and little birds sing beside others miles away and barking we touch steering wheels as the lights cross our eyes we learn to believe the birth of shadows we drive a line of slaves down the road everyone sits alone\n",
      "\n",
      "\n",
      "\n",
      "\n",
      "Sentence =  for billie holiday lady could pour you a song coffee and a little cream stir it the whole night long into a brownsugar dream lady could wrap you a note up in a velvet night— sometimes manhattan satin always harlem delight lady day could sing it like nobody ever has at the shim sham club hot cha cha joints that swung on jazz her bittersweet songs told heartbreak meet your sister pain but lady melted yesterdays into beautiful rain\n",
      "\n",
      "True =  pour joints that jazz songs\n",
      "\n",
      "Predicted =  for billie holiday lady could pour you a song coffee and a little cream stir it the whole night long into a brownsugar dream lady could wrap you a note up in a velvet night— sometimes manhattan satin always harlem delight lady day could sing it like nobody ever has at the shim sham club hot cha cha joints that swung on jazz her bittersweet songs told heartbreak meet your sister pain but lady melted yesterdays into beautiful rain\n",
      "\n",
      "\n",
      "\n",
      "\n",
      "Sentence =  at dawn i heard among bird calls the billions of marching feet in the churn and squeak of gravel even tiny feet still wet from the mothers amniotic fluid and very old halting feet the feet of the very light and very heavy all marching but not together crisscrossing at every angle with sincere attempts not to touch not to bump into each other walking in the doors of houses and out the back door forty years later finally knowing that time collapses on a single plateau where they were all their lives knowing that time stops when the heart stops as they walk off the earth into the night air\n",
      "\n",
      "True =  dawn billions the tiny feet as the earth\n",
      "\n",
      "Predicted =  at dawn i heard among bird calls the billions of marching feet in the churn and squeak of gravel even tiny feet still wet from the mothers amniotic fluid and very old halting feet the feet of the very light and very heavy all marching but not together crisscrossing at every angle with sincere attempts not to touch not to bump into each other walking in the doors of houses and out the back door forty years later finally knowing that time collapses on a single plateau where they were all their lives knowing that time stops when the heart stops as they walk off the earth into the night air\n",
      "\n",
      "\n",
      "\n",
      "\n",
      "Sentence =  octopus floating in earth’s inkore core whose arms extend up here as trees may your branches squirt their black across my pages please\n",
      "\n",
      "True =  octopus inkore arms extend as\n",
      "\n",
      "Predicted =  octopus floating in earth’s inkore core whose arms extend up here as trees may your branches squirt their black across my pages please\n",
      "\n",
      "\n",
      "\n",
      "\n"
     ]
    }
   ],
   "source": [
    "for i in range(20):\n",
    "\n",
    "    p = model.predict(np.array([X_test[i]]))\n",
    "    p = np.argmax(p, axis=-1)\n",
    "\n",
    "    sent = []\n",
    "    true = []\n",
    "    pred = []\n",
    "\n",
    "    for w in X_test[i]:\n",
    "        sent.append(words[w])\n",
    "\n",
    "\n",
    "\n",
    "    true_label = []\n",
    "    for j in range(len(y_test[i])):\n",
    "        ind = y_test[i][j][-1]\n",
    "        true_label.append(int(ind))\n",
    "\n",
    "    for y in range(len(true_label)):\n",
    "        if true_label[y] == 1:\n",
    "            true.append(sent[y])\n",
    "\n",
    "\n",
    "\n",
    "    pred_label = p[0]\n",
    "    for k in range(len(pred_label)):\n",
    "        if pred_label[k] == 1:\n",
    "            pred.append(sent[k])\n",
    "\n",
    "    sent = remove_end(\" \".join(sent))\n",
    "    true = remove_end(\" \".join(true))\n",
    "    pred = remove_end(\" \".join(pred))\n",
    "\n",
    "    print(\"Sentence = \", sent)\n",
    "    print()\n",
    "    print(\"True = \", true)\n",
    "    print()\n",
    "    print(\"Predicted = \", pred)\n",
    "\n",
    "    print(\"\\n\\n\\n\")"
   ]
  },
  {
   "cell_type": "markdown",
   "metadata": {
    "id": "a8qlSXNltoFu"
   },
   "source": [
    "# References\n",
    "\n",
    "1) https://www.depends-on-the-definition.com/guide-sequence-tagging-neural-networks-python/\n",
    "\n",
    "2) https://machinelearningmastery.com/encoder-decoder-attention-sequence-to-sequence-prediction-keras/\n"
   ]
  },
  {
   "cell_type": "markdown",
   "metadata": {
    "id": "aKrI2_K0ttZB"
   },
   "source": [
    "# Save Model"
   ]
  },
  {
   "cell_type": "code",
   "execution_count": null,
   "metadata": {
    "id": "RZrlPpBiYXPr"
   },
   "outputs": [],
   "source": [
    "# model.save(\"seq-lab.h5\")"
   ]
  },
  {
   "cell_type": "code",
   "execution_count": null,
   "metadata": {
    "id": "PdPx3tqbwItj"
   },
   "outputs": [],
   "source": [
    "# from google.colab import files\n",
    "# files.download(\"seq-lab.h5\")"
   ]
  },
  {
   "cell_type": "markdown",
   "metadata": {
    "id": "NfTH3WWMtzCe"
   },
   "source": [
    "# Load and test the model"
   ]
  },
  {
   "cell_type": "code",
   "execution_count": null,
   "metadata": {
    "id": "Ic3wr02hmBn3"
   },
   "outputs": [],
   "source": [
    "# from tensorflow import keras\n",
    "# model = keras.models.load_model('seq-lab.h5')"
   ]
  },
  {
   "cell_type": "code",
   "execution_count": null,
   "metadata": {
    "id": "3y2OvEeFmelY"
   },
   "outputs": [],
   "source": [
    "# # from random import randint\n",
    "# # i = randint(1,len(X_te))\n",
    "\n",
    "# for i in range(100):\n",
    "\n",
    "#     p = model.predict(np.array([X_test[i]]))\n",
    "#     p = np.argmax(p, axis=-1)\n",
    "\n",
    "#     sent = []\n",
    "#     true = []\n",
    "#     pred = []\n",
    "\n",
    "#     for w in X_test[i]:\n",
    "#         sent.append(words[w])\n",
    "\n",
    "\n",
    "\n",
    "#     true_label = []\n",
    "#     for j in range(len(y_test[i])):\n",
    "#         ind = y_test[i][j][-1]\n",
    "#         true_label.append(int(ind))\n",
    "\n",
    "#     for y in range(len(true_label)):\n",
    "#         if true_label[y] == 1:\n",
    "#             true.append(sent[y])\n",
    "\n",
    "\n",
    "\n",
    "#     pred_label = p[0]\n",
    "#     for k in range(len(pred_label)):\n",
    "#         if pred_label[k] == 1:\n",
    "#             pred.append(sent[k])\n",
    "\n",
    "\n",
    "\n",
    "#     print(\"Sentence = \", sent)\n",
    "#     print(\"True = \", true)\n",
    "#     print(\"Predicted = \", pred)\n",
    "\n",
    "#     print(\"\\n\\n\\n\")"
   ]
  }
 ],
 "metadata": {
  "colab": {
   "authorship_tag": "ABX9TyOldZ20Un0h900sxC60T/n/",
   "collapsed_sections": [],
   "include_colab_link": true,
   "name": "haiku - Sequence Labelling biLSTM-CRF with Embeddings",
   "provenance": [],
   "toc_visible": true
  },
  "kernelspec": {
   "display_name": "Python 3",
   "language": "python",
   "name": "python3"
  },
  "language_info": {
   "codemirror_mode": {
    "name": "ipython",
    "version": 3
   },
   "file_extension": ".py",
   "mimetype": "text/x-python",
   "name": "python",
   "nbconvert_exporter": "python",
   "pygments_lexer": "ipython3",
   "version": "3.8.5"
  }
 },
 "nbformat": 4,
 "nbformat_minor": 1
}
