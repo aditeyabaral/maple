{
  "nbformat": 4,
  "nbformat_minor": 0,
  "metadata": {
    "colab": {
      "name": "Perplexity Grammar Calculation Output",
      "provenance": [],
      "collapsed_sections": []
    },
    "kernelspec": {
      "name": "python3",
      "display_name": "Python 3"
    },
    "language_info": {
      "name": "python"
    }
  },
  "cells": [
    {
      "cell_type": "markdown",
      "metadata": {
        "id": "ALqQaEKgXeYr"
      },
      "source": [
        "https://www.scribendi.ai/comparing-bert-and-gpt-2-as-language-models-to-score-the-grammatical-correctness-of-a-sentence/"
      ]
    },
    {
      "cell_type": "markdown",
      "metadata": {
        "id": "JaGODSpcnTzB"
      },
      "source": [
        "# Installing Java-8"
      ]
    },
    {
      "cell_type": "code",
      "metadata": {
        "id": "3N2ILHKbprar"
      },
      "source": [
        "import os"
      ],
      "execution_count": null,
      "outputs": []
    },
    {
      "cell_type": "code",
      "metadata": {
        "colab": {
          "base_uri": "https://localhost:8080/"
        },
        "id": "tfsblkFQk88J",
        "outputId": "7c8f5b59-68ca-43de-910b-5c222d7b398d"
      },
      "source": [
        "!apt-get purge openjdk-\\* icedtea-\\* icedtea6-\\*\n",
        "!apt-get install -y openjdk-8-jdk-headless -qq > /dev/null\n",
        "os.environ[\"JAVA_HOME\"] = \"/usr/lib/jvm/java-8-openjdk-amd64\"\n",
        "!java -version"
      ],
      "execution_count": null,
      "outputs": [
        {
          "output_type": "stream",
          "text": [
            "Reading package lists... Done\n",
            "Building dependency tree       \n",
            "Reading state information... Done\n",
            "Note, selecting 'openjdk-9-jre-headless' for glob 'openjdk-*'\n",
            "Note, selecting 'openjdk-8-jdk' for glob 'openjdk-*'\n",
            "Note, selecting 'openjdk-8-jre' for glob 'openjdk-*'\n",
            "Note, selecting 'openjdk-6-jre' for glob 'openjdk-*'\n",
            "Note, selecting 'openjdk-6-jre-headless' for glob 'openjdk-*'\n",
            "Note, selecting 'openjdk-11-demo' for glob 'openjdk-*'\n",
            "Note, selecting 'openjdk-8-demo' for glob 'openjdk-*'\n",
            "Note, selecting 'openjdk-11-source' for glob 'openjdk-*'\n",
            "Note, selecting 'openjdk-8-jre-dcevm' for glob 'openjdk-*'\n",
            "Note, selecting 'openjdk-11-jre-headless' for glob 'openjdk-*'\n",
            "Note, selecting 'openjdk-11-dbg' for glob 'openjdk-*'\n",
            "Note, selecting 'openjdk-11-doc' for glob 'openjdk-*'\n",
            "Note, selecting 'openjdk-8-jdk-headless' for glob 'openjdk-*'\n",
            "Note, selecting 'openjdk-7-jre-headless' for glob 'openjdk-*'\n",
            "Note, selecting 'openjdk-8-jre-zero' for glob 'openjdk-*'\n",
            "Note, selecting 'openjdk-8-source' for glob 'openjdk-*'\n",
            "Note, selecting 'openjdk-jre' for glob 'openjdk-*'\n",
            "Note, selecting 'openjdk-11-jdk' for glob 'openjdk-*'\n",
            "Note, selecting 'openjdk-11-jre' for glob 'openjdk-*'\n",
            "Note, selecting 'openjdk-11-jre-zero' for glob 'openjdk-*'\n",
            "Note, selecting 'openjdk-7-jdk' for glob 'openjdk-*'\n",
            "Note, selecting 'openjdk-10-jdk-headless' for glob 'openjdk-*'\n",
            "Note, selecting 'openjdk-7-jre' for glob 'openjdk-*'\n",
            "Note, selecting 'openjdk-9-jdk-headless' for glob 'openjdk-*'\n",
            "Note, selecting 'openjdk-8-jre-headless' for glob 'openjdk-*'\n",
            "Note, selecting 'openjdk-11-jre-dcevm' for glob 'openjdk-*'\n",
            "Note, selecting 'openjdk-11-jdk-headless' for glob 'openjdk-*'\n",
            "Note, selecting 'openjdk-8-dbg' for glob 'openjdk-*'\n",
            "Note, selecting 'openjdk-8-doc' for glob 'openjdk-*'\n",
            "Package 'openjdk-6-jre-headless' is not installed, so not removed\n",
            "Package 'openjdk-7-jdk' is not installed, so not removed\n",
            "Package 'openjdk-6-jre' is not installed, so not removed\n",
            "Package 'openjdk-7-jre' is not installed, so not removed\n",
            "Package 'openjdk-7-jre-headless' is not installed, so not removed\n",
            "Package 'openjdk-9-jre-headless' is not installed, so not removed\n",
            "Package 'openjdk-jre' is not installed, so not removed\n",
            "Package 'openjdk-9-jdk-headless' is not installed, so not removed\n",
            "Package 'openjdk-10-jdk-headless' is not installed, so not removed\n",
            "Note, selecting 'icedtea-gcjwebplugin' for glob 'icedtea-*'\n",
            "Note, selecting 'icedtea-netx-common' for glob 'icedtea-*'\n",
            "Note, selecting 'icedtea-8-plugin' for glob 'icedtea-*'\n",
            "Note, selecting 'icedtea-netx' for glob 'icedtea-*'\n",
            "Note, selecting 'icedtea-plugin' for glob 'icedtea-*'\n",
            "Package 'icedtea-gcjwebplugin' is not installed, so not removed\n",
            "Note, selecting 'icedtea6-plugin' for glob 'icedtea6-*'\n",
            "Package 'icedtea6-plugin' is not installed, so not removed\n",
            "Package 'openjdk-8-jre-dcevm' is not installed, so not removed\n",
            "Package 'openjdk-11-dbg' is not installed, so not removed\n",
            "Package 'openjdk-11-doc' is not installed, so not removed\n",
            "Package 'openjdk-11-jdk' is not installed, so not removed\n",
            "Package 'openjdk-11-source' is not installed, so not removed\n",
            "Package 'icedtea-8-plugin' is not installed, so not removed\n",
            "Package 'icedtea-netx' is not installed, so not removed\n",
            "Package 'icedtea-netx-common' is not installed, so not removed\n",
            "Package 'icedtea-plugin' is not installed, so not removed\n",
            "Package 'openjdk-11-demo' is not installed, so not removed\n",
            "Package 'openjdk-11-jre-dcevm' is not installed, so not removed\n",
            "Package 'openjdk-11-jre-zero' is not installed, so not removed\n",
            "Package 'openjdk-8-dbg' is not installed, so not removed\n",
            "Package 'openjdk-8-demo' is not installed, so not removed\n",
            "Package 'openjdk-8-doc' is not installed, so not removed\n",
            "Package 'openjdk-8-jdk' is not installed, so not removed\n",
            "Package 'openjdk-8-jdk-headless' is not installed, so not removed\n",
            "Package 'openjdk-8-jre' is not installed, so not removed\n",
            "Package 'openjdk-8-jre-headless' is not installed, so not removed\n",
            "Package 'openjdk-8-jre-zero' is not installed, so not removed\n",
            "Package 'openjdk-8-source' is not installed, so not removed\n",
            "The following packages were automatically installed and are no longer required:\n",
            "  cuda-command-line-tools-10-0 cuda-command-line-tools-10-1 cuda-compiler-10-0\n",
            "  cuda-compiler-10-1 cuda-cuobjdump-10-0 cuda-cuobjdump-10-1 cuda-cupti-10-0\n",
            "  cuda-cupti-10-1 cuda-demo-suite-10-0 cuda-demo-suite-10-1\n",
            "  cuda-demo-suite-11-0 cuda-documentation-10-0 cuda-documentation-10-1\n",
            "  cuda-documentation-11-0 cuda-drivers cuda-drivers-465 cuda-gdb-10-0\n",
            "  cuda-gdb-10-1 cuda-gpu-library-advisor-10-0 cuda-gpu-library-advisor-10-1\n",
            "  cuda-libraries-10-0 cuda-libraries-10-1 cuda-memcheck-10-0\n",
            "  cuda-memcheck-10-1 cuda-nsight-compute-10-0 cuda-nsight-compute-10-1\n",
            "  cuda-nsight-compute-11-0 cuda-nsight-systems-10-1 cuda-nsight-systems-11-0\n",
            "  cuda-nvcc-10-0 cuda-nvcc-10-1 cuda-nvdisasm-10-0 cuda-nvdisasm-10-1\n",
            "  cuda-nvml-dev-10-0 cuda-nvml-dev-10-1 cuda-nvprof-10-0 cuda-nvprof-10-1\n",
            "  cuda-nvprune-10-0 cuda-nvprune-10-1 cuda-nvtx-10-0 cuda-nvtx-10-1\n",
            "  cuda-runtime-10-0 cuda-runtime-10-1 cuda-runtime-11-0 cuda-samples-10-0\n",
            "  cuda-samples-10-1 cuda-samples-11-0 cuda-sanitizer-api-10-1 dkms freeglut3\n",
            "  freeglut3-dev java-common keyboard-configuration libargon2-0 libcap2\n",
            "  libcryptsetup12 libdevmapper1.02.1 libfontenc1 libidn11 libip4tc0\n",
            "  libjansson4 libnvidia-cfg1-465 libnvidia-common-460 libnvidia-common-465\n",
            "  libnvidia-decode-465 libnvidia-encode-465 libnvidia-extra-465\n",
            "  libnvidia-fbc1-465 libnvidia-gl-465 libnvidia-ifr1-465 libpam-systemd\n",
            "  libpcsclite1 libpolkit-agent-1-0 libpolkit-backend-1-0 libpolkit-gobject-1-0\n",
            "  libxfont2 libxi-dev libxkbfile1 libxmu-dev libxmu-headers libxnvctrl0\n",
            "  libxtst6 nsight-compute-2021.1.0 nsight-systems-2020.3.2\n",
            "  nsight-systems-2021.1.3 nvidia-compute-utils-465 nvidia-dkms-465\n",
            "  nvidia-driver-465 nvidia-kernel-common-465 nvidia-kernel-source-465\n",
            "  nvidia-modprobe nvidia-settings nvidia-utils-465 policykit-1\n",
            "  policykit-1-gnome python3-xkit screen-resolution-extra systemd systemd-sysv\n",
            "  udev x11-xkb-utils xserver-common xserver-xorg-core-hwe-18.04\n",
            "  xserver-xorg-video-nvidia-465\n",
            "Use 'apt autoremove' to remove them.\n",
            "The following packages will be REMOVED:\n",
            "  ca-certificates-java* cuda-10-0* cuda-10-1* cuda-11-0* cuda-nsight-10-0*\n",
            "  cuda-nsight-10-1* cuda-nsight-11-0* cuda-nvvp-10-0* cuda-nvvp-10-1*\n",
            "  cuda-nvvp-11-0* cuda-toolkit-10-0* cuda-toolkit-10-1* cuda-toolkit-11-0*\n",
            "  cuda-tools-10-0* cuda-tools-10-1* cuda-tools-11-0* cuda-visual-tools-10-0*\n",
            "  cuda-visual-tools-10-1* cuda-visual-tools-11-0* default-jre*\n",
            "  default-jre-headless* openjdk-11-jdk-headless* openjdk-11-jre*\n",
            "  openjdk-11-jre-headless*\n",
            "0 upgraded, 0 newly installed, 24 to remove and 34 not upgraded.\n",
            "After this operation, 1,517 MB disk space will be freed.\n",
            "(Reading database ... 160690 files and directories currently installed.)\n",
            "Removing cuda-11-0 (11.0.3-1) ...\n",
            "Removing cuda-toolkit-11-0 (11.0.3-1) ...\n",
            "Removing cuda-tools-11-0 (11.0.3-1) ...\n",
            "Removing cuda-visual-tools-11-0 (11.0.3-1) ...\n",
            "Removing cuda-nvvp-11-0 (11.0.221-1) ...\n",
            "Removing cuda-nsight-11-0 (11.0.221-1) ...\n",
            "Removing openjdk-11-jdk-headless:amd64 (11.0.10+9-0ubuntu1~18.04) ...\n",
            "Removing cuda-10-0 (10.0.130-1) ...\n",
            "Removing cuda-10-1 (10.1.243-1) ...\n",
            "Removing cuda-toolkit-10-0 (10.0.130-1) ...\n",
            "Removing cuda-tools-10-0 (10.0.130-1) ...\n",
            "Removing cuda-visual-tools-10-0 (10.0.130-1) ...\n",
            "Removing cuda-nsight-10-0 (10.0.130-1) ...\n",
            "Removing cuda-toolkit-10-1 (10.1.243-1) ...\n",
            "Removing cuda-tools-10-1 (10.1.243-1) ...\n",
            "Removing cuda-visual-tools-10-1 (10.1.243-1) ...\n",
            "Removing cuda-nsight-10-1 (10.1.243-1) ...\n",
            "Removing cuda-nvvp-10-0 (10.0.130-1) ...\n",
            "Removing cuda-nvvp-10-1 (10.1.243-1) ...\n",
            "Removing default-jre (2:1.11-68ubuntu1~18.04.1) ...\n",
            "Removing openjdk-11-jre:amd64 (11.0.10+9-0ubuntu1~18.04) ...\n",
            "Removing default-jre-headless (2:1.11-68ubuntu1~18.04.1) ...\n",
            "Removing ca-certificates-java (20180516ubuntu1~18.04.1) ...\n",
            "Removing openjdk-11-jre-headless:amd64 (11.0.10+9-0ubuntu1~18.04) ...\n",
            "Processing triggers for ca-certificates (20210119~18.04.1) ...\n",
            "Updating certificates in /etc/ssl/certs...\n",
            "0 added, 0 removed; done.\n",
            "Running hooks in /etc/ca-certificates/update.d...\n",
            "\n",
            "updates of cacerts keystore disabled.\n",
            "done.\n",
            "Processing triggers for hicolor-icon-theme (0.17-2) ...\n",
            "Processing triggers for mime-support (3.60ubuntu1) ...\n",
            "(Reading database ... 153271 files and directories currently installed.)\n",
            "Purging configuration files for ca-certificates-java (20180516ubuntu1~18.04.1) ...\n",
            "Purging configuration files for cuda-visual-tools-10-0 (10.0.130-1) ...\n",
            "Purging configuration files for openjdk-11-jre-headless:amd64 (11.0.10+9-0ubuntu1~18.04) ...\n",
            "Purging configuration files for cuda-visual-tools-10-1 (10.1.243-1) ...\n",
            "Purging configuration files for cuda-toolkit-10-0 (10.0.130-1) ...\n",
            "Purging configuration files for cuda-toolkit-11-0 (11.0.3-1) ...\n",
            "Purging configuration files for cuda-toolkit-10-1 (10.1.243-1) ...\n",
            "Purging configuration files for cuda-visual-tools-11-0 (11.0.3-1) ...\n",
            "openjdk version \"1.8.0_282\"\n",
            "OpenJDK Runtime Environment (build 1.8.0_282-8u282-b08-0ubuntu1~18.04-b08)\n",
            "OpenJDK 64-Bit Server VM (build 25.282-b08, mixed mode)\n"
          ],
          "name": "stdout"
        }
      ]
    },
    {
      "cell_type": "markdown",
      "metadata": {
        "id": "9zII8VL8t27G"
      },
      "source": [
        "# Importing Libraries"
      ]
    },
    {
      "cell_type": "code",
      "metadata": {
        "colab": {
          "base_uri": "https://localhost:8080/"
        },
        "id": "3Wp8rJB_DN6B",
        "outputId": "fe4fd3f5-8339-4502-aba1-1205208a9ed7"
      },
      "source": [
        "!pip install transformers\n",
        "!pip install language_check"
      ],
      "execution_count": null,
      "outputs": [
        {
          "output_type": "stream",
          "text": [
            "Collecting transformers\n",
            "\u001b[?25l  Downloading https://files.pythonhosted.org/packages/d8/b2/57495b5309f09fa501866e225c84532d1fd89536ea62406b2181933fb418/transformers-4.5.1-py3-none-any.whl (2.1MB)\n",
            "\u001b[K     |████████████████████████████████| 2.1MB 5.7MB/s \n",
            "\u001b[?25hRequirement already satisfied: numpy>=1.17 in /usr/local/lib/python3.7/dist-packages (from transformers) (1.19.5)\n",
            "Collecting sacremoses\n",
            "\u001b[?25l  Downloading https://files.pythonhosted.org/packages/75/ee/67241dc87f266093c533a2d4d3d69438e57d7a90abb216fa076e7d475d4a/sacremoses-0.0.45-py3-none-any.whl (895kB)\n",
            "\u001b[K     |████████████████████████████████| 901kB 35.7MB/s \n",
            "\u001b[?25hCollecting tokenizers<0.11,>=0.10.1\n",
            "\u001b[?25l  Downloading https://files.pythonhosted.org/packages/ae/04/5b870f26a858552025a62f1649c20d29d2672c02ff3c3fb4c688ca46467a/tokenizers-0.10.2-cp37-cp37m-manylinux2010_x86_64.whl (3.3MB)\n",
            "\u001b[K     |████████████████████████████████| 3.3MB 34.7MB/s \n",
            "\u001b[?25hRequirement already satisfied: packaging in /usr/local/lib/python3.7/dist-packages (from transformers) (20.9)\n",
            "Requirement already satisfied: regex!=2019.12.17 in /usr/local/lib/python3.7/dist-packages (from transformers) (2019.12.20)\n",
            "Requirement already satisfied: filelock in /usr/local/lib/python3.7/dist-packages (from transformers) (3.0.12)\n",
            "Requirement already satisfied: requests in /usr/local/lib/python3.7/dist-packages (from transformers) (2.23.0)\n",
            "Requirement already satisfied: tqdm>=4.27 in /usr/local/lib/python3.7/dist-packages (from transformers) (4.41.1)\n",
            "Requirement already satisfied: importlib-metadata; python_version < \"3.8\" in /usr/local/lib/python3.7/dist-packages (from transformers) (3.10.1)\n",
            "Requirement already satisfied: click in /usr/local/lib/python3.7/dist-packages (from sacremoses->transformers) (7.1.2)\n",
            "Requirement already satisfied: joblib in /usr/local/lib/python3.7/dist-packages (from sacremoses->transformers) (1.0.1)\n",
            "Requirement already satisfied: six in /usr/local/lib/python3.7/dist-packages (from sacremoses->transformers) (1.15.0)\n",
            "Requirement already satisfied: pyparsing>=2.0.2 in /usr/local/lib/python3.7/dist-packages (from packaging->transformers) (2.4.7)\n",
            "Requirement already satisfied: idna<3,>=2.5 in /usr/local/lib/python3.7/dist-packages (from requests->transformers) (2.10)\n",
            "Requirement already satisfied: certifi>=2017.4.17 in /usr/local/lib/python3.7/dist-packages (from requests->transformers) (2020.12.5)\n",
            "Requirement already satisfied: urllib3!=1.25.0,!=1.25.1,<1.26,>=1.21.1 in /usr/local/lib/python3.7/dist-packages (from requests->transformers) (1.24.3)\n",
            "Requirement already satisfied: chardet<4,>=3.0.2 in /usr/local/lib/python3.7/dist-packages (from requests->transformers) (3.0.4)\n",
            "Requirement already satisfied: zipp>=0.5 in /usr/local/lib/python3.7/dist-packages (from importlib-metadata; python_version < \"3.8\"->transformers) (3.4.1)\n",
            "Requirement already satisfied: typing-extensions>=3.6.4; python_version < \"3.8\" in /usr/local/lib/python3.7/dist-packages (from importlib-metadata; python_version < \"3.8\"->transformers) (3.7.4.3)\n",
            "Installing collected packages: sacremoses, tokenizers, transformers\n",
            "Successfully installed sacremoses-0.0.45 tokenizers-0.10.2 transformers-4.5.1\n",
            "Collecting language_check\n",
            "  Downloading https://files.pythonhosted.org/packages/97/45/0fd1d3683d6129f30fa09143fa383cdf6dff8bc0d1648f2cf156109cb772/language-check-1.1.tar.gz\n",
            "Building wheels for collected packages: language-check\n",
            "  Building wheel for language-check (setup.py) ... \u001b[?25l\u001b[?25hdone\n",
            "  Created wheel for language-check: filename=language_check-1.1-cp37-none-any.whl size=90190897 sha256=6c46fe6422bfe85d2b5fda6ada77917fa9c484a17c0612b9a99e1d9f5c7190ea\n",
            "  Stored in directory: /root/.cache/pip/wheels/d5/46/82/90a89c23eac1837364ed7217a9eed71bc9e6ad4825be93968e\n",
            "Successfully built language-check\n",
            "Installing collected packages: language-check\n",
            "Successfully installed language-check-1.1\n"
          ],
          "name": "stdout"
        }
      ]
    },
    {
      "cell_type": "code",
      "metadata": {
        "id": "t3px79vcDWe1"
      },
      "source": [
        "import json\n",
        "import torch\n",
        "import math\n",
        "import numpy as np\n",
        "import pandas as pd\n",
        "import language_check\n",
        "import matplotlib.pyplot as plt\n",
        "from google.colab import files\n",
        "from transformers import GPT2LMHeadModel, GPT2TokenizerFast"
      ],
      "execution_count": null,
      "outputs": []
    },
    {
      "cell_type": "code",
      "metadata": {
        "id": "YT49k5Z0mmEV"
      },
      "source": [
        "tool_us = language_check.LanguageTool('en-US')\n",
        "tool_uk = language_check.LanguageTool('en-GB')"
      ],
      "execution_count": null,
      "outputs": []
    },
    {
      "cell_type": "markdown",
      "metadata": {
        "id": "ylAiZOjet6B7"
      },
      "source": [
        "# Reading Dataset"
      ]
    },
    {
      "cell_type": "code",
      "metadata": {
        "id": "ax16JtDvrQ21"
      },
      "source": [
        "df = pd.read_csv(\"/content/drive/MyDrive/Colab Notebooks/haiku/results.tsv\", sep='\\t')"
      ],
      "execution_count": 12,
      "outputs": []
    },
    {
      "cell_type": "code",
      "metadata": {
        "id": "95xjsG-du948",
        "colab": {
          "base_uri": "https://localhost:8080/",
          "height": 212
        },
        "outputId": "104d9536-a187-407c-9f0d-37b307b309f3"
      },
      "source": [
        "print(df.shape)\n",
        "df.head()"
      ],
      "execution_count": 13,
      "outputs": [
        {
          "output_type": "stream",
          "text": [
            "(37797, 4)\n"
          ],
          "name": "stdout"
        },
        {
          "output_type": "execute_result",
          "data": {
            "text/html": [
              "<div>\n",
              "<style scoped>\n",
              "    .dataframe tbody tr th:only-of-type {\n",
              "        vertical-align: middle;\n",
              "    }\n",
              "\n",
              "    .dataframe tbody tr th {\n",
              "        vertical-align: top;\n",
              "    }\n",
              "\n",
              "    .dataframe thead th {\n",
              "        text-align: right;\n",
              "    }\n",
              "</style>\n",
              "<table border=\"1\" class=\"dataframe\">\n",
              "  <thead>\n",
              "    <tr style=\"text-align: right;\">\n",
              "      <th></th>\n",
              "      <th>model</th>\n",
              "      <th>type</th>\n",
              "      <th>poem</th>\n",
              "      <th>haiku</th>\n",
              "    </tr>\n",
              "  </thead>\n",
              "  <tbody>\n",
              "    <tr>\n",
              "      <th>0</th>\n",
              "      <td>bert-clean</td>\n",
              "      <td>stf-bert-test-clean</td>\n",
              "      <td>another thought comes to mind, before it can b...</td>\n",
              "      <td>thought comes thoughts, sleepless</td>\n",
              "    </tr>\n",
              "    <tr>\n",
              "      <th>1</th>\n",
              "      <td>bert-clean</td>\n",
              "      <td>stf-bert-test-clean</td>\n",
              "      <td>homework is such a bore others never do it m y...</td>\n",
              "      <td>homework others a ton</td>\n",
              "    </tr>\n",
              "    <tr>\n",
              "      <th>2</th>\n",
              "      <td>bert-clean</td>\n",
              "      <td>stf-bert-test-clean</td>\n",
              "      <td>i had a gig-horse, and i called him pleasure b...</td>\n",
              "      <td>sundays a little jaunt</td>\n",
              "    </tr>\n",
              "    <tr>\n",
              "      <th>3</th>\n",
              "      <td>bert-clean</td>\n",
              "      <td>stf-bert-test-clean</td>\n",
              "      <td>the allegory - 101 march 7, 2019 the forest is...</td>\n",
              "      <td>allegory the small full ferocious animals,</td>\n",
              "    </tr>\n",
              "    <tr>\n",
              "      <th>4</th>\n",
              "      <td>bert-clean</td>\n",
              "      <td>stf-bert-test-clean</td>\n",
              "      <td>the allegory - 161 march 18, 2019 the state is...</td>\n",
              "      <td>allegory the state full ferocious animals all ...</td>\n",
              "    </tr>\n",
              "  </tbody>\n",
              "</table>\n",
              "</div>"
            ],
            "text/plain": [
              "        model  ...                                              haiku\n",
              "0  bert-clean  ...                  thought comes thoughts, sleepless\n",
              "1  bert-clean  ...                              homework others a ton\n",
              "2  bert-clean  ...                             sundays a little jaunt\n",
              "3  bert-clean  ...         allegory the small full ferocious animals,\n",
              "4  bert-clean  ...  allegory the state full ferocious animals all ...\n",
              "\n",
              "[5 rows x 4 columns]"
            ]
          },
          "metadata": {
            "tags": []
          },
          "execution_count": 13
        }
      ]
    },
    {
      "cell_type": "markdown",
      "metadata": {
        "id": "eFphLqB_D91W"
      },
      "source": [
        "# Defining Functions"
      ]
    },
    {
      "cell_type": "code",
      "metadata": {
        "id": "yH_N9nvwDdXa"
      },
      "source": [
        "def perplexityGPT2(sentences):\n",
        "  model_id = 'gpt2'\n",
        "  model = GPT2LMHeadModel.from_pretrained(model_id)\n",
        "  tokenizer = GPT2TokenizerFast.from_pretrained(model_id)\n",
        "\n",
        "  ppl = list()\n",
        "  total_length = len(sentences)\n",
        "  for index, sent in enumerate(sentences):\n",
        "    if not (index+1)%1000:\n",
        "      print(f\"{index+1}/{total_length}\")\n",
        "    tokenize_input = tokenizer.encode(sent)\n",
        "    tensor_input = torch.tensor([tokenize_input])\n",
        "    loss = model(tensor_input, labels=tensor_input)[0]\n",
        "    ppl.append(math.exp(loss))\n",
        "\n",
        "  return ppl"
      ],
      "execution_count": 14,
      "outputs": []
    },
    {
      "cell_type": "code",
      "metadata": {
        "id": "Uz0Tn87tmxhk"
      },
      "source": [
        "def checkGrammar(sentences):\n",
        "  result = list()\n",
        "  total_length = len(sentences)\n",
        "  for index, sent in enumerate(sentences):\n",
        "    if not (index+1)%1000:\n",
        "      print(f\"{index+1}/{total_length}\")\n",
        "    flag_us = not bool(tool_us.check(sent))\n",
        "    flag_uk = not bool(tool_uk.check(sent))\n",
        "    result.append(flag_us or flag_uk)\n",
        "  return result"
      ],
      "execution_count": 15,
      "outputs": []
    },
    {
      "cell_type": "markdown",
      "metadata": {
        "id": "-1mz4I-hpS5E"
      },
      "source": [
        "# Calculating Perplexity"
      ]
    },
    {
      "cell_type": "code",
      "metadata": {
        "id": "qVGBu7jcNxHy"
      },
      "source": [
        "ppl_scores_gpt2 = perplexityGPT2(list(df[\"haiku\"].values))\n",
        "df[\"ppl-gpt2\"] = ppl_scores_gpt2"
      ],
      "execution_count": null,
      "outputs": []
    },
    {
      "cell_type": "markdown",
      "metadata": {
        "id": "aQ2cgAicpW8l"
      },
      "source": [
        "# Checking Grammar"
      ]
    },
    {
      "cell_type": "code",
      "metadata": {
        "colab": {
          "base_uri": "https://localhost:8080/",
          "height": 454
        },
        "id": "ssJHs2uBm6cI",
        "outputId": "16b0c87f-b8af-49fa-8ab0-95cfa2a38107"
      },
      "source": [
        "grammar_checks = checkGrammar(list(df[\"haiku\"].values))\n",
        "df[\"grammar-check\"] = grammar_checks"
      ],
      "execution_count": null,
      "outputs": [
        {
          "output_type": "stream",
          "text": [
            "1000/54629\n",
            "2000/54629\n",
            "3000/54629\n",
            "4000/54629\n",
            "5000/54629\n",
            "6000/54629\n",
            "7000/54629\n",
            "8000/54629\n"
          ],
          "name": "stdout"
        },
        {
          "output_type": "error",
          "ename": "KeyboardInterrupt",
          "evalue": "ignored",
          "traceback": [
            "\u001b[0;31m---------------------------------------------------------------------------\u001b[0m",
            "\u001b[0;31mKeyboardInterrupt\u001b[0m                         Traceback (most recent call last)",
            "\u001b[0;32m<ipython-input-20-2fa4a19f18f6>\u001b[0m in \u001b[0;36m<module>\u001b[0;34m()\u001b[0m\n\u001b[0;32m----> 1\u001b[0;31m \u001b[0mgrammar_checks\u001b[0m \u001b[0;34m=\u001b[0m \u001b[0mcheckGrammar\u001b[0m\u001b[0;34m(\u001b[0m\u001b[0mlist\u001b[0m\u001b[0;34m(\u001b[0m\u001b[0mdf\u001b[0m\u001b[0;34m[\u001b[0m\u001b[0;34m\"haiku\"\u001b[0m\u001b[0;34m]\u001b[0m\u001b[0;34m.\u001b[0m\u001b[0mvalues\u001b[0m\u001b[0;34m)\u001b[0m\u001b[0;34m)\u001b[0m\u001b[0;34m\u001b[0m\u001b[0;34m\u001b[0m\u001b[0m\n\u001b[0m\u001b[1;32m      2\u001b[0m \u001b[0mdf\u001b[0m\u001b[0;34m[\u001b[0m\u001b[0;34m\"grammar-check\"\u001b[0m\u001b[0;34m]\u001b[0m \u001b[0;34m=\u001b[0m \u001b[0mgrammar_checks\u001b[0m\u001b[0;34m\u001b[0m\u001b[0;34m\u001b[0m\u001b[0m\n",
            "\u001b[0;32m<ipython-input-19-f7c05bd4d3c8>\u001b[0m in \u001b[0;36mcheckGrammar\u001b[0;34m(sentences)\u001b[0m\n\u001b[1;32m      6\u001b[0m       \u001b[0mprint\u001b[0m\u001b[0;34m(\u001b[0m\u001b[0;34mf\"{index+1}/{total_length}\"\u001b[0m\u001b[0;34m)\u001b[0m\u001b[0;34m\u001b[0m\u001b[0;34m\u001b[0m\u001b[0m\n\u001b[1;32m      7\u001b[0m     \u001b[0mflag_us\u001b[0m \u001b[0;34m=\u001b[0m \u001b[0;32mnot\u001b[0m \u001b[0mbool\u001b[0m\u001b[0;34m(\u001b[0m\u001b[0mtool_us\u001b[0m\u001b[0;34m.\u001b[0m\u001b[0mcheck\u001b[0m\u001b[0;34m(\u001b[0m\u001b[0msent\u001b[0m\u001b[0;34m)\u001b[0m\u001b[0;34m)\u001b[0m\u001b[0;34m\u001b[0m\u001b[0;34m\u001b[0m\u001b[0m\n\u001b[0;32m----> 8\u001b[0;31m     \u001b[0mflag_uk\u001b[0m \u001b[0;34m=\u001b[0m \u001b[0;32mnot\u001b[0m \u001b[0mbool\u001b[0m\u001b[0;34m(\u001b[0m\u001b[0mtool_uk\u001b[0m\u001b[0;34m.\u001b[0m\u001b[0mcheck\u001b[0m\u001b[0;34m(\u001b[0m\u001b[0msent\u001b[0m\u001b[0;34m)\u001b[0m\u001b[0;34m)\u001b[0m\u001b[0;34m\u001b[0m\u001b[0;34m\u001b[0m\u001b[0m\n\u001b[0m\u001b[1;32m      9\u001b[0m     \u001b[0mresult\u001b[0m\u001b[0;34m.\u001b[0m\u001b[0mappend\u001b[0m\u001b[0;34m(\u001b[0m\u001b[0mflag_us\u001b[0m \u001b[0;32mor\u001b[0m \u001b[0mflag_uk\u001b[0m\u001b[0;34m)\u001b[0m\u001b[0;34m\u001b[0m\u001b[0;34m\u001b[0m\u001b[0m\n\u001b[1;32m     10\u001b[0m   \u001b[0;32mreturn\u001b[0m \u001b[0mresult\u001b[0m\u001b[0;34m\u001b[0m\u001b[0;34m\u001b[0m\u001b[0m\n",
            "\u001b[0;32m/usr/local/lib/python3.7/dist-packages/language_check/__init__.py\u001b[0m in \u001b[0;36mcheck\u001b[0;34m(self, text, srctext)\u001b[0m\n\u001b[1;32m    248\u001b[0m     \u001b[0;32mdef\u001b[0m \u001b[0mcheck\u001b[0m\u001b[0;34m(\u001b[0m\u001b[0mself\u001b[0m\u001b[0;34m,\u001b[0m \u001b[0mtext\u001b[0m\u001b[0;34m:\u001b[0m \u001b[0mstr\u001b[0m\u001b[0;34m,\u001b[0m \u001b[0msrctext\u001b[0m\u001b[0;34m=\u001b[0m\u001b[0;32mNone\u001b[0m\u001b[0;34m)\u001b[0m \u001b[0;34m->\u001b[0m \u001b[0;34m[\u001b[0m\u001b[0mMatch\u001b[0m\u001b[0;34m]\u001b[0m\u001b[0;34m:\u001b[0m\u001b[0;34m\u001b[0m\u001b[0;34m\u001b[0m\u001b[0m\n\u001b[1;32m    249\u001b[0m         \u001b[0;34m\"\"\"Match text against enabled rules.\"\"\"\u001b[0m\u001b[0;34m\u001b[0m\u001b[0;34m\u001b[0m\u001b[0m\n\u001b[0;32m--> 250\u001b[0;31m         \u001b[0mroot\u001b[0m \u001b[0;34m=\u001b[0m \u001b[0mself\u001b[0m\u001b[0;34m.\u001b[0m\u001b[0m_get_root\u001b[0m\u001b[0;34m(\u001b[0m\u001b[0mself\u001b[0m\u001b[0;34m.\u001b[0m\u001b[0m_url\u001b[0m\u001b[0;34m,\u001b[0m \u001b[0mself\u001b[0m\u001b[0;34m.\u001b[0m\u001b[0m_encode\u001b[0m\u001b[0;34m(\u001b[0m\u001b[0mtext\u001b[0m\u001b[0;34m,\u001b[0m \u001b[0msrctext\u001b[0m\u001b[0;34m)\u001b[0m\u001b[0;34m)\u001b[0m\u001b[0;34m\u001b[0m\u001b[0;34m\u001b[0m\u001b[0m\n\u001b[0m\u001b[1;32m    251\u001b[0m         \u001b[0;32mreturn\u001b[0m \u001b[0;34m[\u001b[0m\u001b[0mMatch\u001b[0m\u001b[0;34m(\u001b[0m\u001b[0me\u001b[0m\u001b[0;34m.\u001b[0m\u001b[0mattrib\u001b[0m\u001b[0;34m)\u001b[0m \u001b[0;32mfor\u001b[0m \u001b[0me\u001b[0m \u001b[0;32min\u001b[0m \u001b[0mroot\u001b[0m \u001b[0;32mif\u001b[0m \u001b[0me\u001b[0m\u001b[0;34m.\u001b[0m\u001b[0mtag\u001b[0m \u001b[0;34m==\u001b[0m \u001b[0;34m'error'\u001b[0m\u001b[0;34m]\u001b[0m\u001b[0;34m\u001b[0m\u001b[0;34m\u001b[0m\u001b[0m\n\u001b[1;32m    252\u001b[0m \u001b[0;34m\u001b[0m\u001b[0m\n",
            "\u001b[0;32m/usr/local/lib/python3.7/dist-packages/language_check/__init__.py\u001b[0m in \u001b[0;36m_get_root\u001b[0;34m(cls, url, data, num_tries)\u001b[0m\n\u001b[1;32m    317\u001b[0m         \u001b[0;32mfor\u001b[0m \u001b[0mn\u001b[0m \u001b[0;32min\u001b[0m \u001b[0mrange\u001b[0m\u001b[0;34m(\u001b[0m\u001b[0mnum_tries\u001b[0m\u001b[0;34m)\u001b[0m\u001b[0;34m:\u001b[0m\u001b[0;34m\u001b[0m\u001b[0;34m\u001b[0m\u001b[0m\n\u001b[1;32m    318\u001b[0m             \u001b[0;32mtry\u001b[0m\u001b[0;34m:\u001b[0m\u001b[0;34m\u001b[0m\u001b[0;34m\u001b[0m\u001b[0m\n\u001b[0;32m--> 319\u001b[0;31m                 \u001b[0;32mwith\u001b[0m \u001b[0murlopen\u001b[0m\u001b[0;34m(\u001b[0m\u001b[0murl\u001b[0m\u001b[0;34m,\u001b[0m \u001b[0mdata\u001b[0m\u001b[0;34m,\u001b[0m \u001b[0mcls\u001b[0m\u001b[0;34m.\u001b[0m\u001b[0m_TIMEOUT\u001b[0m\u001b[0;34m)\u001b[0m \u001b[0;32mas\u001b[0m \u001b[0mf\u001b[0m\u001b[0;34m:\u001b[0m\u001b[0;34m\u001b[0m\u001b[0;34m\u001b[0m\u001b[0m\n\u001b[0m\u001b[1;32m    320\u001b[0m                     \u001b[0;32mreturn\u001b[0m \u001b[0mElementTree\u001b[0m\u001b[0;34m.\u001b[0m\u001b[0mparse\u001b[0m\u001b[0;34m(\u001b[0m\u001b[0mf\u001b[0m\u001b[0;34m)\u001b[0m\u001b[0;34m.\u001b[0m\u001b[0mgetroot\u001b[0m\u001b[0;34m(\u001b[0m\u001b[0;34m)\u001b[0m\u001b[0;34m\u001b[0m\u001b[0;34m\u001b[0m\u001b[0m\n\u001b[1;32m    321\u001b[0m             \u001b[0;32mexcept\u001b[0m \u001b[0;34m(\u001b[0m\u001b[0mIOError\u001b[0m\u001b[0;34m,\u001b[0m \u001b[0mhttp\u001b[0m\u001b[0;34m.\u001b[0m\u001b[0mclient\u001b[0m\u001b[0;34m.\u001b[0m\u001b[0mHTTPException\u001b[0m\u001b[0;34m)\u001b[0m \u001b[0;32mas\u001b[0m \u001b[0me\u001b[0m\u001b[0;34m:\u001b[0m\u001b[0;34m\u001b[0m\u001b[0;34m\u001b[0m\u001b[0m\n",
            "\u001b[0;32m/usr/lib/python3.7/urllib/request.py\u001b[0m in \u001b[0;36murlopen\u001b[0;34m(url, data, timeout, cafile, capath, cadefault, context)\u001b[0m\n\u001b[1;32m    220\u001b[0m     \u001b[0;32melse\u001b[0m\u001b[0;34m:\u001b[0m\u001b[0;34m\u001b[0m\u001b[0;34m\u001b[0m\u001b[0m\n\u001b[1;32m    221\u001b[0m         \u001b[0mopener\u001b[0m \u001b[0;34m=\u001b[0m \u001b[0m_opener\u001b[0m\u001b[0;34m\u001b[0m\u001b[0;34m\u001b[0m\u001b[0m\n\u001b[0;32m--> 222\u001b[0;31m     \u001b[0;32mreturn\u001b[0m \u001b[0mopener\u001b[0m\u001b[0;34m.\u001b[0m\u001b[0mopen\u001b[0m\u001b[0;34m(\u001b[0m\u001b[0murl\u001b[0m\u001b[0;34m,\u001b[0m \u001b[0mdata\u001b[0m\u001b[0;34m,\u001b[0m \u001b[0mtimeout\u001b[0m\u001b[0;34m)\u001b[0m\u001b[0;34m\u001b[0m\u001b[0;34m\u001b[0m\u001b[0m\n\u001b[0m\u001b[1;32m    223\u001b[0m \u001b[0;34m\u001b[0m\u001b[0m\n\u001b[1;32m    224\u001b[0m \u001b[0;32mdef\u001b[0m \u001b[0minstall_opener\u001b[0m\u001b[0;34m(\u001b[0m\u001b[0mopener\u001b[0m\u001b[0;34m)\u001b[0m\u001b[0;34m:\u001b[0m\u001b[0;34m\u001b[0m\u001b[0;34m\u001b[0m\u001b[0m\n",
            "\u001b[0;32m/usr/lib/python3.7/urllib/request.py\u001b[0m in \u001b[0;36mopen\u001b[0;34m(self, fullurl, data, timeout)\u001b[0m\n\u001b[1;32m    523\u001b[0m             \u001b[0mreq\u001b[0m \u001b[0;34m=\u001b[0m \u001b[0mmeth\u001b[0m\u001b[0;34m(\u001b[0m\u001b[0mreq\u001b[0m\u001b[0;34m)\u001b[0m\u001b[0;34m\u001b[0m\u001b[0;34m\u001b[0m\u001b[0m\n\u001b[1;32m    524\u001b[0m \u001b[0;34m\u001b[0m\u001b[0m\n\u001b[0;32m--> 525\u001b[0;31m         \u001b[0mresponse\u001b[0m \u001b[0;34m=\u001b[0m \u001b[0mself\u001b[0m\u001b[0;34m.\u001b[0m\u001b[0m_open\u001b[0m\u001b[0;34m(\u001b[0m\u001b[0mreq\u001b[0m\u001b[0;34m,\u001b[0m \u001b[0mdata\u001b[0m\u001b[0;34m)\u001b[0m\u001b[0;34m\u001b[0m\u001b[0;34m\u001b[0m\u001b[0m\n\u001b[0m\u001b[1;32m    526\u001b[0m \u001b[0;34m\u001b[0m\u001b[0m\n\u001b[1;32m    527\u001b[0m         \u001b[0;31m# post-process response\u001b[0m\u001b[0;34m\u001b[0m\u001b[0;34m\u001b[0m\u001b[0;34m\u001b[0m\u001b[0m\n",
            "\u001b[0;32m/usr/lib/python3.7/urllib/request.py\u001b[0m in \u001b[0;36m_open\u001b[0;34m(self, req, data)\u001b[0m\n\u001b[1;32m    541\u001b[0m         \u001b[0mprotocol\u001b[0m \u001b[0;34m=\u001b[0m \u001b[0mreq\u001b[0m\u001b[0;34m.\u001b[0m\u001b[0mtype\u001b[0m\u001b[0;34m\u001b[0m\u001b[0;34m\u001b[0m\u001b[0m\n\u001b[1;32m    542\u001b[0m         result = self._call_chain(self.handle_open, protocol, protocol +\n\u001b[0;32m--> 543\u001b[0;31m                                   '_open', req)\n\u001b[0m\u001b[1;32m    544\u001b[0m         \u001b[0;32mif\u001b[0m \u001b[0mresult\u001b[0m\u001b[0;34m:\u001b[0m\u001b[0;34m\u001b[0m\u001b[0;34m\u001b[0m\u001b[0m\n\u001b[1;32m    545\u001b[0m             \u001b[0;32mreturn\u001b[0m \u001b[0mresult\u001b[0m\u001b[0;34m\u001b[0m\u001b[0;34m\u001b[0m\u001b[0m\n",
            "\u001b[0;32m/usr/lib/python3.7/urllib/request.py\u001b[0m in \u001b[0;36m_call_chain\u001b[0;34m(self, chain, kind, meth_name, *args)\u001b[0m\n\u001b[1;32m    501\u001b[0m         \u001b[0;32mfor\u001b[0m \u001b[0mhandler\u001b[0m \u001b[0;32min\u001b[0m \u001b[0mhandlers\u001b[0m\u001b[0;34m:\u001b[0m\u001b[0;34m\u001b[0m\u001b[0;34m\u001b[0m\u001b[0m\n\u001b[1;32m    502\u001b[0m             \u001b[0mfunc\u001b[0m \u001b[0;34m=\u001b[0m \u001b[0mgetattr\u001b[0m\u001b[0;34m(\u001b[0m\u001b[0mhandler\u001b[0m\u001b[0;34m,\u001b[0m \u001b[0mmeth_name\u001b[0m\u001b[0;34m)\u001b[0m\u001b[0;34m\u001b[0m\u001b[0;34m\u001b[0m\u001b[0m\n\u001b[0;32m--> 503\u001b[0;31m             \u001b[0mresult\u001b[0m \u001b[0;34m=\u001b[0m \u001b[0mfunc\u001b[0m\u001b[0;34m(\u001b[0m\u001b[0;34m*\u001b[0m\u001b[0margs\u001b[0m\u001b[0;34m)\u001b[0m\u001b[0;34m\u001b[0m\u001b[0;34m\u001b[0m\u001b[0m\n\u001b[0m\u001b[1;32m    504\u001b[0m             \u001b[0;32mif\u001b[0m \u001b[0mresult\u001b[0m \u001b[0;32mis\u001b[0m \u001b[0;32mnot\u001b[0m \u001b[0;32mNone\u001b[0m\u001b[0;34m:\u001b[0m\u001b[0;34m\u001b[0m\u001b[0;34m\u001b[0m\u001b[0m\n\u001b[1;32m    505\u001b[0m                 \u001b[0;32mreturn\u001b[0m \u001b[0mresult\u001b[0m\u001b[0;34m\u001b[0m\u001b[0;34m\u001b[0m\u001b[0m\n",
            "\u001b[0;32m/usr/lib/python3.7/urllib/request.py\u001b[0m in \u001b[0;36mhttp_open\u001b[0;34m(self, req)\u001b[0m\n\u001b[1;32m   1376\u001b[0m \u001b[0;34m\u001b[0m\u001b[0m\n\u001b[1;32m   1377\u001b[0m     \u001b[0;32mdef\u001b[0m \u001b[0mhttp_open\u001b[0m\u001b[0;34m(\u001b[0m\u001b[0mself\u001b[0m\u001b[0;34m,\u001b[0m \u001b[0mreq\u001b[0m\u001b[0;34m)\u001b[0m\u001b[0;34m:\u001b[0m\u001b[0;34m\u001b[0m\u001b[0;34m\u001b[0m\u001b[0m\n\u001b[0;32m-> 1378\u001b[0;31m         \u001b[0;32mreturn\u001b[0m \u001b[0mself\u001b[0m\u001b[0;34m.\u001b[0m\u001b[0mdo_open\u001b[0m\u001b[0;34m(\u001b[0m\u001b[0mhttp\u001b[0m\u001b[0;34m.\u001b[0m\u001b[0mclient\u001b[0m\u001b[0;34m.\u001b[0m\u001b[0mHTTPConnection\u001b[0m\u001b[0;34m,\u001b[0m \u001b[0mreq\u001b[0m\u001b[0;34m)\u001b[0m\u001b[0;34m\u001b[0m\u001b[0;34m\u001b[0m\u001b[0m\n\u001b[0m\u001b[1;32m   1379\u001b[0m \u001b[0;34m\u001b[0m\u001b[0m\n\u001b[1;32m   1380\u001b[0m     \u001b[0mhttp_request\u001b[0m \u001b[0;34m=\u001b[0m \u001b[0mAbstractHTTPHandler\u001b[0m\u001b[0;34m.\u001b[0m\u001b[0mdo_request_\u001b[0m\u001b[0;34m\u001b[0m\u001b[0;34m\u001b[0m\u001b[0m\n",
            "\u001b[0;32m/usr/lib/python3.7/urllib/request.py\u001b[0m in \u001b[0;36mdo_open\u001b[0;34m(self, http_class, req, **http_conn_args)\u001b[0m\n\u001b[1;32m   1351\u001b[0m             \u001b[0;32mexcept\u001b[0m \u001b[0mOSError\u001b[0m \u001b[0;32mas\u001b[0m \u001b[0merr\u001b[0m\u001b[0;34m:\u001b[0m \u001b[0;31m# timeout error\u001b[0m\u001b[0;34m\u001b[0m\u001b[0;34m\u001b[0m\u001b[0m\n\u001b[1;32m   1352\u001b[0m                 \u001b[0;32mraise\u001b[0m \u001b[0mURLError\u001b[0m\u001b[0;34m(\u001b[0m\u001b[0merr\u001b[0m\u001b[0;34m)\u001b[0m\u001b[0;34m\u001b[0m\u001b[0;34m\u001b[0m\u001b[0m\n\u001b[0;32m-> 1353\u001b[0;31m             \u001b[0mr\u001b[0m \u001b[0;34m=\u001b[0m \u001b[0mh\u001b[0m\u001b[0;34m.\u001b[0m\u001b[0mgetresponse\u001b[0m\u001b[0;34m(\u001b[0m\u001b[0;34m)\u001b[0m\u001b[0;34m\u001b[0m\u001b[0;34m\u001b[0m\u001b[0m\n\u001b[0m\u001b[1;32m   1354\u001b[0m         \u001b[0;32mexcept\u001b[0m\u001b[0;34m:\u001b[0m\u001b[0;34m\u001b[0m\u001b[0;34m\u001b[0m\u001b[0m\n\u001b[1;32m   1355\u001b[0m             \u001b[0mh\u001b[0m\u001b[0;34m.\u001b[0m\u001b[0mclose\u001b[0m\u001b[0;34m(\u001b[0m\u001b[0;34m)\u001b[0m\u001b[0;34m\u001b[0m\u001b[0;34m\u001b[0m\u001b[0m\n",
            "\u001b[0;32m/usr/lib/python3.7/http/client.py\u001b[0m in \u001b[0;36mgetresponse\u001b[0;34m(self)\u001b[0m\n\u001b[1;32m   1367\u001b[0m         \u001b[0;32mtry\u001b[0m\u001b[0;34m:\u001b[0m\u001b[0;34m\u001b[0m\u001b[0;34m\u001b[0m\u001b[0m\n\u001b[1;32m   1368\u001b[0m             \u001b[0;32mtry\u001b[0m\u001b[0;34m:\u001b[0m\u001b[0;34m\u001b[0m\u001b[0;34m\u001b[0m\u001b[0m\n\u001b[0;32m-> 1369\u001b[0;31m                 \u001b[0mresponse\u001b[0m\u001b[0;34m.\u001b[0m\u001b[0mbegin\u001b[0m\u001b[0;34m(\u001b[0m\u001b[0;34m)\u001b[0m\u001b[0;34m\u001b[0m\u001b[0;34m\u001b[0m\u001b[0m\n\u001b[0m\u001b[1;32m   1370\u001b[0m             \u001b[0;32mexcept\u001b[0m \u001b[0mConnectionError\u001b[0m\u001b[0;34m:\u001b[0m\u001b[0;34m\u001b[0m\u001b[0;34m\u001b[0m\u001b[0m\n\u001b[1;32m   1371\u001b[0m                 \u001b[0mself\u001b[0m\u001b[0;34m.\u001b[0m\u001b[0mclose\u001b[0m\u001b[0;34m(\u001b[0m\u001b[0;34m)\u001b[0m\u001b[0;34m\u001b[0m\u001b[0;34m\u001b[0m\u001b[0m\n",
            "\u001b[0;32m/usr/lib/python3.7/http/client.py\u001b[0m in \u001b[0;36mbegin\u001b[0;34m(self)\u001b[0m\n\u001b[1;32m    308\u001b[0m         \u001b[0;31m# read until we get a non-100 response\u001b[0m\u001b[0;34m\u001b[0m\u001b[0;34m\u001b[0m\u001b[0;34m\u001b[0m\u001b[0m\n\u001b[1;32m    309\u001b[0m         \u001b[0;32mwhile\u001b[0m \u001b[0;32mTrue\u001b[0m\u001b[0;34m:\u001b[0m\u001b[0;34m\u001b[0m\u001b[0;34m\u001b[0m\u001b[0m\n\u001b[0;32m--> 310\u001b[0;31m             \u001b[0mversion\u001b[0m\u001b[0;34m,\u001b[0m \u001b[0mstatus\u001b[0m\u001b[0;34m,\u001b[0m \u001b[0mreason\u001b[0m \u001b[0;34m=\u001b[0m \u001b[0mself\u001b[0m\u001b[0;34m.\u001b[0m\u001b[0m_read_status\u001b[0m\u001b[0;34m(\u001b[0m\u001b[0;34m)\u001b[0m\u001b[0;34m\u001b[0m\u001b[0;34m\u001b[0m\u001b[0m\n\u001b[0m\u001b[1;32m    311\u001b[0m             \u001b[0;32mif\u001b[0m \u001b[0mstatus\u001b[0m \u001b[0;34m!=\u001b[0m \u001b[0mCONTINUE\u001b[0m\u001b[0;34m:\u001b[0m\u001b[0;34m\u001b[0m\u001b[0;34m\u001b[0m\u001b[0m\n\u001b[1;32m    312\u001b[0m                 \u001b[0;32mbreak\u001b[0m\u001b[0;34m\u001b[0m\u001b[0;34m\u001b[0m\u001b[0m\n",
            "\u001b[0;32m/usr/lib/python3.7/http/client.py\u001b[0m in \u001b[0;36m_read_status\u001b[0;34m(self)\u001b[0m\n\u001b[1;32m    269\u001b[0m \u001b[0;34m\u001b[0m\u001b[0m\n\u001b[1;32m    270\u001b[0m     \u001b[0;32mdef\u001b[0m \u001b[0m_read_status\u001b[0m\u001b[0;34m(\u001b[0m\u001b[0mself\u001b[0m\u001b[0;34m)\u001b[0m\u001b[0;34m:\u001b[0m\u001b[0;34m\u001b[0m\u001b[0;34m\u001b[0m\u001b[0m\n\u001b[0;32m--> 271\u001b[0;31m         \u001b[0mline\u001b[0m \u001b[0;34m=\u001b[0m \u001b[0mstr\u001b[0m\u001b[0;34m(\u001b[0m\u001b[0mself\u001b[0m\u001b[0;34m.\u001b[0m\u001b[0mfp\u001b[0m\u001b[0;34m.\u001b[0m\u001b[0mreadline\u001b[0m\u001b[0;34m(\u001b[0m\u001b[0m_MAXLINE\u001b[0m \u001b[0;34m+\u001b[0m \u001b[0;36m1\u001b[0m\u001b[0;34m)\u001b[0m\u001b[0;34m,\u001b[0m \u001b[0;34m\"iso-8859-1\"\u001b[0m\u001b[0;34m)\u001b[0m\u001b[0;34m\u001b[0m\u001b[0;34m\u001b[0m\u001b[0m\n\u001b[0m\u001b[1;32m    272\u001b[0m         \u001b[0;32mif\u001b[0m \u001b[0mlen\u001b[0m\u001b[0;34m(\u001b[0m\u001b[0mline\u001b[0m\u001b[0;34m)\u001b[0m \u001b[0;34m>\u001b[0m \u001b[0m_MAXLINE\u001b[0m\u001b[0;34m:\u001b[0m\u001b[0;34m\u001b[0m\u001b[0;34m\u001b[0m\u001b[0m\n\u001b[1;32m    273\u001b[0m             \u001b[0;32mraise\u001b[0m \u001b[0mLineTooLong\u001b[0m\u001b[0;34m(\u001b[0m\u001b[0;34m\"status line\"\u001b[0m\u001b[0;34m)\u001b[0m\u001b[0;34m\u001b[0m\u001b[0;34m\u001b[0m\u001b[0m\n",
            "\u001b[0;32m/usr/lib/python3.7/socket.py\u001b[0m in \u001b[0;36mreadinto\u001b[0;34m(self, b)\u001b[0m\n\u001b[1;32m    587\u001b[0m         \u001b[0;32mwhile\u001b[0m \u001b[0;32mTrue\u001b[0m\u001b[0;34m:\u001b[0m\u001b[0;34m\u001b[0m\u001b[0;34m\u001b[0m\u001b[0m\n\u001b[1;32m    588\u001b[0m             \u001b[0;32mtry\u001b[0m\u001b[0;34m:\u001b[0m\u001b[0;34m\u001b[0m\u001b[0;34m\u001b[0m\u001b[0m\n\u001b[0;32m--> 589\u001b[0;31m                 \u001b[0;32mreturn\u001b[0m \u001b[0mself\u001b[0m\u001b[0;34m.\u001b[0m\u001b[0m_sock\u001b[0m\u001b[0;34m.\u001b[0m\u001b[0mrecv_into\u001b[0m\u001b[0;34m(\u001b[0m\u001b[0mb\u001b[0m\u001b[0;34m)\u001b[0m\u001b[0;34m\u001b[0m\u001b[0;34m\u001b[0m\u001b[0m\n\u001b[0m\u001b[1;32m    590\u001b[0m             \u001b[0;32mexcept\u001b[0m \u001b[0mtimeout\u001b[0m\u001b[0;34m:\u001b[0m\u001b[0;34m\u001b[0m\u001b[0;34m\u001b[0m\u001b[0m\n\u001b[1;32m    591\u001b[0m                 \u001b[0mself\u001b[0m\u001b[0;34m.\u001b[0m\u001b[0m_timeout_occurred\u001b[0m \u001b[0;34m=\u001b[0m \u001b[0;32mTrue\u001b[0m\u001b[0;34m\u001b[0m\u001b[0;34m\u001b[0m\u001b[0m\n",
            "\u001b[0;31mKeyboardInterrupt\u001b[0m: "
          ]
        }
      ]
    },
    {
      "cell_type": "markdown",
      "metadata": {
        "id": "9DMLVAYYpbOX"
      },
      "source": [
        "# Downloading Dataset"
      ]
    },
    {
      "cell_type": "code",
      "metadata": {
        "id": "9WtrFQAGl6aw"
      },
      "source": [
        "df.to_json(\"ppl-grammar-output.json\")\n",
        "df.to_csv(\"ppl-grammar-output.csv\", index=False, sep='\\t')"
      ],
      "execution_count": null,
      "outputs": []
    },
    {
      "cell_type": "code",
      "metadata": {
        "id": "likpoo4AtPIg"
      },
      "source": [
        "df.to_json(\"/content/drive/MyDrive/Colab Notebooks/ppl-grammar-output.json\")\n",
        "df.to_csv(\"/content/drive/MyDrive/Colab Notebooks/ppl-grammar-output.csv\", index=False, sep='\\t')"
      ],
      "execution_count": null,
      "outputs": []
    },
    {
      "cell_type": "code",
      "metadata": {
        "id": "ACu0B3THvzv4"
      },
      "source": [
        "files.download(\"ppl-grammar-output.json\")\n",
        "files.download(\"ppl-grammar-output.csv\")"
      ],
      "execution_count": null,
      "outputs": []
    }
  ]
}